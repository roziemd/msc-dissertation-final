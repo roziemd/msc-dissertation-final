{
 "cells": [
  {
   "cell_type": "markdown",
   "metadata": {},
   "source": [
    "# Supervised, Multi-Class Classification of Scam Reports: Analysis of Results"
   ]
  },
  {
   "cell_type": "markdown",
   "metadata": {},
   "source": [
    "The objective of this Python notebook is to analyse the results of the models trained in Experiments 1, 2 and 3. The main goal is to select the best multi-class classification model."
   ]
  },
  {
   "cell_type": "markdown",
   "metadata": {},
   "source": [
    "## Import the necessary libraries"
   ]
  },
  {
   "cell_type": "code",
   "execution_count": 1,
   "metadata": {},
   "outputs": [
    {
     "name": "stdout",
     "output_type": "stream",
     "text": [
      "Pretty printing has been turned OFF\n"
     ]
    }
   ],
   "source": [
    "import pandas as pd\n",
    "import numpy as np\n",
    "from pandas.api.types import CategoricalDtype\n",
    "import plotnine as p9\n",
    "from plotnine import *\n",
    "%pprint"
   ]
  },
  {
   "cell_type": "markdown",
   "metadata": {},
   "source": [
    "## Define functions"
   ]
  },
  {
   "cell_type": "code",
   "execution_count": 2,
   "metadata": {},
   "outputs": [],
   "source": [
    "def extract_scores(filename):\n",
    "    \n",
    "    \"\"\"This function reads a CSV file from a filepath and extracts the precision, recall and f1-scores.\"\"\"\n",
    "    \n",
    "    p = pd.read_csv(filename).loc[0:5,[\"Unnamed: 0\", \"precision\"]]\n",
    "    r = pd.read_csv(filename).loc[0:5,[\"Unnamed: 0\", \"recall\"]]\n",
    "    f = pd.read_csv(filename).loc[0:5,[\"Unnamed: 0\", \"f1-score\"]]\n",
    "     \n",
    "    return p, r, f"
   ]
  },
  {
   "cell_type": "code",
   "execution_count": 3,
   "metadata": {},
   "outputs": [],
   "source": [
    "def read_csv(path):\n",
    "    \n",
    "    \"\"\"This function reads a CSV file from a specified filepath, while preserving the data types of each variable.\n",
    "    Source: https://stackoverflow.com/questions/50047237/how-to-preserve-dtypes-of-dataframes-when-using-to-csv/50051542#50051542\"\"\"\n",
    "    \n",
    "    # Read types first line of csv\n",
    "    dtypes = {key:value for (key,value) in pd.read_csv(path, nrows=1).iloc[0].to_dict().items() if 'date' not in value}\n",
    "\n",
    "    parse_dates = [key for (key,value) in pd.read_csv(path, \n",
    "                   nrows=1).iloc[0].to_dict().items() if 'date' in value]\n",
    "    \n",
    "    # Read the rest of the lines with the types from above\n",
    "    return pd.read_csv(path, dtype=dtypes, parse_dates=parse_dates, skiprows=[1])"
   ]
  },
  {
   "cell_type": "markdown",
   "metadata": {},
   "source": [
    "## Load the results"
   ]
  },
  {
   "cell_type": "code",
   "execution_count": 4,
   "metadata": {},
   "outputs": [],
   "source": [
    "df1 = pd.read_csv(\"Results/scam_classification_results.csv\").drop(columns=\"Unnamed: 0\")\n",
    "df2 = pd.read_csv(\"Results/scam_classification_results_augmented_text.csv\").drop(columns=\"Unnamed: 0\")\n",
    "df3 = pd.read_csv(\"Results/scam_classification_results_smote.csv\").drop(columns=\"Unnamed: 0\")"
   ]
  },
  {
   "cell_type": "code",
   "execution_count": 5,
   "metadata": {},
   "outputs": [
    {
     "data": {
      "text/html": [
       "<div>\n",
       "<style scoped>\n",
       "    .dataframe tbody tr th:only-of-type {\n",
       "        vertical-align: middle;\n",
       "    }\n",
       "\n",
       "    .dataframe tbody tr th {\n",
       "        vertical-align: top;\n",
       "    }\n",
       "\n",
       "    .dataframe thead th {\n",
       "        text-align: right;\n",
       "    }\n",
       "</style>\n",
       "<table border=\"1\" class=\"dataframe\">\n",
       "  <thead>\n",
       "    <tr style=\"text-align: right;\">\n",
       "      <th></th>\n",
       "      <th>model</th>\n",
       "      <th>combi</th>\n",
       "      <th>mode</th>\n",
       "      <th>glove</th>\n",
       "      <th>fold_max</th>\n",
       "      <th>mean_acc</th>\n",
       "      <th>time</th>\n",
       "      <th>test_acc</th>\n",
       "    </tr>\n",
       "  </thead>\n",
       "  <tbody>\n",
       "    <tr>\n",
       "      <th>0</th>\n",
       "      <td>RNN</td>\n",
       "      <td>1</td>\n",
       "      <td>Experiment 1</td>\n",
       "      <td>Without GloVe</td>\n",
       "      <td>3</td>\n",
       "      <td>58.9</td>\n",
       "      <td>10.7</td>\n",
       "      <td>57.9</td>\n",
       "    </tr>\n",
       "    <tr>\n",
       "      <th>1</th>\n",
       "      <td>LSTM</td>\n",
       "      <td>1</td>\n",
       "      <td>Experiment 1</td>\n",
       "      <td>Without GloVe</td>\n",
       "      <td>1</td>\n",
       "      <td>85.2</td>\n",
       "      <td>22.6</td>\n",
       "      <td>81.9</td>\n",
       "    </tr>\n",
       "    <tr>\n",
       "      <th>2</th>\n",
       "      <td>BiLSTM</td>\n",
       "      <td>1</td>\n",
       "      <td>Experiment 1</td>\n",
       "      <td>Without GloVe</td>\n",
       "      <td>2</td>\n",
       "      <td>84.3</td>\n",
       "      <td>42.0</td>\n",
       "      <td>84.4</td>\n",
       "    </tr>\n",
       "    <tr>\n",
       "      <th>3</th>\n",
       "      <td>RNN</td>\n",
       "      <td>2</td>\n",
       "      <td>Experiment 1</td>\n",
       "      <td>With GloVe</td>\n",
       "      <td>2</td>\n",
       "      <td>62.3</td>\n",
       "      <td>8.8</td>\n",
       "      <td>61.4</td>\n",
       "    </tr>\n",
       "    <tr>\n",
       "      <th>4</th>\n",
       "      <td>LSTM</td>\n",
       "      <td>2</td>\n",
       "      <td>Experiment 1</td>\n",
       "      <td>With GloVe</td>\n",
       "      <td>4</td>\n",
       "      <td>86.9</td>\n",
       "      <td>26.4</td>\n",
       "      <td>86.6</td>\n",
       "    </tr>\n",
       "    <tr>\n",
       "      <th>5</th>\n",
       "      <td>BiLSTM</td>\n",
       "      <td>2</td>\n",
       "      <td>Experiment 1</td>\n",
       "      <td>With GloVe</td>\n",
       "      <td>4</td>\n",
       "      <td>86.9</td>\n",
       "      <td>48.7</td>\n",
       "      <td>85.5</td>\n",
       "    </tr>\n",
       "    <tr>\n",
       "      <th>6</th>\n",
       "      <td>RNN</td>\n",
       "      <td>3</td>\n",
       "      <td>Experiment 2</td>\n",
       "      <td>Without GloVe</td>\n",
       "      <td>5</td>\n",
       "      <td>27.3</td>\n",
       "      <td>11.9</td>\n",
       "      <td>67.1</td>\n",
       "    </tr>\n",
       "    <tr>\n",
       "      <th>7</th>\n",
       "      <td>LSTM</td>\n",
       "      <td>3</td>\n",
       "      <td>Experiment 2</td>\n",
       "      <td>Without GloVe</td>\n",
       "      <td>5</td>\n",
       "      <td>66.7</td>\n",
       "      <td>26.0</td>\n",
       "      <td>90.4</td>\n",
       "    </tr>\n",
       "    <tr>\n",
       "      <th>8</th>\n",
       "      <td>BiLSTM</td>\n",
       "      <td>3</td>\n",
       "      <td>Experiment 2</td>\n",
       "      <td>Without GloVe</td>\n",
       "      <td>5</td>\n",
       "      <td>65.7</td>\n",
       "      <td>47.1</td>\n",
       "      <td>88.1</td>\n",
       "    </tr>\n",
       "    <tr>\n",
       "      <th>9</th>\n",
       "      <td>RNN</td>\n",
       "      <td>4</td>\n",
       "      <td>Experiment 2</td>\n",
       "      <td>With GloVe</td>\n",
       "      <td>3</td>\n",
       "      <td>34.4</td>\n",
       "      <td>9.0</td>\n",
       "      <td>60.7</td>\n",
       "    </tr>\n",
       "    <tr>\n",
       "      <th>10</th>\n",
       "      <td>LSTM</td>\n",
       "      <td>4</td>\n",
       "      <td>Experiment 2</td>\n",
       "      <td>With GloVe</td>\n",
       "      <td>5</td>\n",
       "      <td>68.4</td>\n",
       "      <td>27.4</td>\n",
       "      <td>89.1</td>\n",
       "    </tr>\n",
       "    <tr>\n",
       "      <th>11</th>\n",
       "      <td>BiLSTM</td>\n",
       "      <td>4</td>\n",
       "      <td>Experiment 2</td>\n",
       "      <td>With GloVe</td>\n",
       "      <td>5</td>\n",
       "      <td>67.2</td>\n",
       "      <td>48.4</td>\n",
       "      <td>87.3</td>\n",
       "    </tr>\n",
       "    <tr>\n",
       "      <th>12</th>\n",
       "      <td>RNN</td>\n",
       "      <td>5</td>\n",
       "      <td>Experiment 3</td>\n",
       "      <td>Without GloVe</td>\n",
       "      <td>5</td>\n",
       "      <td>34.2</td>\n",
       "      <td>8.7</td>\n",
       "      <td>52.4</td>\n",
       "    </tr>\n",
       "    <tr>\n",
       "      <th>13</th>\n",
       "      <td>LSTM</td>\n",
       "      <td>5</td>\n",
       "      <td>Experiment 3</td>\n",
       "      <td>Without GloVe</td>\n",
       "      <td>2</td>\n",
       "      <td>65.1</td>\n",
       "      <td>15.8</td>\n",
       "      <td>75.7</td>\n",
       "    </tr>\n",
       "    <tr>\n",
       "      <th>14</th>\n",
       "      <td>BiLSTM</td>\n",
       "      <td>5</td>\n",
       "      <td>Experiment 3</td>\n",
       "      <td>Without GloVe</td>\n",
       "      <td>3</td>\n",
       "      <td>65.4</td>\n",
       "      <td>28.4</td>\n",
       "      <td>80.1</td>\n",
       "    </tr>\n",
       "    <tr>\n",
       "      <th>15</th>\n",
       "      <td>RNN</td>\n",
       "      <td>6</td>\n",
       "      <td>Experiment 3</td>\n",
       "      <td>With GloVe</td>\n",
       "      <td>5</td>\n",
       "      <td>33.4</td>\n",
       "      <td>5.9</td>\n",
       "      <td>46.7</td>\n",
       "    </tr>\n",
       "    <tr>\n",
       "      <th>16</th>\n",
       "      <td>LSTM</td>\n",
       "      <td>6</td>\n",
       "      <td>Experiment 3</td>\n",
       "      <td>With GloVe</td>\n",
       "      <td>3</td>\n",
       "      <td>67.2</td>\n",
       "      <td>17.1</td>\n",
       "      <td>82.1</td>\n",
       "    </tr>\n",
       "    <tr>\n",
       "      <th>17</th>\n",
       "      <td>BiLSTM</td>\n",
       "      <td>6</td>\n",
       "      <td>Experiment 3</td>\n",
       "      <td>With GloVe</td>\n",
       "      <td>3</td>\n",
       "      <td>66.9</td>\n",
       "      <td>31.0</td>\n",
       "      <td>80.6</td>\n",
       "    </tr>\n",
       "  </tbody>\n",
       "</table>\n",
       "</div>"
      ],
      "text/plain": [
       "     model  combi          mode          glove  fold_max  mean_acc  time  \\\n",
       "0      RNN      1  Experiment 1  Without GloVe         3      58.9  10.7   \n",
       "1     LSTM      1  Experiment 1  Without GloVe         1      85.2  22.6   \n",
       "2   BiLSTM      1  Experiment 1  Without GloVe         2      84.3  42.0   \n",
       "3      RNN      2  Experiment 1     With GloVe         2      62.3   8.8   \n",
       "4     LSTM      2  Experiment 1     With GloVe         4      86.9  26.4   \n",
       "5   BiLSTM      2  Experiment 1     With GloVe         4      86.9  48.7   \n",
       "6      RNN      3  Experiment 2  Without GloVe         5      27.3  11.9   \n",
       "7     LSTM      3  Experiment 2  Without GloVe         5      66.7  26.0   \n",
       "8   BiLSTM      3  Experiment 2  Without GloVe         5      65.7  47.1   \n",
       "9      RNN      4  Experiment 2     With GloVe         3      34.4   9.0   \n",
       "10    LSTM      4  Experiment 2     With GloVe         5      68.4  27.4   \n",
       "11  BiLSTM      4  Experiment 2     With GloVe         5      67.2  48.4   \n",
       "12     RNN      5  Experiment 3  Without GloVe         5      34.2   8.7   \n",
       "13    LSTM      5  Experiment 3  Without GloVe         2      65.1  15.8   \n",
       "14  BiLSTM      5  Experiment 3  Without GloVe         3      65.4  28.4   \n",
       "15     RNN      6  Experiment 3     With GloVe         5      33.4   5.9   \n",
       "16    LSTM      6  Experiment 3     With GloVe         3      67.2  17.1   \n",
       "17  BiLSTM      6  Experiment 3     With GloVe         3      66.9  31.0   \n",
       "\n",
       "    test_acc  \n",
       "0       57.9  \n",
       "1       81.9  \n",
       "2       84.4  \n",
       "3       61.4  \n",
       "4       86.6  \n",
       "5       85.5  \n",
       "6       67.1  \n",
       "7       90.4  \n",
       "8       88.1  \n",
       "9       60.7  \n",
       "10      89.1  \n",
       "11      87.3  \n",
       "12      52.4  \n",
       "13      75.7  \n",
       "14      80.1  \n",
       "15      46.7  \n",
       "16      82.1  \n",
       "17      80.6  "
      ]
     },
     "execution_count": 5,
     "metadata": {},
     "output_type": "execute_result"
    }
   ],
   "source": [
    "# Combine all three results dataframes\n",
    "df = pd.concat([df1, df2, df3], axis=0).reset_index().drop(columns='index')\n",
    "df['model'] = pd.Series(pd.Categorical(list(df.model), categories=[\"RNN\",\"LSTM\",\"BiLSTM\"], ordered=False))\n",
    "df['time'] = round(df['time']/60,1)\n",
    "df['mode'] = df['mode'].replace(1, 'Experiment 1')\n",
    "df['mode'] = df['mode'].replace(2, 'Experiment 2')\n",
    "df['mode'] = df['mode'].replace(3, 'Experiment 3')\n",
    "df['glove'] = df['glove'].replace('N', 'Without GloVe')\n",
    "df['glove'] = df['glove'].replace('Y', 'With GloVe')\n",
    "df"
   ]
  },
  {
   "cell_type": "markdown",
   "metadata": {},
   "source": [
    "## Assessing Effectiveness of GloVe embeddings"
   ]
  },
  {
   "cell_type": "markdown",
   "metadata": {},
   "source": [
    "### Overall"
   ]
  },
  {
   "cell_type": "code",
   "execution_count": 6,
   "metadata": {},
   "outputs": [
    {
     "data": {
      "text/html": [
       "<div>\n",
       "<style scoped>\n",
       "    .dataframe tbody tr th:only-of-type {\n",
       "        vertical-align: middle;\n",
       "    }\n",
       "\n",
       "    .dataframe tbody tr th {\n",
       "        vertical-align: top;\n",
       "    }\n",
       "\n",
       "    .dataframe thead th {\n",
       "        text-align: right;\n",
       "    }\n",
       "</style>\n",
       "<table border=\"1\" class=\"dataframe\">\n",
       "  <thead>\n",
       "    <tr style=\"text-align: right;\">\n",
       "      <th></th>\n",
       "      <th>test_acc</th>\n",
       "    </tr>\n",
       "    <tr>\n",
       "      <th>glove</th>\n",
       "      <th></th>\n",
       "    </tr>\n",
       "  </thead>\n",
       "  <tbody>\n",
       "    <tr>\n",
       "      <th>With GloVe</th>\n",
       "      <td>75.555556</td>\n",
       "    </tr>\n",
       "    <tr>\n",
       "      <th>Without GloVe</th>\n",
       "      <td>75.333333</td>\n",
       "    </tr>\n",
       "  </tbody>\n",
       "</table>\n",
       "</div>"
      ],
      "text/plain": [
       "                test_acc\n",
       "glove                   \n",
       "With GloVe     75.555556\n",
       "Without GloVe  75.333333"
      ]
     },
     "execution_count": 6,
     "metadata": {},
     "output_type": "execute_result"
    }
   ],
   "source": [
    "df.groupby(by=\"glove\").mean()[['test_acc']]"
   ]
  },
  {
   "cell_type": "markdown",
   "metadata": {},
   "source": [
    "### By Models"
   ]
  },
  {
   "cell_type": "code",
   "execution_count": 7,
   "metadata": {},
   "outputs": [
    {
     "data": {
      "text/html": [
       "<div>\n",
       "<style scoped>\n",
       "    .dataframe tbody tr th:only-of-type {\n",
       "        vertical-align: middle;\n",
       "    }\n",
       "\n",
       "    .dataframe tbody tr th {\n",
       "        vertical-align: top;\n",
       "    }\n",
       "\n",
       "    .dataframe thead th {\n",
       "        text-align: right;\n",
       "    }\n",
       "</style>\n",
       "<table border=\"1\" class=\"dataframe\">\n",
       "  <thead>\n",
       "    <tr style=\"text-align: right;\">\n",
       "      <th></th>\n",
       "      <th>test_acc</th>\n",
       "    </tr>\n",
       "    <tr>\n",
       "      <th>glove</th>\n",
       "      <th></th>\n",
       "    </tr>\n",
       "  </thead>\n",
       "  <tbody>\n",
       "    <tr>\n",
       "      <th>With GloVe</th>\n",
       "      <td>56.266667</td>\n",
       "    </tr>\n",
       "    <tr>\n",
       "      <th>Without GloVe</th>\n",
       "      <td>59.133333</td>\n",
       "    </tr>\n",
       "  </tbody>\n",
       "</table>\n",
       "</div>"
      ],
      "text/plain": [
       "                test_acc\n",
       "glove                   \n",
       "With GloVe     56.266667\n",
       "Without GloVe  59.133333"
      ]
     },
     "execution_count": 7,
     "metadata": {},
     "output_type": "execute_result"
    }
   ],
   "source": [
    "df[df[\"model\"] == \"RNN\"].groupby(by=\"glove\").mean()[['test_acc']]"
   ]
  },
  {
   "cell_type": "code",
   "execution_count": 8,
   "metadata": {},
   "outputs": [
    {
     "data": {
      "text/html": [
       "<div>\n",
       "<style scoped>\n",
       "    .dataframe tbody tr th:only-of-type {\n",
       "        vertical-align: middle;\n",
       "    }\n",
       "\n",
       "    .dataframe tbody tr th {\n",
       "        vertical-align: top;\n",
       "    }\n",
       "\n",
       "    .dataframe thead th {\n",
       "        text-align: right;\n",
       "    }\n",
       "</style>\n",
       "<table border=\"1\" class=\"dataframe\">\n",
       "  <thead>\n",
       "    <tr style=\"text-align: right;\">\n",
       "      <th></th>\n",
       "      <th>test_acc</th>\n",
       "    </tr>\n",
       "    <tr>\n",
       "      <th>glove</th>\n",
       "      <th></th>\n",
       "    </tr>\n",
       "  </thead>\n",
       "  <tbody>\n",
       "    <tr>\n",
       "      <th>With GloVe</th>\n",
       "      <td>85.933333</td>\n",
       "    </tr>\n",
       "    <tr>\n",
       "      <th>Without GloVe</th>\n",
       "      <td>82.666667</td>\n",
       "    </tr>\n",
       "  </tbody>\n",
       "</table>\n",
       "</div>"
      ],
      "text/plain": [
       "                test_acc\n",
       "glove                   \n",
       "With GloVe     85.933333\n",
       "Without GloVe  82.666667"
      ]
     },
     "execution_count": 8,
     "metadata": {},
     "output_type": "execute_result"
    }
   ],
   "source": [
    "df[df[\"model\"] == \"LSTM\"].groupby(by=\"glove\").mean()[['test_acc']]"
   ]
  },
  {
   "cell_type": "code",
   "execution_count": 9,
   "metadata": {},
   "outputs": [
    {
     "data": {
      "text/html": [
       "<div>\n",
       "<style scoped>\n",
       "    .dataframe tbody tr th:only-of-type {\n",
       "        vertical-align: middle;\n",
       "    }\n",
       "\n",
       "    .dataframe tbody tr th {\n",
       "        vertical-align: top;\n",
       "    }\n",
       "\n",
       "    .dataframe thead th {\n",
       "        text-align: right;\n",
       "    }\n",
       "</style>\n",
       "<table border=\"1\" class=\"dataframe\">\n",
       "  <thead>\n",
       "    <tr style=\"text-align: right;\">\n",
       "      <th></th>\n",
       "      <th>test_acc</th>\n",
       "    </tr>\n",
       "    <tr>\n",
       "      <th>glove</th>\n",
       "      <th></th>\n",
       "    </tr>\n",
       "  </thead>\n",
       "  <tbody>\n",
       "    <tr>\n",
       "      <th>With GloVe</th>\n",
       "      <td>84.466667</td>\n",
       "    </tr>\n",
       "    <tr>\n",
       "      <th>Without GloVe</th>\n",
       "      <td>84.200000</td>\n",
       "    </tr>\n",
       "  </tbody>\n",
       "</table>\n",
       "</div>"
      ],
      "text/plain": [
       "                test_acc\n",
       "glove                   \n",
       "With GloVe     84.466667\n",
       "Without GloVe  84.200000"
      ]
     },
     "execution_count": 9,
     "metadata": {},
     "output_type": "execute_result"
    }
   ],
   "source": [
    "df[df[\"model\"] == \"BiLSTM\"].groupby(by=\"glove\").mean()[['test_acc']]"
   ]
  },
  {
   "cell_type": "markdown",
   "metadata": {},
   "source": [
    "### By Experiments"
   ]
  },
  {
   "cell_type": "code",
   "execution_count": 10,
   "metadata": {},
   "outputs": [
    {
     "data": {
      "text/html": [
       "<div>\n",
       "<style scoped>\n",
       "    .dataframe tbody tr th:only-of-type {\n",
       "        vertical-align: middle;\n",
       "    }\n",
       "\n",
       "    .dataframe tbody tr th {\n",
       "        vertical-align: top;\n",
       "    }\n",
       "\n",
       "    .dataframe thead th {\n",
       "        text-align: right;\n",
       "    }\n",
       "</style>\n",
       "<table border=\"1\" class=\"dataframe\">\n",
       "  <thead>\n",
       "    <tr style=\"text-align: right;\">\n",
       "      <th></th>\n",
       "      <th>test_acc</th>\n",
       "    </tr>\n",
       "    <tr>\n",
       "      <th>glove</th>\n",
       "      <th></th>\n",
       "    </tr>\n",
       "  </thead>\n",
       "  <tbody>\n",
       "    <tr>\n",
       "      <th>With GloVe</th>\n",
       "      <td>77.833333</td>\n",
       "    </tr>\n",
       "    <tr>\n",
       "      <th>Without GloVe</th>\n",
       "      <td>74.733333</td>\n",
       "    </tr>\n",
       "  </tbody>\n",
       "</table>\n",
       "</div>"
      ],
      "text/plain": [
       "                test_acc\n",
       "glove                   \n",
       "With GloVe     77.833333\n",
       "Without GloVe  74.733333"
      ]
     },
     "execution_count": 10,
     "metadata": {},
     "output_type": "execute_result"
    }
   ],
   "source": [
    "df[df[\"mode\"] == \"Experiment 1\"].groupby(by=\"glove\").mean()[['test_acc']]"
   ]
  },
  {
   "cell_type": "code",
   "execution_count": 11,
   "metadata": {},
   "outputs": [
    {
     "data": {
      "text/html": [
       "<div>\n",
       "<style scoped>\n",
       "    .dataframe tbody tr th:only-of-type {\n",
       "        vertical-align: middle;\n",
       "    }\n",
       "\n",
       "    .dataframe tbody tr th {\n",
       "        vertical-align: top;\n",
       "    }\n",
       "\n",
       "    .dataframe thead th {\n",
       "        text-align: right;\n",
       "    }\n",
       "</style>\n",
       "<table border=\"1\" class=\"dataframe\">\n",
       "  <thead>\n",
       "    <tr style=\"text-align: right;\">\n",
       "      <th></th>\n",
       "      <th>test_acc</th>\n",
       "    </tr>\n",
       "    <tr>\n",
       "      <th>glove</th>\n",
       "      <th></th>\n",
       "    </tr>\n",
       "  </thead>\n",
       "  <tbody>\n",
       "    <tr>\n",
       "      <th>With GloVe</th>\n",
       "      <td>79.033333</td>\n",
       "    </tr>\n",
       "    <tr>\n",
       "      <th>Without GloVe</th>\n",
       "      <td>81.866667</td>\n",
       "    </tr>\n",
       "  </tbody>\n",
       "</table>\n",
       "</div>"
      ],
      "text/plain": [
       "                test_acc\n",
       "glove                   \n",
       "With GloVe     79.033333\n",
       "Without GloVe  81.866667"
      ]
     },
     "execution_count": 11,
     "metadata": {},
     "output_type": "execute_result"
    }
   ],
   "source": [
    "df[df[\"mode\"] == \"Experiment 2\"].groupby(by=\"glove\").mean()[['test_acc']]"
   ]
  },
  {
   "cell_type": "code",
   "execution_count": 12,
   "metadata": {},
   "outputs": [
    {
     "data": {
      "text/html": [
       "<div>\n",
       "<style scoped>\n",
       "    .dataframe tbody tr th:only-of-type {\n",
       "        vertical-align: middle;\n",
       "    }\n",
       "\n",
       "    .dataframe tbody tr th {\n",
       "        vertical-align: top;\n",
       "    }\n",
       "\n",
       "    .dataframe thead th {\n",
       "        text-align: right;\n",
       "    }\n",
       "</style>\n",
       "<table border=\"1\" class=\"dataframe\">\n",
       "  <thead>\n",
       "    <tr style=\"text-align: right;\">\n",
       "      <th></th>\n",
       "      <th>test_acc</th>\n",
       "    </tr>\n",
       "    <tr>\n",
       "      <th>glove</th>\n",
       "      <th></th>\n",
       "    </tr>\n",
       "  </thead>\n",
       "  <tbody>\n",
       "    <tr>\n",
       "      <th>With GloVe</th>\n",
       "      <td>69.8</td>\n",
       "    </tr>\n",
       "    <tr>\n",
       "      <th>Without GloVe</th>\n",
       "      <td>69.4</td>\n",
       "    </tr>\n",
       "  </tbody>\n",
       "</table>\n",
       "</div>"
      ],
      "text/plain": [
       "               test_acc\n",
       "glove                  \n",
       "With GloVe         69.8\n",
       "Without GloVe      69.4"
      ]
     },
     "execution_count": 12,
     "metadata": {},
     "output_type": "execute_result"
    }
   ],
   "source": [
    "df[df[\"mode\"] == \"Experiment 3\"].groupby(by=\"glove\").mean()[['test_acc']]"
   ]
  },
  {
   "cell_type": "markdown",
   "metadata": {},
   "source": [
    "## Analysing Training Time"
   ]
  },
  {
   "cell_type": "code",
   "execution_count": 13,
   "metadata": {},
   "outputs": [
    {
     "data": {
      "image/png": "[encoded data removed]",
      "text/plain": [
       "<Figure size 1200x500 with 3 Axes>"
      ]
     },
     "metadata": {},
     "output_type": "display_data"
    },
    {
     "data": {
      "text/plain": [
       "<ggplot: (-9223371866078996324)>"
      ]
     },
     "execution_count": 13,
     "metadata": {},
     "output_type": "execute_result"
    }
   ],
   "source": [
    "g1 = (p9.ggplot(data=df,\n",
    "        mapping=p9.aes(x='model', fill='glove'))\n",
    "+ p9.geom_col(mapping=p9.aes(y='time'), position='dodge', show_legend=True)\n",
    "+ p9.facet_wrap(\"~mode\", ncol=3, scales='free_x')\n",
    "+ p9.theme_bw() \n",
    "+ p9.ylab(\"Training time (minutes)\")\n",
    "+ p9.xlab(\"\") \n",
    "+ p9.theme(legend_title=element_blank(), legend_position='bottom', subplots_adjust={'wspace': 0.03}, figure_size=(12, 5), axis_text_x = p9.element_text(rotation=0))\n",
    "+ p9.geom_text(p9.aes(y='time', label='time'), position=position_dodge(width=0.9), size=9, va='bottom')\n",
    "+ p9.scale_fill_brewer(type='seq', palette='Oranges', direction=1)      \n",
    ")\n",
    "\n",
    "g1"
   ]
  },
  {
   "cell_type": "code",
   "execution_count": 14,
   "metadata": {},
   "outputs": [],
   "source": [
    "# Save the plot\n",
    "# g1.save(\"Figures/result_training_time.png\", width=10, height=5, dpi=800)"
   ]
  },
  {
   "cell_type": "markdown",
   "metadata": {},
   "source": [
    "## Analysing Models' Performance by Test Accuracy"
   ]
  },
  {
   "cell_type": "code",
   "execution_count": 15,
   "metadata": {},
   "outputs": [
    {
     "data": {
      "image/png": "[encoded data removed]",
      "text/plain": [
       "<Figure size 1200x500 with 2 Axes>"
      ]
     },
     "metadata": {},
     "output_type": "display_data"
    },
    {
     "data": {
      "text/plain": [
       "<ggplot: (-9223371866078537724)>"
      ]
     },
     "execution_count": 15,
     "metadata": {},
     "output_type": "execute_result"
    }
   ],
   "source": [
    "g2 = (p9.ggplot(data=df,\n",
    "        mapping=p9.aes(x='mode', fill='model'))\n",
    "+ p9.geom_col(mapping=p9.aes(y='test_acc'), position='dodge', show_legend=True)\n",
    "+ p9.facet_wrap(\"~glove\", ncol=2, scales='free_x')\n",
    "+ p9.theme_bw() \n",
    "+ p9.ylab(\"Test Accuracy (%)\")\n",
    "+ p9.xlab(\"\") \n",
    "+ p9.theme(legend_title=element_blank(), legend_position=(.52, 0.01), legend_direction='horizontal', subplots_adjust={'wspace': 0.03}, figure_size=(12, 5), axis_text_x = p9.element_text(rotation=0))\n",
    "+ p9.geom_text(p9.aes(y='test_acc', label='test_acc'), position=position_dodge(width=0.9), size=9, va='bottom')\n",
    "+ p9.scale_fill_brewer(type='seq', palette='Blues', direction=1)\n",
    ")\n",
    "\n",
    "g2"
   ]
  },
  {
   "cell_type": "code",
   "execution_count": 16,
   "metadata": {},
   "outputs": [
    {
     "data": {
      "image/png": "[encoded data removed]",
      "text/plain": [
       "<Figure size 1200x500 with 6 Axes>"
      ]
     },
     "metadata": {},
     "output_type": "display_data"
    },
    {
     "data": {
      "text/plain": [
       "<ggplot: (-9223371866078635036)>"
      ]
     },
     "execution_count": 16,
     "metadata": {},
     "output_type": "execute_result"
    }
   ],
   "source": [
    "g3 = (p9.ggplot(data=df,\n",
    "        mapping=p9.aes(x='model', fill='model'))\n",
    "+ p9.geom_col(mapping=p9.aes(y='test_acc'), width=0.60, position='dodge', show_legend=True)\n",
    "+ p9.facet_grid(\"glove ~ mode\") \n",
    "+ p9.theme_bw() \n",
    "+ p9.ylab(\"Test Accuracy (%)\")\n",
    "+ p9.ylim(0, 100)\n",
    "+ p9.xlab(\"\") \n",
    "+ p9.theme(legend_title=element_blank(), legend_position=(.52, 0.01), legend_direction='horizontal', subplots_adjust={'wspace': 0.03}, figure_size=(12, 5), axis_text_x = p9.element_text(rotation=0))\n",
    "+ p9.geom_text(p9.aes(y='test_acc', label='test_acc'), position=position_dodge(width=0.9), size=9, va='bottom')\n",
    "+ p9.scale_fill_brewer(type='seq', palette='Blues', direction=1)\n",
    ")\n",
    "\n",
    "g3"
   ]
  },
  {
   "cell_type": "code",
   "execution_count": 17,
   "metadata": {},
   "outputs": [],
   "source": [
    "# Save the plot\n",
    "# g3.save(\"Figures/result_test_accuracy.png\", width=10, height=5, dpi=800)"
   ]
  },
  {
   "cell_type": "markdown",
   "metadata": {},
   "source": [
    "## Analysing Models' Performance by Precision, Recall and F1-Scores"
   ]
  },
  {
   "cell_type": "markdown",
   "metadata": {},
   "source": [
    "### Precision, Recall and F1-Scores for RNNs"
   ]
  },
  {
   "cell_type": "code",
   "execution_count": 18,
   "metadata": {},
   "outputs": [],
   "source": [
    "exp_list = ['', '_Glove',  '_Augmented_Text', '_Augmented_Text_Glove',  '_SMOTE', '_SMOTE_Glove']\n",
    "model_list = ['RNN', 'LSTM', 'BiLSTM']"
   ]
  },
  {
   "cell_type": "code",
   "execution_count": 19,
   "metadata": {},
   "outputs": [
    {
     "data": {
      "text/html": [
       "<div>\n",
       "<style scoped>\n",
       "    .dataframe tbody tr th:only-of-type {\n",
       "        vertical-align: middle;\n",
       "    }\n",
       "\n",
       "    .dataframe tbody tr th {\n",
       "        vertical-align: top;\n",
       "    }\n",
       "\n",
       "    .dataframe thead th {\n",
       "        text-align: right;\n",
       "    }\n",
       "</style>\n",
       "<table border=\"1\" class=\"dataframe\">\n",
       "  <thead>\n",
       "    <tr style=\"text-align: right;\">\n",
       "      <th></th>\n",
       "      <th>scam_type</th>\n",
       "      <th>combi</th>\n",
       "      <th>precision</th>\n",
       "      <th>recall</th>\n",
       "      <th>f1-score</th>\n",
       "      <th>glove</th>\n",
       "      <th>experiment</th>\n",
       "      <th>model</th>\n",
       "    </tr>\n",
       "  </thead>\n",
       "  <tbody>\n",
       "    <tr>\n",
       "      <th>0</th>\n",
       "      <td>Credit-for-Sex Scam</td>\n",
       "      <td>1</td>\n",
       "      <td>0.00</td>\n",
       "      <td>0.00</td>\n",
       "      <td>0.00</td>\n",
       "      <td>N</td>\n",
       "      <td>Experiment 1</td>\n",
       "      <td>RNN</td>\n",
       "    </tr>\n",
       "    <tr>\n",
       "      <th>1</th>\n",
       "      <td>Home/Room Rental Scam</td>\n",
       "      <td>1</td>\n",
       "      <td>0.00</td>\n",
       "      <td>0.00</td>\n",
       "      <td>0.00</td>\n",
       "      <td>N</td>\n",
       "      <td>Experiment 1</td>\n",
       "      <td>RNN</td>\n",
       "    </tr>\n",
       "    <tr>\n",
       "      <th>2</th>\n",
       "      <td>Impersonation Scam</td>\n",
       "      <td>1</td>\n",
       "      <td>0.84</td>\n",
       "      <td>0.93</td>\n",
       "      <td>0.88</td>\n",
       "      <td>N</td>\n",
       "      <td>Experiment 1</td>\n",
       "      <td>RNN</td>\n",
       "    </tr>\n",
       "    <tr>\n",
       "      <th>3</th>\n",
       "      <td>Internet Love Scam</td>\n",
       "      <td>1</td>\n",
       "      <td>0.33</td>\n",
       "      <td>0.48</td>\n",
       "      <td>0.39</td>\n",
       "      <td>N</td>\n",
       "      <td>Experiment 1</td>\n",
       "      <td>RNN</td>\n",
       "    </tr>\n",
       "    <tr>\n",
       "      <th>4</th>\n",
       "      <td>Investment Scam</td>\n",
       "      <td>1</td>\n",
       "      <td>0.00</td>\n",
       "      <td>0.00</td>\n",
       "      <td>0.00</td>\n",
       "      <td>N</td>\n",
       "      <td>Experiment 1</td>\n",
       "      <td>RNN</td>\n",
       "    </tr>\n",
       "  </tbody>\n",
       "</table>\n",
       "</div>"
      ],
      "text/plain": [
       "               scam_type combi  precision  recall  f1-score glove  \\\n",
       "0    Credit-for-Sex Scam     1       0.00    0.00      0.00     N   \n",
       "1  Home/Room Rental Scam     1       0.00    0.00      0.00     N   \n",
       "2     Impersonation Scam     1       0.84    0.93      0.88     N   \n",
       "3     Internet Love Scam     1       0.33    0.48      0.39     N   \n",
       "4        Investment Scam     1       0.00    0.00      0.00     N   \n",
       "\n",
       "     experiment model  \n",
       "0  Experiment 1   RNN  \n",
       "1  Experiment 1   RNN  \n",
       "2  Experiment 1   RNN  \n",
       "3  Experiment 1   RNN  \n",
       "4  Experiment 1   RNN  "
      ]
     },
     "execution_count": 19,
     "metadata": {},
     "output_type": "execute_result"
    }
   ],
   "source": [
    "# For RNNs\n",
    "rnn_precision_df = pd.DataFrame()\n",
    "rnn_recall_df = pd.DataFrame()\n",
    "rnn_f1_df = pd.DataFrame()\n",
    "for i in range(len(exp_list)):\n",
    "    filename = \"Results/Classification_Reports/Scam_Classifier\" + exp_list[i] + \"-best-\" + model_list[0] + \".csv\"\n",
    "    p, r, f = extract_scores(filename)\n",
    "    if i == 0:\n",
    "        rnn_precision_df = p\n",
    "        rnn_recall_df = r\n",
    "        rnn_f1_df = f\n",
    "    else:\n",
    "        rnn_precision_df = pd.concat([rnn_precision_df, p], axis=1)\n",
    "        rnn_recall_df = pd.concat([rnn_recall_df, r], axis=1)\n",
    "        rnn_f1_df = pd.concat([rnn_f1_df, f], axis=1)\n",
    "\n",
    "rnn_precision_df = rnn_precision_df.iloc[:, [0, 1, 3, 5, 7, 9, 11]]\n",
    "rnn_precision_df.columns = [\"scam_type\", 1, 2, 3, 4, 5, 6]\n",
    "rnn_df = pd.melt(rnn_precision_df, id_vars=['scam_type'])\n",
    "\n",
    "rnn_recall_df = rnn_recall_df.iloc[:, [0, 1, 3, 5, 7, 9, 11]]\n",
    "rnn_recall_df.columns = [\"scam_type\", 1, 2, 3, 4, 5, 6]\n",
    "rnn_df = pd.concat([rnn_df, pd.melt(rnn_recall_df, id_vars=['scam_type']).loc[:, ['value']]], axis=1)\n",
    "\n",
    "rnn_f1_df = rnn_f1_df.iloc[:, [0, 1, 3, 5, 7, 9, 11]]\n",
    "rnn_f1_df.columns = [\"scam_type\", 1, 2, 3, 4, 5, 6]\n",
    "rnn_df = pd.concat([rnn_df, pd.melt(rnn_f1_df, id_vars=['scam_type']).loc[:, ['value']]], axis=1)\n",
    "\n",
    "rnn_df.columns = ['scam_type', 'combi', 'precision', 'recall', 'f1-score']\n",
    "\n",
    "glove_list = [[\"N\"] * 6, [\"Y\"] * 6, [\"N\"] * 6, [\"Y\"] * 6, [\"N\"] * 6, [\"Y\"] * 6]\n",
    "glove_list = [j for i in glove_list for j in i]\n",
    "\n",
    "exp_list4 = [[\"Experiment 1\"] * 12, [\"Experiment 2\"] * 12, [\"Experiment 3\"] * 12]\n",
    "exp_list4 = [j for i in exp_list4 for j in i]\n",
    "\n",
    "model_list4 = [['RNN'] * 36]\n",
    "model_list4 = [j for i in model_list4 for j in i]\n",
    "\n",
    "rnn_df['glove'] = glove_list\n",
    "rnn_df['experiment'] = exp_list4\n",
    "rnn_df['model'] = model_list4\n",
    "rnn_df = rnn_df.round(2)\n",
    "\n",
    "rnn_df.head()"
   ]
  },
  {
   "cell_type": "markdown",
   "metadata": {},
   "source": [
    "### Precision, Recall and F1-Scores for LSTMs"
   ]
  },
  {
   "cell_type": "code",
   "execution_count": 20,
   "metadata": {},
   "outputs": [
    {
     "data": {
      "text/html": [
       "<div>\n",
       "<style scoped>\n",
       "    .dataframe tbody tr th:only-of-type {\n",
       "        vertical-align: middle;\n",
       "    }\n",
       "\n",
       "    .dataframe tbody tr th {\n",
       "        vertical-align: top;\n",
       "    }\n",
       "\n",
       "    .dataframe thead th {\n",
       "        text-align: right;\n",
       "    }\n",
       "</style>\n",
       "<table border=\"1\" class=\"dataframe\">\n",
       "  <thead>\n",
       "    <tr style=\"text-align: right;\">\n",
       "      <th></th>\n",
       "      <th>scam_type</th>\n",
       "      <th>combi</th>\n",
       "      <th>precision</th>\n",
       "      <th>recall</th>\n",
       "      <th>f1-score</th>\n",
       "      <th>glove</th>\n",
       "      <th>experiment</th>\n",
       "      <th>model</th>\n",
       "    </tr>\n",
       "  </thead>\n",
       "  <tbody>\n",
       "    <tr>\n",
       "      <th>0</th>\n",
       "      <td>Credit-for-Sex Scam</td>\n",
       "      <td>1</td>\n",
       "      <td>0.79</td>\n",
       "      <td>0.77</td>\n",
       "      <td>0.78</td>\n",
       "      <td>N</td>\n",
       "      <td>Experiment 1</td>\n",
       "      <td>LSTM</td>\n",
       "    </tr>\n",
       "    <tr>\n",
       "      <th>1</th>\n",
       "      <td>Home/Room Rental Scam</td>\n",
       "      <td>1</td>\n",
       "      <td>0.72</td>\n",
       "      <td>0.80</td>\n",
       "      <td>0.76</td>\n",
       "      <td>N</td>\n",
       "      <td>Experiment 1</td>\n",
       "      <td>LSTM</td>\n",
       "    </tr>\n",
       "    <tr>\n",
       "      <th>2</th>\n",
       "      <td>Impersonation Scam</td>\n",
       "      <td>1</td>\n",
       "      <td>0.93</td>\n",
       "      <td>0.89</td>\n",
       "      <td>0.91</td>\n",
       "      <td>N</td>\n",
       "      <td>Experiment 1</td>\n",
       "      <td>LSTM</td>\n",
       "    </tr>\n",
       "    <tr>\n",
       "      <th>3</th>\n",
       "      <td>Internet Love Scam</td>\n",
       "      <td>1</td>\n",
       "      <td>0.78</td>\n",
       "      <td>0.80</td>\n",
       "      <td>0.79</td>\n",
       "      <td>N</td>\n",
       "      <td>Experiment 1</td>\n",
       "      <td>LSTM</td>\n",
       "    </tr>\n",
       "    <tr>\n",
       "      <th>4</th>\n",
       "      <td>Investment Scam</td>\n",
       "      <td>1</td>\n",
       "      <td>0.57</td>\n",
       "      <td>0.66</td>\n",
       "      <td>0.61</td>\n",
       "      <td>N</td>\n",
       "      <td>Experiment 1</td>\n",
       "      <td>LSTM</td>\n",
       "    </tr>\n",
       "  </tbody>\n",
       "</table>\n",
       "</div>"
      ],
      "text/plain": [
       "               scam_type combi  precision  recall  f1-score glove  \\\n",
       "0    Credit-for-Sex Scam     1       0.79    0.77      0.78     N   \n",
       "1  Home/Room Rental Scam     1       0.72    0.80      0.76     N   \n",
       "2     Impersonation Scam     1       0.93    0.89      0.91     N   \n",
       "3     Internet Love Scam     1       0.78    0.80      0.79     N   \n",
       "4        Investment Scam     1       0.57    0.66      0.61     N   \n",
       "\n",
       "     experiment model  \n",
       "0  Experiment 1  LSTM  \n",
       "1  Experiment 1  LSTM  \n",
       "2  Experiment 1  LSTM  \n",
       "3  Experiment 1  LSTM  \n",
       "4  Experiment 1  LSTM  "
      ]
     },
     "execution_count": 20,
     "metadata": {},
     "output_type": "execute_result"
    }
   ],
   "source": [
    "# For LSTMs\n",
    "lstm_precision_df = pd.DataFrame()\n",
    "lstm_recall_df = pd.DataFrame()\n",
    "lstm_f1_df = pd.DataFrame()\n",
    "for i in range(len(exp_list)):\n",
    "    filename = \"Results/Classification_Reports/Scam_Classifier\" + exp_list[i] + \"-best-\" + model_list[1] + \".csv\"\n",
    "    p, r, f = extract_scores(filename)\n",
    "    if i == 0:\n",
    "        lstm_precision_df = p\n",
    "        lstm_recall_df = r\n",
    "        lstm_f1_df = f\n",
    "    else:\n",
    "        lstm_precision_df = pd.concat([lstm_precision_df, p], axis=1)\n",
    "        lstm_recall_df = pd.concat([lstm_recall_df, r], axis=1)\n",
    "        lstm_f1_df = pd.concat([lstm_f1_df, f], axis=1)\n",
    "        \n",
    "lstm_precision_df = lstm_precision_df.iloc[:, [0, 1, 3, 5, 7, 9, 11]]\n",
    "lstm_precision_df.columns = [\"scam_type\", 1, 2, 3, 4, 5, 6]\n",
    "lstm_df = pd.melt(lstm_precision_df, id_vars=['scam_type'])\n",
    "\n",
    "lstm_recall_df = lstm_recall_df.iloc[:, [0, 1, 3, 5, 7, 9, 11]]\n",
    "lstm_recall_df.columns = [\"scam_type\", 1, 2, 3, 4, 5, 6]\n",
    "lstm_df = pd.concat([lstm_df, pd.melt(lstm_recall_df, id_vars=['scam_type']).loc[:, ['value']]], axis=1)\n",
    "\n",
    "lstm_f1_df = lstm_f1_df.iloc[:, [0, 1, 3, 5, 7, 9, 11]]\n",
    "lstm_f1_df.columns = [\"scam_type\", 1, 2, 3, 4, 5, 6]\n",
    "lstm_df = pd.concat([lstm_df, pd.melt(lstm_f1_df, id_vars=['scam_type']).loc[:, ['value']]], axis=1)\n",
    "\n",
    "lstm_df.columns = ['scam_type', 'combi', 'precision', 'recall', 'f1-score']\n",
    "\n",
    "glove_list = [[\"N\"] * 6, [\"Y\"] * 6, [\"N\"] * 6, [\"Y\"] * 6, [\"N\"] * 6, [\"Y\"] * 6]\n",
    "glove_list = [j for i in glove_list for j in i]\n",
    "\n",
    "exp_list2 = [[\"Experiment 1\"] * 12, [\"Experiment 2\"] * 12, [\"Experiment 3\"] * 12]\n",
    "exp_list2 = [j for i in exp_list2 for j in i]\n",
    "\n",
    "model_list2 = [['LSTM'] * 36]\n",
    "model_list2 = [j for i in model_list2 for j in i]\n",
    "\n",
    "lstm_df['glove'] = glove_list\n",
    "lstm_df['experiment'] = exp_list2\n",
    "lstm_df['model'] = model_list2\n",
    "lstm_df = lstm_df.round(2)\n",
    "\n",
    "lstm_df.head()"
   ]
  },
  {
   "cell_type": "markdown",
   "metadata": {},
   "source": [
    "### Precision, Recall and F1-Scores for Bi-LSTMs"
   ]
  },
  {
   "cell_type": "code",
   "execution_count": 21,
   "metadata": {},
   "outputs": [
    {
     "data": {
      "text/html": [
       "<div>\n",
       "<style scoped>\n",
       "    .dataframe tbody tr th:only-of-type {\n",
       "        vertical-align: middle;\n",
       "    }\n",
       "\n",
       "    .dataframe tbody tr th {\n",
       "        vertical-align: top;\n",
       "    }\n",
       "\n",
       "    .dataframe thead th {\n",
       "        text-align: right;\n",
       "    }\n",
       "</style>\n",
       "<table border=\"1\" class=\"dataframe\">\n",
       "  <thead>\n",
       "    <tr style=\"text-align: right;\">\n",
       "      <th></th>\n",
       "      <th>scam_type</th>\n",
       "      <th>combi</th>\n",
       "      <th>precision</th>\n",
       "      <th>recall</th>\n",
       "      <th>f1-score</th>\n",
       "      <th>glove</th>\n",
       "      <th>experiment</th>\n",
       "      <th>model</th>\n",
       "    </tr>\n",
       "  </thead>\n",
       "  <tbody>\n",
       "    <tr>\n",
       "      <th>0</th>\n",
       "      <td>Credit-for-Sex Scam</td>\n",
       "      <td>1</td>\n",
       "      <td>0.71</td>\n",
       "      <td>0.62</td>\n",
       "      <td>0.66</td>\n",
       "      <td>N</td>\n",
       "      <td>Experiment 1</td>\n",
       "      <td>BiLSTM</td>\n",
       "    </tr>\n",
       "    <tr>\n",
       "      <th>1</th>\n",
       "      <td>Home/Room Rental Scam</td>\n",
       "      <td>1</td>\n",
       "      <td>0.94</td>\n",
       "      <td>0.76</td>\n",
       "      <td>0.84</td>\n",
       "      <td>N</td>\n",
       "      <td>Experiment 1</td>\n",
       "      <td>BiLSTM</td>\n",
       "    </tr>\n",
       "    <tr>\n",
       "      <th>2</th>\n",
       "      <td>Impersonation Scam</td>\n",
       "      <td>1</td>\n",
       "      <td>0.94</td>\n",
       "      <td>0.92</td>\n",
       "      <td>0.93</td>\n",
       "      <td>N</td>\n",
       "      <td>Experiment 1</td>\n",
       "      <td>BiLSTM</td>\n",
       "    </tr>\n",
       "    <tr>\n",
       "      <th>3</th>\n",
       "      <td>Internet Love Scam</td>\n",
       "      <td>1</td>\n",
       "      <td>0.76</td>\n",
       "      <td>0.85</td>\n",
       "      <td>0.80</td>\n",
       "      <td>N</td>\n",
       "      <td>Experiment 1</td>\n",
       "      <td>BiLSTM</td>\n",
       "    </tr>\n",
       "    <tr>\n",
       "      <th>4</th>\n",
       "      <td>Investment Scam</td>\n",
       "      <td>1</td>\n",
       "      <td>0.69</td>\n",
       "      <td>0.62</td>\n",
       "      <td>0.65</td>\n",
       "      <td>N</td>\n",
       "      <td>Experiment 1</td>\n",
       "      <td>BiLSTM</td>\n",
       "    </tr>\n",
       "  </tbody>\n",
       "</table>\n",
       "</div>"
      ],
      "text/plain": [
       "               scam_type combi  precision  recall  f1-score glove  \\\n",
       "0    Credit-for-Sex Scam     1       0.71    0.62      0.66     N   \n",
       "1  Home/Room Rental Scam     1       0.94    0.76      0.84     N   \n",
       "2     Impersonation Scam     1       0.94    0.92      0.93     N   \n",
       "3     Internet Love Scam     1       0.76    0.85      0.80     N   \n",
       "4        Investment Scam     1       0.69    0.62      0.65     N   \n",
       "\n",
       "     experiment   model  \n",
       "0  Experiment 1  BiLSTM  \n",
       "1  Experiment 1  BiLSTM  \n",
       "2  Experiment 1  BiLSTM  \n",
       "3  Experiment 1  BiLSTM  \n",
       "4  Experiment 1  BiLSTM  "
      ]
     },
     "execution_count": 21,
     "metadata": {},
     "output_type": "execute_result"
    }
   ],
   "source": [
    "# For Bi-LSTMs\n",
    "bilstm_precision_df = pd.DataFrame()\n",
    "bilstm_recall_df = pd.DataFrame()\n",
    "bilstm_f1_df = pd.DataFrame()\n",
    "for i in range(len(exp_list)):\n",
    "    filename = \"Results/Classification_Reports/Scam_Classifier\" + exp_list[i] + \"-best-\" + model_list[2] + \".csv\"\n",
    "    p, r, f = extract_scores(filename)\n",
    "    if i == 0:\n",
    "        bilstm_precision_df = p\n",
    "        bilstm_recall_df = r\n",
    "        bilstm_f1_df = f\n",
    "    else:\n",
    "        bilstm_precision_df = pd.concat([bilstm_precision_df, p], axis=1)\n",
    "        bilstm_recall_df = pd.concat([bilstm_recall_df, r], axis=1)\n",
    "        bilstm_f1_df = pd.concat([bilstm_f1_df, f], axis=1)\n",
    "\n",
    "bilstm_precision_df = bilstm_precision_df.iloc[:, [0, 1, 3, 5, 7, 9, 11]]\n",
    "bilstm_precision_df.columns = [\"scam_type\", 1, 2, 3, 4, 5, 6]\n",
    "bilstm_df = pd.melt(bilstm_precision_df, id_vars=['scam_type'])\n",
    "\n",
    "bilstm_recall_df = bilstm_recall_df.iloc[:, [0, 1, 3, 5, 7, 9, 11]]\n",
    "bilstm_recall_df.columns = [\"scam_type\", 1, 2, 3, 4, 5, 6]\n",
    "bilstm_df = pd.concat([bilstm_df, pd.melt(bilstm_recall_df, id_vars=['scam_type']).loc[:, ['value']]], axis=1)\n",
    "\n",
    "bilstm_f1_df = bilstm_f1_df.iloc[:, [0, 1, 3, 5, 7, 9, 11]]\n",
    "bilstm_f1_df.columns = [\"scam_type\", 1, 2, 3, 4, 5, 6]\n",
    "bilstm_df = pd.concat([bilstm_df, pd.melt(bilstm_f1_df, id_vars=['scam_type']).loc[:, ['value']]], axis=1)\n",
    "\n",
    "bilstm_df.columns = ['scam_type', 'combi', 'precision', 'recall', 'f1-score']\n",
    "\n",
    "glove_list = [[\"N\"] * 6, [\"Y\"] * 6, [\"N\"] * 6, [\"Y\"] * 6, [\"N\"] * 6, [\"Y\"] * 6]\n",
    "glove_list = [j for i in glove_list for j in i]\n",
    "\n",
    "exp_list3 = [[\"Experiment 1\"] * 12, [\"Experiment 2\"] * 12, [\"Experiment 3\"] * 12]\n",
    "exp_list3 = [j for i in exp_list3 for j in i]\n",
    "\n",
    "model_list3 = [['BiLSTM'] * 36]\n",
    "model_list3 = [j for i in model_list3 for j in i]\n",
    "\n",
    "bilstm_df['glove'] = glove_list\n",
    "bilstm_df['experiment'] = exp_list3\n",
    "bilstm_df['model'] = model_list3\n",
    "bilstm_df = bilstm_df.round(2)\n",
    "\n",
    "bilstm_df.head()"
   ]
  },
  {
   "cell_type": "markdown",
   "metadata": {},
   "source": [
    "### Visualise precision, recall and f1-scores for all models"
   ]
  },
  {
   "cell_type": "code",
   "execution_count": 22,
   "metadata": {},
   "outputs": [
    {
     "data": {
      "text/html": [
       "<div>\n",
       "<style scoped>\n",
       "    .dataframe tbody tr th:only-of-type {\n",
       "        vertical-align: middle;\n",
       "    }\n",
       "\n",
       "    .dataframe tbody tr th {\n",
       "        vertical-align: top;\n",
       "    }\n",
       "\n",
       "    .dataframe thead th {\n",
       "        text-align: right;\n",
       "    }\n",
       "</style>\n",
       "<table border=\"1\" class=\"dataframe\">\n",
       "  <thead>\n",
       "    <tr style=\"text-align: right;\">\n",
       "      <th></th>\n",
       "      <th>scam_type</th>\n",
       "      <th>combi</th>\n",
       "      <th>precision</th>\n",
       "      <th>recall</th>\n",
       "      <th>f1-score</th>\n",
       "      <th>glove</th>\n",
       "      <th>experiment</th>\n",
       "      <th>model</th>\n",
       "    </tr>\n",
       "  </thead>\n",
       "  <tbody>\n",
       "    <tr>\n",
       "      <th>0</th>\n",
       "      <td>Credit-for-Sex Scam</td>\n",
       "      <td>1</td>\n",
       "      <td>0.00</td>\n",
       "      <td>0.00</td>\n",
       "      <td>0.00</td>\n",
       "      <td>Without GloVe</td>\n",
       "      <td>Experiment 1</td>\n",
       "      <td>RNN</td>\n",
       "    </tr>\n",
       "    <tr>\n",
       "      <th>1</th>\n",
       "      <td>Home/Room Rental Scam</td>\n",
       "      <td>1</td>\n",
       "      <td>0.00</td>\n",
       "      <td>0.00</td>\n",
       "      <td>0.00</td>\n",
       "      <td>Without GloVe</td>\n",
       "      <td>Experiment 1</td>\n",
       "      <td>RNN</td>\n",
       "    </tr>\n",
       "    <tr>\n",
       "      <th>2</th>\n",
       "      <td>Impersonation Scam</td>\n",
       "      <td>1</td>\n",
       "      <td>0.84</td>\n",
       "      <td>0.93</td>\n",
       "      <td>0.88</td>\n",
       "      <td>Without GloVe</td>\n",
       "      <td>Experiment 1</td>\n",
       "      <td>RNN</td>\n",
       "    </tr>\n",
       "    <tr>\n",
       "      <th>3</th>\n",
       "      <td>Internet Love Scam</td>\n",
       "      <td>1</td>\n",
       "      <td>0.33</td>\n",
       "      <td>0.48</td>\n",
       "      <td>0.39</td>\n",
       "      <td>Without GloVe</td>\n",
       "      <td>Experiment 1</td>\n",
       "      <td>RNN</td>\n",
       "    </tr>\n",
       "    <tr>\n",
       "      <th>4</th>\n",
       "      <td>Investment Scam</td>\n",
       "      <td>1</td>\n",
       "      <td>0.00</td>\n",
       "      <td>0.00</td>\n",
       "      <td>0.00</td>\n",
       "      <td>Without GloVe</td>\n",
       "      <td>Experiment 1</td>\n",
       "      <td>RNN</td>\n",
       "    </tr>\n",
       "    <tr>\n",
       "      <th>...</th>\n",
       "      <td>...</td>\n",
       "      <td>...</td>\n",
       "      <td>...</td>\n",
       "      <td>...</td>\n",
       "      <td>...</td>\n",
       "      <td>...</td>\n",
       "      <td>...</td>\n",
       "      <td>...</td>\n",
       "    </tr>\n",
       "    <tr>\n",
       "      <th>31</th>\n",
       "      <td>Home/Room Rental Scam</td>\n",
       "      <td>6</td>\n",
       "      <td>0.78</td>\n",
       "      <td>0.87</td>\n",
       "      <td>0.82</td>\n",
       "      <td>With GloVe</td>\n",
       "      <td>Experiment 3</td>\n",
       "      <td>BiLSTM</td>\n",
       "    </tr>\n",
       "    <tr>\n",
       "      <th>32</th>\n",
       "      <td>Impersonation Scam</td>\n",
       "      <td>6</td>\n",
       "      <td>0.96</td>\n",
       "      <td>0.85</td>\n",
       "      <td>0.90</td>\n",
       "      <td>With GloVe</td>\n",
       "      <td>Experiment 3</td>\n",
       "      <td>BiLSTM</td>\n",
       "    </tr>\n",
       "    <tr>\n",
       "      <th>33</th>\n",
       "      <td>Internet Love Scam</td>\n",
       "      <td>6</td>\n",
       "      <td>0.87</td>\n",
       "      <td>0.79</td>\n",
       "      <td>0.83</td>\n",
       "      <td>With GloVe</td>\n",
       "      <td>Experiment 3</td>\n",
       "      <td>BiLSTM</td>\n",
       "    </tr>\n",
       "    <tr>\n",
       "      <th>34</th>\n",
       "      <td>Investment Scam</td>\n",
       "      <td>6</td>\n",
       "      <td>0.43</td>\n",
       "      <td>0.77</td>\n",
       "      <td>0.55</td>\n",
       "      <td>With GloVe</td>\n",
       "      <td>Experiment 3</td>\n",
       "      <td>BiLSTM</td>\n",
       "    </tr>\n",
       "    <tr>\n",
       "      <th>35</th>\n",
       "      <td>Online Purchase Scam</td>\n",
       "      <td>6</td>\n",
       "      <td>0.81</td>\n",
       "      <td>0.77</td>\n",
       "      <td>0.79</td>\n",
       "      <td>With GloVe</td>\n",
       "      <td>Experiment 3</td>\n",
       "      <td>BiLSTM</td>\n",
       "    </tr>\n",
       "  </tbody>\n",
       "</table>\n",
       "<p>108 rows × 8 columns</p>\n",
       "</div>"
      ],
      "text/plain": [
       "                scam_type combi  precision  recall  f1-score          glove  \\\n",
       "0     Credit-for-Sex Scam     1       0.00    0.00      0.00  Without GloVe   \n",
       "1   Home/Room Rental Scam     1       0.00    0.00      0.00  Without GloVe   \n",
       "2      Impersonation Scam     1       0.84    0.93      0.88  Without GloVe   \n",
       "3      Internet Love Scam     1       0.33    0.48      0.39  Without GloVe   \n",
       "4         Investment Scam     1       0.00    0.00      0.00  Without GloVe   \n",
       "..                    ...   ...        ...     ...       ...            ...   \n",
       "31  Home/Room Rental Scam     6       0.78    0.87      0.82     With GloVe   \n",
       "32     Impersonation Scam     6       0.96    0.85      0.90     With GloVe   \n",
       "33     Internet Love Scam     6       0.87    0.79      0.83     With GloVe   \n",
       "34        Investment Scam     6       0.43    0.77      0.55     With GloVe   \n",
       "35   Online Purchase Scam     6       0.81    0.77      0.79     With GloVe   \n",
       "\n",
       "      experiment   model  \n",
       "0   Experiment 1     RNN  \n",
       "1   Experiment 1     RNN  \n",
       "2   Experiment 1     RNN  \n",
       "3   Experiment 1     RNN  \n",
       "4   Experiment 1     RNN  \n",
       "..           ...     ...  \n",
       "31  Experiment 3  BiLSTM  \n",
       "32  Experiment 3  BiLSTM  \n",
       "33  Experiment 3  BiLSTM  \n",
       "34  Experiment 3  BiLSTM  \n",
       "35  Experiment 3  BiLSTM  \n",
       "\n",
       "[108 rows x 8 columns]"
      ]
     },
     "execution_count": 22,
     "metadata": {},
     "output_type": "execute_result"
    }
   ],
   "source": [
    "all_models_df = pd.concat([rnn_df, lstm_df, bilstm_df], axis=0)\n",
    "all_models_df['glove'] = all_models_df['glove'].replace('N', 'Without GloVe')\n",
    "all_models_df['glove'] = all_models_df['glove'].replace('Y', 'With GloVe')\n",
    "all_models_df['model'] = all_models_df['model'].astype(CategoricalDtype(categories=[\"RNN\",\"LSTM\",\"BiLSTM\"], ordered=True))\n",
    "all_models_df"
   ]
  },
  {
   "cell_type": "markdown",
   "metadata": {},
   "source": [
    "#### Precision"
   ]
  },
  {
   "cell_type": "code",
   "execution_count": 23,
   "metadata": {},
   "outputs": [
    {
     "data": {
      "image/png": "[encoded data removed]",
      "text/plain": [
       "<Figure size 1600x700 with 6 Axes>"
      ]
     },
     "metadata": {},
     "output_type": "display_data"
    },
    {
     "data": {
      "text/plain": [
       "<ggplot: (-9223371866078534964)>"
      ]
     },
     "execution_count": 23,
     "metadata": {},
     "output_type": "execute_result"
    }
   ],
   "source": [
    "g4 = (p9.ggplot(data=all_models_df,\n",
    "        mapping=p9.aes(x='model', fill='scam_type'))\n",
    "+ p9.geom_col(mapping=p9.aes(y='precision'), position='dodge', width=0.75, show_legend=True)\n",
    "+ p9.facet_grid('glove ~ experiment')\n",
    "+ p9.theme_bw() \n",
    "+ p9.ylab(\"Precision\")\n",
    "+ p9.xlab(\"\") \n",
    "+ p9.theme(legend_title=element_blank(), legend_position='bottom', subplots_adjust={'wspace': 0.03}, figure_size=(16, 7), axis_text_x = p9.element_text(rotation=0))\n",
    "# + p9.geom_text(p9.aes(y='precision', label='precision', angle=0), position=position_dodge(width=1), size=7, va='bottom', ha='center')\n",
    "+ p9.scale_fill_brewer(type='qual', palette='Set3', direction=-1)\n",
    ")\n",
    "\n",
    "g4"
   ]
  },
  {
   "cell_type": "code",
   "execution_count": 24,
   "metadata": {},
   "outputs": [],
   "source": [
    "# Save the plot\n",
    "# g4.save(\"Figures/precision.png\", width=10, height=5, dpi=800)"
   ]
  },
  {
   "cell_type": "markdown",
   "metadata": {},
   "source": [
    "#### Recall"
   ]
  },
  {
   "cell_type": "code",
   "execution_count": 25,
   "metadata": {},
   "outputs": [
    {
     "data": {
      "image/png": "[encoded data removed]",
      "text/plain": [
       "<Figure size 1600x700 with 6 Axes>"
      ]
     },
     "metadata": {},
     "output_type": "display_data"
    },
    {
     "data": {
      "text/plain": [
       "<ggplot: (-9223371866078023728)>"
      ]
     },
     "execution_count": 25,
     "metadata": {},
     "output_type": "execute_result"
    }
   ],
   "source": [
    "g5 = (p9.ggplot(data=all_models_df,\n",
    "        mapping=p9.aes(x='model', fill='scam_type'))\n",
    "+ p9.geom_col(mapping=p9.aes(y='recall'), position='dodge', width=0.75, show_legend=True)\n",
    "+ p9.facet_grid('glove ~ experiment')\n",
    "+ p9.theme_bw() \n",
    "+ p9.ylab(\"Recall\")\n",
    "+ p9.xlab(\"\") \n",
    "+ p9.theme(legend_title=element_blank(), legend_position='bottom', subplots_adjust={'wspace': 0.03}, figure_size=(16, 7), axis_text_x = p9.element_text(rotation=0))\n",
    "# + p9.geom_text(p9.aes(y='recall', label='recall', angle=0), position=position_dodge(width=1), size=7, va='bottom', ha='center')\n",
    "+ p9.scale_fill_brewer(type='qual', palette='Set3', direction=-1)\n",
    ")\n",
    "\n",
    "g5"
   ]
  },
  {
   "cell_type": "code",
   "execution_count": 26,
   "metadata": {},
   "outputs": [],
   "source": [
    "# Save the plot\n",
    "# g5.save(\"Figures/recall.png\", width=10, height=5, dpi=800)"
   ]
  },
  {
   "cell_type": "markdown",
   "metadata": {},
   "source": [
    "#### F1-Score"
   ]
  },
  {
   "cell_type": "code",
   "execution_count": 27,
   "metadata": {},
   "outputs": [
    {
     "data": {
      "image/png": "[encoded data removed]",
      "text/plain": [
       "<Figure size 1600x700 with 6 Axes>"
      ]
     },
     "metadata": {},
     "output_type": "display_data"
    },
    {
     "data": {
      "text/plain": [
       "<ggplot: (-9223371866077650720)>"
      ]
     },
     "execution_count": 27,
     "metadata": {},
     "output_type": "execute_result"
    }
   ],
   "source": [
    "g6 = (p9.ggplot(data=all_models_df,\n",
    "        mapping=p9.aes(x='model', fill='scam_type'))\n",
    "+ p9.geom_col(mapping=p9.aes(y='f1-score'), position='dodge', width=0.75, show_legend=True)\n",
    "+ p9.facet_grid('glove ~ experiment')\n",
    "+ p9.theme_bw() \n",
    "+ p9.ylab(\"F1-Score\")\n",
    "+ p9.xlab(\"\") \n",
    "+ p9.theme(legend_title=element_blank(), legend_position='bottom', subplots_adjust={'wspace': 0.03}, figure_size=(16, 7), axis_text_x = p9.element_text(rotation=0))\n",
    "# + p9.geom_text(p9.aes(y='f1-score', label='f1-score', angle=0), position=position_dodge(width=0.9), size=7, va='bottom', ha='center')\n",
    "+ p9.scale_fill_brewer(type='qual', palette='Set3', direction=-1)\n",
    ")\n",
    "\n",
    "g6"
   ]
  },
  {
   "cell_type": "code",
   "execution_count": 28,
   "metadata": {},
   "outputs": [],
   "source": [
    "# Save the plot\n",
    "# g6.save(\"Figures/f1_score.png\", width=10, height=5, dpi=800)"
   ]
  }
 ],
 "metadata": {
  "kernelspec": {
   "display_name": "Python 3",
   "language": "python",
   "name": "python3"
  },
  "language_info": {
   "codemirror_mode": {
    "name": "ipython",
    "version": 3
   },
   "file_extension": ".py",
   "mimetype": "text/x-python",
   "name": "python",
   "nbconvert_exporter": "python",
   "pygments_lexer": "ipython3",
   "version": "3.7.7"
  },
  "toc-autonumbering": true
 },
 "nbformat": 4,
 "nbformat_minor": 4
}
