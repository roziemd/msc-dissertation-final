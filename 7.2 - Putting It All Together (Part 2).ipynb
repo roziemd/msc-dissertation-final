{
 "cells": [
  {
   "cell_type": "markdown",
   "metadata": {},
   "source": [
    "# Putting It All Together (Part 2)"
   ]
  },
  {
   "cell_type": "markdown",
   "metadata": {},
   "source": [
    "The objective of this Python notebook is to demonstrate how unseen scam reports can be classified using the best deep learning model we have trained."
   ]
  },
  {
   "cell_type": "markdown",
   "metadata": {},
   "source": [
    "## Import the necessary libraries"
   ]
  },
  {
   "cell_type": "code",
   "execution_count": 11,
   "metadata": {},
   "outputs": [],
   "source": [
    "import pandas as pd\n",
    "import numpy as np\n",
    "from keras.models import load_model\n",
    "from keras.preprocessing.sequence import pad_sequences\n",
    "import pickle\n",
    "import re\n",
    "import spacy\n",
    "import nltk\n",
    "from nltk.corpus import stopwords"
   ]
  },
  {
   "cell_type": "code",
   "execution_count": 12,
   "metadata": {},
   "outputs": [],
   "source": [
    "nlp = spacy.load(\"en_core_web_sm\")"
   ]
  },
  {
   "cell_type": "markdown",
   "metadata": {},
   "source": [
    "## Define functions"
   ]
  },
  {
   "cell_type": "code",
   "execution_count": 13,
   "metadata": {},
   "outputs": [],
   "source": [
    "def predict_label(model, text):\n",
    "    \n",
    "    label_to_idx = {0: 'Home/Room Rental Scam',\n",
    "                    1: 'Impersonation Scam', \n",
    "                    2: 'Internet Love Scam', \n",
    "                    3: 'Investment Scam', \n",
    "                    4: 'Online Purchase Scam'}\n",
    "    \n",
    "    text = [pre_process(text)]\n",
    "    text = tokenizer.texts_to_sequences(text)\n",
    "    text = pad_sequences(text, maxlen=maxlen)\n",
    "    pred_probabilities = model.predict(text)\n",
    "    Y_pred = [np.argmax(x) for x in pred_probabilities][0]\n",
    "    \n",
    "    for k, v in label_to_idx.items():\n",
    "        if k == Y_pred:\n",
    "            predicted = v\n",
    "            break\n",
    "        \n",
    "    return predicted"
   ]
  },
  {
   "cell_type": "code",
   "execution_count": 14,
   "metadata": {},
   "outputs": [],
   "source": [
    "def unabbreviate(text):\n",
    "\n",
    "    \"\"\"This function takes a text string as input, finds acronyms as defined in a specified Python dictionary,\n",
    "    and replaces those acronyms with their unabbreviated forms.\"\"\"\n",
    "    \n",
    "    # Define a Python dictionary to match acronym to their non-abbreviated forms\n",
    "    acronym_dict = {'ICA': 'immigration and checkpoints authority', \n",
    "                    'ID': 'identity',\n",
    "                    'DBS': 'dbs bank', \n",
    "                    'FB': 'facebook',\n",
    "                    'SG': 'singapore',\n",
    "                    'UK': 'united kingdom',\n",
    "                    'NRIC': 'identity number',\n",
    "                    'IC': 'identity number',\n",
    "                    'I/C': 'identity number',\n",
    "                    'HQ': 'headquarters',\n",
    "                    'MOM': 'ministry of manpower',\n",
    "                    'POSB': 'posb bank',\n",
    "                    'MOH': 'ministry of health',\n",
    "                    'OCBC': 'ocbc bank',\n",
    "                    'CMB': 'cmb bank',\n",
    "                    'SPF': 'singapore police force',\n",
    "                    'IRAS': 'inland revenue authority of singapore',\n",
    "                    'UOB': 'uob bank',\n",
    "                    'IG': 'instagram',\n",
    "                    'HP': 'handphone',\n",
    "                    'HK': 'hong kong',\n",
    "                    'KL': 'kuala lumpur',\n",
    "                    'PM': 'private message',\n",
    "                    'MRT': 'mass rapid transit train',\n",
    "                    'DOB': 'date of birth',\n",
    "                    'ATM': 'automated teller machine',\n",
    "                    'MAS': 'monetary authority of singapore',\n",
    "                    'PRC': 'people republic of china',\n",
    "                    'USS': 'universal studios singapore',\n",
    "                    'MIA': 'missing in action',\n",
    "                    'GST': 'goods and services tax',\n",
    "                    'CIMB': 'cimb bank',\n",
    "                    'HSBC': 'hsbc bank',\n",
    "                    'MBS': 'marina_bay_sands',\n",
    "                    'LTD': 'limited',\n",
    "                    'ASAP': 'as soon as possible',\n",
    "                    'IBAN': 'international bank account number',\n",
    "                    'HR': 'human resource',\n",
    "                    'AMK': 'ang mo kio',\n",
    "                    'CID': 'criminal investigation department',\n",
    "                    'PTE': 'private',\n",
    "                    'OTP': 'one time password',\n",
    "                    'WA': 'whatsapp',\n",
    "                    'PC': 'personal computer',\n",
    "                    'ACRA': 'accounting and corporate regulatory authority',\n",
    "                    'CPF': 'central provident fund',\n",
    "                    'ISD': 'internal security department', \n",
    "                    'WP': 'work permit',\n",
    "                    'OKC': 'okcupid', \n",
    "                    'HDB': 'housing development board', \n",
    "                    'NPC': 'neighbourhood police centre',\n",
    "                    'MOP': 'member of public',\n",
    "                    'MOPS': 'members of public', \n",
    "                    'IMO': 'in my opinion',\n",
    "                    'ISP': 'internet service provider', \n",
    "                    'IMDA': 'infocomm media development authority', \n",
    "                    'CB': 'circuit breaker',\n",
    "                    'MINLAW': 'ministry of law',\n",
    "                    'LMAO': 'laugh my ass off',\n",
    "                    'AKA': 'also known as',\n",
    "                    'BF': 'boyfriend', \n",
    "                    'W/O': 'without',\n",
    "                    'MOF': 'ministry of finance'}\n",
    "    \n",
    "    # Tokenize the text\n",
    "    x = nltk.word_tokenize(text)\n",
    "\n",
    "    # Replace acronyms (both upper-case and lower-case) with their unabbreviated forms\n",
    "    for index, token in enumerate(x):\n",
    "        for k, v in acronym_dict.items():\n",
    "            if token == k or token == k.lower():\n",
    "                x[index] = v\n",
    "                break\n",
    "\n",
    "    return ' '.join(x).replace(\" .\", \".\").replace(\" ,\", \",\")"
   ]
  },
  {
   "cell_type": "code",
   "execution_count": 15,
   "metadata": {},
   "outputs": [],
   "source": [
    "def remove_url(text): \n",
    "\n",
    "    \"\"\"This function takes a text string as input and replaces URL links with a <url> token.\"\"\"\n",
    "\n",
    "    regex = r\"(?i)\\b((?:https?://|www\\d{0,3}[.]|[a-z0-9.\\-]+[.][a-z]{2,4}/)(?:[^\\s()<>]+|\\(([^\\s()<>]+|(\\([^\\s()<>]+\\)))*\\))+(?:\\(([^\\s()<>]+|(\\([^\\s()<>]+\\)))*\\)|[^\\s`!()\\[\\]{};:'\\\".,<>?«»“”‘’]))\" \n",
    "    text = re.sub(regex, \"url_link\", text)   \n",
    "    \n",
    "    return text"
   ]
  },
  {
   "cell_type": "code",
   "execution_count": 16,
   "metadata": {},
   "outputs": [],
   "source": [
    "def decontract(phrase):\n",
    "    \n",
    "    \"\"\"This function takes a phrase, finds contracted words and expands them.\n",
    "    Source: https://stackoverflow.com/questions/43018030/replace-apostrophe-short-words-in-python\"\"\"\n",
    "    \n",
    "    # Specific\n",
    "    phrase = re.sub(r\"won\\'t\", \"will not\", phrase)\n",
    "    phrase = re.sub(r\"can\\'t\", \"can not\", phrase)\n",
    "    phrase = re.sub(r\"let\\'s\", \"let us\", phrase)\n",
    "    \n",
    "    # general\n",
    "    phrase = re.sub(r\"n\\'t\", \" not\", phrase)\n",
    "    phrase = re.sub(r\"\\'re\", \" are\", phrase)\n",
    "    phrase = re.sub(r\"\\'s\", \" is\", phrase)\n",
    "    phrase = re.sub(r\"\\'d\", \" would\", phrase)\n",
    "    phrase = re.sub(r\"\\'ll\", \" will\", phrase)\n",
    "    phrase = re.sub(r\"\\'t\", \" not\", phrase)\n",
    "    phrase = re.sub(r\"\\'ve\", \" have\", phrase)\n",
    "    phrase = re.sub(r\"\\'m\", \" am\", phrase)\n",
    "    \n",
    "    # Specific\n",
    "    phrase = re.sub(r\"won\\’t\", \"will not\", phrase)\n",
    "    phrase = re.sub(r\"can\\’t\", \"can not\", phrase)\n",
    "    phrase = re.sub(r\"let\\’s\", \"let us\", phrase)\n",
    "\n",
    "    # general\n",
    "    phrase = re.sub(r\"n\\’t\", \" not\", phrase)\n",
    "    phrase = re.sub(r\"\\’re\", \" are\", phrase)\n",
    "    phrase = re.sub(r\"\\’s\", \" is\", phrase)\n",
    "    phrase = re.sub(r\"\\’d\", \" would\", phrase)\n",
    "    phrase = re.sub(r\"\\’ll\", \" will\", phrase)\n",
    "    phrase = re.sub(r\"\\’t\", \" not\", phrase)\n",
    "    phrase = re.sub(r\"\\’ve\", \" have\", phrase)\n",
    "    phrase = re.sub(r\"\\’m\", \" am\", phrase)\n",
    "    \n",
    "    return phrase"
   ]
  },
  {
   "cell_type": "code",
   "execution_count": 17,
   "metadata": {},
   "outputs": [],
   "source": [
    "def remove_punct(text):\n",
    "\n",
    "    \"\"\"This function takes a text string as input and returns the same text string without specified punctuation marks.\"\"\"\n",
    "    \n",
    "    # Specify punctuation marks to remove from text string\n",
    "    punctuation = \"``-±!@#$%^&*()+?:;”“’<>\" \n",
    "\n",
    "    # Loop through the text to remove specified punctuations\n",
    "    for c in text:\n",
    "        if c in punctuation:\n",
    "            text = text.replace(c, \"\").replace('/', ' ').replace('`', \"\").replace('\"', '')\n",
    "\n",
    "    return text"
   ]
  },
  {
   "cell_type": "code",
   "execution_count": 18,
   "metadata": {},
   "outputs": [],
   "source": [
    "def correct_misspelled_words(text):\n",
    "    \n",
    "    # Define a Python dictionary to match misspelled words to their correctly-spelled forms\n",
    "    spellcheck_dict = {'acct': 'account', \n",
    "                       'acc': 'account',\n",
    "                       'a/c': 'account',\n",
    "                       'blk': 'block',\n",
    "                       'alot': 'a lot', \n",
    "                       'abit': 'a bit',\n",
    "                       'watsapp': 'whatsapp',\n",
    "                       'whatapps': 'whatsapp',\n",
    "                       'whatapp': 'whatsapp',\n",
    "                       'wadsapp': 'whatsapp',\n",
    "                       'watapps': 'whatsapp',\n",
    "                       'whatsapps': 'whatsapp',\n",
    "                       'whats app': 'whatsapp',\n",
    "                       'whatsaap': 'whatsapp',\n",
    "                       'whatsap': 'whatsapp',\n",
    "                       'whattsapp': 'whatsapp',\n",
    "                       'whattapp': 'whatsapp',\n",
    "                       'whatsap': 'whatsapp',\n",
    "                       'whataspp': 'whatsapp',\n",
    "                       'whatapps': 'whatsapp',\n",
    "                       'whastapp': 'whatsapp',\n",
    "                       'whatsapphe': 'whatsapp',\n",
    "                       'whattapp': 'whatsapp',\n",
    "                       'abt': 'about',\n",
    "                       'recieved': 'received',\n",
    "                       'recieve': 'receive',\n",
    "                       'hv': 'have',\n",
    "                       'amt': 'amount',\n",
    "                       'mths': 'months',\n",
    "                       'gf': 'girlfriend',\n",
    "                       'msia': 'malaysia',\n",
    "                       'tranfer': 'transfer',\n",
    "                       'trans': 'transfer',\n",
    "                       'trf': 'transfer',\n",
    "                       'becareful': 'be careful',\n",
    "                       'frm': 'from',\n",
    "                       'msgs': 'messages',\n",
    "                       'msg': 'message',\n",
    "                       'plz': 'please',\n",
    "                       'pls': 'please',\n",
    "                       'harrass': 'harass',\n",
    "                       'sintel': 'singtel',\n",
    "                       'ard': 'around',\n",
    "                       'wk': 'week', \n",
    "                       'fyi': 'for your information',\n",
    "                       'govt': 'government',\n",
    "                       'gov': 'government',\n",
    "                       'thru': 'through',\n",
    "                       'assent': 'accent', \n",
    "                       'dun': 'do not',\n",
    "                       'nv': 'never', \n",
    "                       'sing-tel': 'singtel', \n",
    "                       'sintel': 'singtel',\n",
    "                       'insta': 'instagram', \n",
    "                       'sg': 'singapore', \n",
    "                       'payapl': 'paypal', \n",
    "                       'carousel': 'carousell',\n",
    "                       'tix': 'tickets', \n",
    "                       'mandrain': 'mandarin', \n",
    "                       'admin': 'administrative',\n",
    "                       'bz': 'busy',\n",
    "                       'daugter': 'daughter',\n",
    "                       'cos': 'because',\n",
    "                       'bcos': 'because',\n",
    "                       'I-banking': 'internet banking',\n",
    "                       'intl': 'international',\n",
    "                       'shoppe': 'shopee',\n",
    "                       'tis': 'this',\n",
    "                       'docs': 'documents',\n",
    "                       'doc': 'document',\n",
    "                       'ytd': 'yesterday', \n",
    "                       'tmr': 'tomorrow', \n",
    "                       'mon': 'monday',\n",
    "                       'tue': 'tuesday', \n",
    "                       'tues': 'tuesday', \n",
    "                       'wed': 'wednesday',\n",
    "                       'thu': 'thursday',\n",
    "                       'thur': 'thursday', \n",
    "                       'thurs': 'thursday',\n",
    "                       'fri': 'friday',\n",
    "                       'wikipeida': 'wikipedia',\n",
    "                       'juz': 'just',\n",
    "                       'impt': 'important',\n",
    "                       'transger': 'transfer',\n",
    "                       'suspicios': 'suspicious',\n",
    "                       'suspicius': 'suspicious',\n",
    "                       'suspicous': 'suspicious',\n",
    "                       'suspecious': 'suspicious',\n",
    "                       'suspision': 'suspicion',\n",
    "                       'nvr': 'never', \n",
    "                       'instagam': 'instagram', \n",
    "                       'instagramm': 'instagram',\n",
    "                       \"s'pore\": \"singapore\", \n",
    "                       'polive': 'police',\n",
    "                       'linkein': 'linkedin',\n",
    "                       'messanger': 'messenger', \n",
    "                       'scammmer': 'scammer',\n",
    "                       'laywer': 'lawyer',\n",
    "                       'dunno': 'do not know',\n",
    "                       'tidner': 'tinder',\n",
    "                       'rcvd': 'received',\n",
    "                       'infomed': 'informed',\n",
    "                       'informaing': 'informing', \n",
    "                       'knowldge': 'knowledge'}\n",
    "\n",
    "    # Tokenize the text\n",
    "    x = nltk.word_tokenize(text)    \n",
    "    \n",
    "    for index, token in enumerate(x):\n",
    "        for k, v in spellcheck_dict.items():\n",
    "            if token == k:\n",
    "                x[index] = v\n",
    "                break\n",
    "        \n",
    "    return ' '.join(x).replace(' .', '.').replace(' ,', ',').replace('< ', '<').replace(' >', '>')"
   ]
  },
  {
   "cell_type": "code",
   "execution_count": 19,
   "metadata": {},
   "outputs": [],
   "source": [
    "def remove_stopwords(text_string):\n",
    "\n",
    "    \"\"\"This function takes a text string as input, tokenises it and returns a list of tokens without stopwords.\"\"\"\n",
    "    \n",
    "    word_list = [word for word in nltk.word_tokenize(text_string) if not word in set(stopwords.words('english'))]\n",
    "    text = ' '.join(word_list).replace(' .', '').replace(' ,', '').replace('< ', '<').replace(' >', '>')\n",
    "\n",
    "    return text"
   ]
  },
  {
   "cell_type": "code",
   "execution_count": 20,
   "metadata": {},
   "outputs": [],
   "source": [
    "def lemmatise(text_string):\n",
    "\n",
    "    \"\"\"This function takes a tokenised text string as input and returns another tokenised text string after lemmatisation.\"\"\"\n",
    "\n",
    "    list_of_tokens = [token.lemma_ for token in nlp(text_string)]\n",
    "    text = ' '.join(list_of_tokens).replace('< ', '<').replace(' >', '>')\n",
    "    \n",
    "    return text"
   ]
  },
  {
   "cell_type": "code",
   "execution_count": 21,
   "metadata": {},
   "outputs": [],
   "source": [
    "def pre_process(text):\n",
    "\n",
    "    \"\"\"This function takes a text string as input and pre-processes them as follow: \n",
    "    1. Ignore ASCII encodings if any, and decode them as UTF-8\n",
    "    2. Replaces any URL link with 'url_link' \n",
    "    3. Add space after comma, full-stop, question and exclamation mark\n",
    "    4. Remove digits\n",
    "    5. Expands out contracted words\n",
    "    6. Convert all words into lower cases and remove white spaces\n",
    "    7. Remove punctuations except full-stops and commas\n",
    "    8. Replace acronyms with unabbreviated forms \n",
    "    9. Replace misspelled words with correctly-spelled forms\"\"\"\n",
    "    \n",
    "    # 1. Ignore ASCII encodings if any, and decode them as UTF-8\n",
    "#     text = text.encode('ascii', 'ignore').decode('utf-8')\n",
    "    text = re.sub(r'[^\\x00-\\x7f]',r' ', text)\n",
    "    \n",
    "    # 2. Replace any URL link with 'url_link' \n",
    "    text = remove_url(text.replace('\\n', ' '))\n",
    "\n",
    "    # 3. Add a space after comma, full-stop, question mark and exclamation mark\n",
    "    text = re.sub(r'(?<=[.,?!])(?=[^\\s])', r' ', text)\n",
    "    \n",
    "    # 4. Remove digits\n",
    "    text = re.sub(r'\\d+', '', text)\n",
    "    \n",
    "    # 5. Expand contractions\n",
    "    text = decontract(text)\n",
    "\n",
    "    # 6. Convert to lower cases and remove white spaces\n",
    "    text = text.lower().strip().replace('’s', '')\n",
    "\n",
    "    # 7. Remove punctuations except full-stops and commas.\n",
    "    text = remove_punct(text)\n",
    "\n",
    "    # 8. Replace acronyms with their unabbreviated forms\n",
    "    text = unabbreviate(text)\n",
    "\n",
    "    # 9. Replace misspelled words with their correctly-spelled forms\n",
    "    text = correct_misspelled_words(text)\n",
    "\n",
    "    return text"
   ]
  },
  {
   "cell_type": "code",
   "execution_count": 42,
   "metadata": {},
   "outputs": [],
   "source": [
    "def predict_label(model, text, tokenizer, label_to_idx, maxlen=66):\n",
    "\n",
    "    print(\"Input text:\", text, \"\\n\")\n",
    "    \n",
    "    text = [pre_process(text)][0]\n",
    "    print(\"After text pre-processing:\", text, \"\\n\")\n",
    "    \n",
    "    text = remove_stopwords(text)\n",
    "    print(\"After removing stopwords:\", text, \"\\n\")\n",
    "\n",
    "    text = [lemmatise(text)]\n",
    "    print(\"After lemmatisation:\", text, \"\\n\")\n",
    "\n",
    "    text = tokenizer.texts_to_sequences(text)\n",
    "    print(\"After conversion to sequence:\", text, \"\\n\")\n",
    "\n",
    "    text = pad_sequences(text, maxlen=maxlen)\n",
    "    print(\"After padding sequences:\", text, \"\\n\")\n",
    "\n",
    "    pred_probabilities = model.predict(text)\n",
    "    print(\"Predicted probabilities:\", np.round(pred_probabilities, 3), \"\\n\")\n",
    "    \n",
    "    Y_pred = [np.argmax(x) for x in pred_probabilities][0]\n",
    "\n",
    "    for k, v in label_to_idx.items():\n",
    "        if k == Y_pred:\n",
    "            predicted = v\n",
    "            break\n",
    "    \n",
    "    print(\"Predicted classification:\", predicted)\n",
    "#     return predicted"
   ]
  },
  {
   "cell_type": "markdown",
   "metadata": {},
   "source": [
    "## Load the model"
   ]
  },
  {
   "cell_type": "code",
   "execution_count": 23,
   "metadata": {},
   "outputs": [],
   "source": [
    "# Load the selected model\n",
    "model = load_model(\"Models/Scam_Classifier_Augmented_Text/best-LSTM-fold-5.h5\")"
   ]
  },
  {
   "cell_type": "markdown",
   "metadata": {},
   "source": [
    "## Load the tokenizer"
   ]
  },
  {
   "cell_type": "code",
   "execution_count": 24,
   "metadata": {},
   "outputs": [],
   "source": [
    "# Load the tokeniser\n",
    "with open('Tokenizer/scam_classifier_augmented_text_tokenizer.pickle', 'rb') as handle:\n",
    "    tokenizer = pickle.load(handle)    "
   ]
  },
  {
   "cell_type": "markdown",
   "metadata": {},
   "source": [
    "## Load the dictionary for mapping of categories "
   ]
  },
  {
   "cell_type": "code",
   "execution_count": 25,
   "metadata": {},
   "outputs": [
    {
     "data": {
      "text/plain": [
       "{0: 'Credit-for-Sex Scam',\n",
       " 1: 'Home/Room Rental Scam',\n",
       " 2: 'Impersonation Scam',\n",
       " 3: 'Internet Love Scam',\n",
       " 4: 'Investment Scam',\n",
       " 5: 'Online Purchase Scam'}"
      ]
     },
     "execution_count": 25,
     "metadata": {},
     "output_type": "execute_result"
    }
   ],
   "source": [
    "a_file = open(\"Data/scam_type_cat_mapping.pkl\", \"rb\")\n",
    "scam_type_cat_mapping = pickle.load(a_file)\n",
    "scam_type_cat_mapping"
   ]
  },
  {
   "cell_type": "markdown",
   "metadata": {},
   "source": [
    "## Predict classification for a text"
   ]
  },
  {
   "cell_type": "markdown",
   "metadata": {},
   "source": [
    "### Impersonation Scam"
   ]
  },
  {
   "cell_type": "code",
   "execution_count": 26,
   "metadata": {},
   "outputs": [],
   "source": [
    "text = \"I received a scam call. It was an automated voice from the Singapore High Court, stating that I have an outstanding summon. I was asked to pay it.\""
   ]
  },
  {
   "cell_type": "code",
   "execution_count": 43,
   "metadata": {},
   "outputs": [
    {
     "name": "stdout",
     "output_type": "stream",
     "text": [
      "Input text: I received a scam call. It was an automated voice from the Singapore High Court, stating that I have an outstanding summon. I was asked to pay it. \n",
      "\n",
      "After text pre-processing: i received a scam call. it was an automated voice from the singapore high court, stating that i have an outstanding summon. i was asked to pay it. \n",
      "\n",
      "After removing stopwords: received scam call automated voice singapore high court stating outstanding summon asked pay \n",
      "\n",
      "After lemmatisation: ['receive scam call automate voice singapore high court state outstanding summon ask pay'] \n",
      "\n",
      "After conversion to sequence: [[17, 13, 1, 168, 158, 18, 264, 418, 99, 849, 928, 2, 5]] \n",
      "\n",
      "After padding sequences: [[  0   0   0   0   0   0   0   0   0   0   0   0   0   0   0   0   0   0\n",
      "    0   0   0   0   0   0   0   0   0   0   0   0   0   0   0   0   0   0\n",
      "    0   0   0   0   0   0   0   0   0   0   0   0   0   0   0   0   0  17\n",
      "   13   1 168 158  18 264 418  99 849 928   2   5]] \n",
      "\n",
      "Predicted probabilities: [[0.003 0.002 0.987 0.002 0.001 0.006]] \n",
      "\n",
      "Predicted classification: Impersonation Scam\n"
     ]
    }
   ],
   "source": [
    "predict_label(model=model, text=text, tokenizer=tokenizer, label_to_idx=scam_type_cat_mapping)"
   ]
  },
  {
   "cell_type": "code",
   "execution_count": 44,
   "metadata": {},
   "outputs": [
    {
     "data": {
      "text/plain": [
       "\"Someone with a thick Indian accent told me they are from Singtel, and that my internet connection was used for illegal activities overseas. they want to help me solve the problem, and ask if I am in front of my computer. I told them I wasn't and hung up the call.\""
      ]
     },
     "execution_count": 44,
     "metadata": {},
     "output_type": "execute_result"
    }
   ],
   "source": [
    "text = \"Someone with a thick Indian accent told me they are from Singtel, and that my internet connection was used for illegal activities overseas. they want to help me solve the problem, and ask if I am in front of my computer. I told them I wasn't and hung up the call.\"\n",
    "text"
   ]
  },
  {
   "cell_type": "code",
   "execution_count": 45,
   "metadata": {},
   "outputs": [
    {
     "name": "stdout",
     "output_type": "stream",
     "text": [
      "Input text: Someone with a thick Indian accent told me they are from Singtel, and that my internet connection was used for illegal activities overseas. they want to help me solve the problem, and ask if I am in front of my computer. I told them I wasn't and hung up the call. \n",
      "\n",
      "After text pre-processing: someone with a thick indian accent told me they are from singtel, and that my internet connection was used for illegal activities overseas. they want to help me solve the problem, and ask if i am in front of my computer. i told them i was not and hung up the call. \n",
      "\n",
      "After removing stopwords: someone thick indian accent told singtel internet connection used illegal activities overseas want help solve problem ask front computer told hung call \n",
      "\n",
      "After lemmatisation: ['someone thick indian accent tell singtel internet connection use illegal activity overseas want help solve problem ask front computer tell hang call'] \n",
      "\n",
      "After conversion to sequence: [[137, 2096, 480, 260, 7, 261, 204, 710, 26, 643, 919, 374, 20, 82, 1403, 337, 2, 650, 421, 7, 94, 1]] \n",
      "\n",
      "After padding sequences: [[   0    0    0    0    0    0    0    0    0    0    0    0    0    0\n",
      "     0    0    0    0    0    0    0    0    0    0    0    0    0    0\n",
      "     0    0    0    0    0    0    0    0    0    0    0    0    0    0\n",
      "     0    0  137 2096  480  260    7  261  204  710   26  643  919  374\n",
      "    20   82 1403  337    2  650  421    7   94    1]] \n",
      "\n",
      "Predicted probabilities: [[0.001 0.001 0.994 0.001 0.    0.003]] \n",
      "\n",
      "Predicted classification: Impersonation Scam\n"
     ]
    }
   ],
   "source": [
    "predict_label(model=model, text=text, tokenizer=tokenizer, label_to_idx=scam_type_cat_mapping)"
   ]
  },
  {
   "cell_type": "code",
   "execution_count": 46,
   "metadata": {},
   "outputs": [
    {
     "data": {
      "text/plain": [
       "'I received a phone call from a man claiming to be from singtel support on 10th august 2020 at 1.38pm. he told me that something is wrong with my internet connection and there are many people from overseas are using my internet. by the way, I cannot really understand him due to his strong indian accent. he sounded like an indian national. I felt that the call was very suspicious, hence, I asked him for his full name. He said Mike Ambray. he also give me his email address and some license number. i told him that i cannot trust him and i will call singtel to verify first. But he was very insistent that he could show me through the computer. i am curious how he is able to show me. i went to my computer and he instructed me to key windows and r keys together. then type cmd into the run app resulting in black window appearing. but i stopped there and said i will call singtel first. He became agitated and kept insisting that just one more step. i hang up the phone and call the police hot line and was told this is a scam call. the phone number that appeared on the caller id was a fake number. when i tried calling back, the voice message said that this number is not in use.'"
      ]
     },
     "execution_count": 46,
     "metadata": {},
     "output_type": "execute_result"
    }
   ],
   "source": [
    "text = \"I received a phone call from a man claiming to be from singtel support on 10th august 2020 at 1.38pm. he told me that something is wrong with my internet connection and there are many people from overseas are using my internet. by the way, I cannot really understand him due to his strong indian accent. he sounded like an indian national. I felt that the call was very suspicious, hence, I asked him for his full name. He said Mike Ambray. he also give me his email address and some license number. i told him that i cannot trust him and i will call singtel to verify first. But he was very insistent that he could show me through the computer. i am curious how he is able to show me. i went to my computer and he instructed me to key windows and r keys together. then type cmd into the run app resulting in black window appearing. but i stopped there and said i will call singtel first. He became agitated and kept insisting that just one more step. i hang up the phone and call the police hot line and was told this is a scam call. the phone number that appeared on the caller id was a fake number. when i tried calling back, the voice message said that this number is not in use.\"\n",
    "text"
   ]
  },
  {
   "cell_type": "code",
   "execution_count": 47,
   "metadata": {},
   "outputs": [
    {
     "name": "stdout",
     "output_type": "stream",
     "text": [
      "Input text: I received a phone call from a man claiming to be from singtel support on 10th august 2020 at 1.38pm. he told me that something is wrong with my internet connection and there are many people from overseas are using my internet. by the way, I cannot really understand him due to his strong indian accent. he sounded like an indian national. I felt that the call was very suspicious, hence, I asked him for his full name. He said Mike Ambray. he also give me his email address and some license number. i told him that i cannot trust him and i will call singtel to verify first. But he was very insistent that he could show me through the computer. i am curious how he is able to show me. i went to my computer and he instructed me to key windows and r keys together. then type cmd into the run app resulting in black window appearing. but i stopped there and said i will call singtel first. He became agitated and kept insisting that just one more step. i hang up the phone and call the police hot line and was told this is a scam call. the phone number that appeared on the caller id was a fake number. when i tried calling back, the voice message said that this number is not in use. \n",
      "\n",
      "After text pre-processing: i received a phone call from a man claiming to be from singtel support on th august at. private message. he told me that something is wrong with my internet connection and there are many people from overseas are using my internet. by the way, i can not really understand him due to his strong indian accent. he sounded like an indian national. i felt that the call was very suspicious, hence, i asked him for his full name. he said mike ambray. he also give me his email address and some license number. i told him that i can not trust him and i will call singtel to verify first. but he was very insistent that he could show me through the computer. i am curious how he is able to show me. i went to my computer and he instructed me to key windows and r keys together. then type cmd into the run app resulting in black window appearing. but i stopped there and said i will call singtel first. he became agitated and kept insisting that just one more step. i hang up the phone and call the police hot line and was told this is a scam call. the phone number that appeared on the caller identity was a fake number. when i tried calling back, the voice message said that this number is not in use. \n",
      "\n",
      "After removing stopwords: received phone call man claiming singtel support th august private message told something wrong internet connection many people overseas using internet way really understand due strong indian accent sounded like indian national felt call suspicious hence asked full name said mike ambray also give email address license number told trust call singtel verify first insistent could show computer curious able show went computer instructed key windows r keys together type cmd run app resulting black window appearing stopped said call singtel first became agitated kept insisting one step hang phone call police hot line told scam call phone number appeared caller identity fake number tried calling back voice message said number use \n",
      "\n",
      "After lemmatisation: ['receive phone call man claim singtel support th august private message tell something wrong internet connection many people overseas use internet way really understand due strong indian accent sound like indian national feel call suspicious hence ask full name say mike ambray also give email address license number tell trust call singtel verify first insistent could show computer curious able show go computer instruct key window r key together type cmd run app result black window appearing stop say call singtel first become agitated keep insist one step hang phone call police hot line tell scam call phone number appear caller identity fake number try call back voice message say number use'] \n",
      "\n",
      "After conversion to sequence: [[17, 32, 1, 120, 19, 261, 810, 321, 840, 107, 27, 7, 186, 550, 204, 710, 141, 127, 374, 26, 204, 180, 292, 771, 164, 1162, 480, 260, 315, 73, 480, 922, 217, 1, 258, 493, 2, 311, 22, 3, 2711, 70, 15, 23, 59, 1631, 4, 7, 249, 1, 261, 226, 43, 3455, 79, 138, 421, 806, 326, 138, 16, 421, 329, 379, 1186, 1694, 379, 824, 675, 3001, 440, 148, 1547, 1187, 1186, 182, 3, 1, 261, 43, 479, 4152, 105, 201, 56, 1072, 94, 32, 1, 28, 2430, 84, 7, 13, 1, 32, 4, 520, 278, 51, 135, 4, 98, 1, 41, 158, 27, 3, 4, 26]] \n",
      "\n",
      "After padding sequences: [[  59 1631    4    7  249    1  261  226   43 3455   79  138  421  806\n",
      "   326  138   16  421  329  379 1186 1694  379  824  675 3001  440  148\n",
      "  1547 1187 1186  182    3    1  261   43  479 4152  105  201   56 1072\n",
      "    94   32    1   28 2430   84    7   13    1   32    4  520  278   51\n",
      "   135    4   98    1   41  158   27    3    4   26]] \n",
      "\n",
      "Predicted probabilities: [[0.001 0.001 0.994 0.001 0.    0.003]] \n",
      "\n",
      "Predicted classification: Impersonation Scam\n"
     ]
    }
   ],
   "source": [
    "predict_label(model=model, text=text, tokenizer=tokenizer, label_to_idx=scam_type_cat_mapping)"
   ]
  },
  {
   "cell_type": "code",
   "execution_count": 48,
   "metadata": {},
   "outputs": [
    {
     "data": {
      "text/plain": [
       "\"I've received a call from someone called 'Alex William' and he told me that he was from Singtel. He told me that my WiFi was compromised and required us to use the command prompt command and he asked me to enter some commands, When i told him i was busy, he flustered and requested to call me back at a later time. When I tried to ask for incident case ticket number, he was unable to provide me with one and hung up on me abruptly. Fortunately i didn't do as he requested me to do and nothing was lost, including any personal information.\""
      ]
     },
     "execution_count": 48,
     "metadata": {},
     "output_type": "execute_result"
    }
   ],
   "source": [
    "text = \"I've received a call from someone called 'Alex William' and he told me that he was from Singtel. He told me that my WiFi was compromised and required us to use the command prompt command and he asked me to enter some commands, When i told him i was busy, he flustered and requested to call me back at a later time. When I tried to ask for incident case ticket number, he was unable to provide me with one and hung up on me abruptly. Fortunately i didn't do as he requested me to do and nothing was lost, including any personal information.\"\n",
    "text"
   ]
  },
  {
   "cell_type": "code",
   "execution_count": 49,
   "metadata": {},
   "outputs": [
    {
     "name": "stdout",
     "output_type": "stream",
     "text": [
      "Input text: I've received a call from someone called 'Alex William' and he told me that he was from Singtel. He told me that my WiFi was compromised and required us to use the command prompt command and he asked me to enter some commands, When i told him i was busy, he flustered and requested to call me back at a later time. When I tried to ask for incident case ticket number, he was unable to provide me with one and hung up on me abruptly. Fortunately i didn't do as he requested me to do and nothing was lost, including any personal information. \n",
      "\n",
      "After text pre-processing: i have received a call from someone called 'alex william ' and he told me that he was from singtel. he told me that my wifi was compromised and required us to use the command prompt command and he asked me to enter some commands, when i told him i was busy, he flustered and requested to call me back at a later time. when i tried to ask for incident case ticket number, he was unable to provide me with one and hung up on me abruptly. fortunately i did not do as he requested me to do and nothing was lost, including any personal information. \n",
      "\n",
      "After removing stopwords: received call someone called 'alex william ' told singtel told wifi compromised required us use command prompt command asked enter commands told busy flustered requested call back later time tried ask incident case ticket number unable provide one hung abruptly fortunately requested nothing lost including personal information \n",
      "\n",
      "After lemmatisation: [\"receive call someone call ' alex william ' tell singtel tell wifi compromise require -PRON- use command prompt command ask enter command tell busy fluster request call back later time try ask incident case ticket number unable provide one hang abruptly fortunately request nothing lose include personal information\"] \n",
      "\n",
      "After conversion to sequence: [[17, 1, 137, 1, 68, 964, 1967, 68, 7, 261, 7, 1235, 2275, 398, 55, 26, 1712, 1293, 1712, 2, 639, 1712, 7, 656, 62, 1, 41, 96, 30, 98, 2, 818, 188, 381, 4, 533, 87, 56, 94, 2951, 2471, 62, 347, 71, 346, 240, 134]] \n",
      "\n",
      "After padding sequences: [[   0    0    0    0    0    0    0    0    0    0    0    0    0    0\n",
      "     0    0    0    0    0   17    1  137    1   68  964 1967   68    7\n",
      "   261    7 1235 2275  398   55   26 1712 1293 1712    2  639 1712    7\n",
      "   656   62    1   41   96   30   98    2  818  188  381    4  533   87\n",
      "    56   94 2951 2471   62  347   71  346  240  134]] \n",
      "\n",
      "Predicted probabilities: [[0.003 0.004 0.948 0.009 0.003 0.034]] \n",
      "\n",
      "Predicted classification: Impersonation Scam\n"
     ]
    }
   ],
   "source": [
    "predict_label(model=model, text=text, tokenizer=tokenizer, label_to_idx=scam_type_cat_mapping)"
   ]
  },
  {
   "cell_type": "markdown",
   "metadata": {},
   "source": [
    "### Internet Love Scam"
   ]
  },
  {
   "cell_type": "code",
   "execution_count": 50,
   "metadata": {},
   "outputs": [
    {
     "data": {
      "text/plain": [
       "\"My story is similar to those shared in Feb and Mar 2020. Got to know Jason (claimed to be a freelance architect) from okc since Mar 2020 and had chatted with him daily for about 4 months.  He mentioned he is from moscow, adopted by russian couple and was there since 3 years old. mum passed away, dad at nursing home. he was very sweet, caring. sent me daily morning message and after known him for about a month, he asked for my email address and also sent me daily emails. The whole encounter felt really real until recently he got a call from Cyrus to inform him that the warehouse that he built COLLAPSED and he needed to fly over. He was told client requested compensation of USD 50K and his lawyer had helped him with 24K, left 26K.  Called me desperately and sounded super real that he needed help to raise money. I didn't give him any money as I suspected that he's a scammer. Blocked him off after that.\""
      ]
     },
     "execution_count": 50,
     "metadata": {},
     "output_type": "execute_result"
    }
   ],
   "source": [
    "text = \"My story is similar to those shared in Feb and Mar 2020. Got to know Jason (claimed to be a freelance architect) from okc since Mar 2020 and had chatted with him daily for about 4 months.  He mentioned he is from moscow, adopted by russian couple and was there since 3 years old. mum passed away, dad at nursing home. he was very sweet, caring. sent me daily morning message and after known him for about a month, he asked for my email address and also sent me daily emails. The whole encounter felt really real until recently he got a call from Cyrus to inform him that the warehouse that he built COLLAPSED and he needed to fly over. He was told client requested compensation of USD 50K and his lawyer had helped him with 24K, left 26K.  Called me desperately and sounded super real that he needed help to raise money. I didn't give him any money as I suspected that he's a scammer. Blocked him off after that.\"\n",
    "text"
   ]
  },
  {
   "cell_type": "code",
   "execution_count": 51,
   "metadata": {},
   "outputs": [
    {
     "name": "stdout",
     "output_type": "stream",
     "text": [
      "Input text: My story is similar to those shared in Feb and Mar 2020. Got to know Jason (claimed to be a freelance architect) from okc since Mar 2020 and had chatted with him daily for about 4 months.  He mentioned he is from moscow, adopted by russian couple and was there since 3 years old. mum passed away, dad at nursing home. he was very sweet, caring. sent me daily morning message and after known him for about a month, he asked for my email address and also sent me daily emails. The whole encounter felt really real until recently he got a call from Cyrus to inform him that the warehouse that he built COLLAPSED and he needed to fly over. He was told client requested compensation of USD 50K and his lawyer had helped him with 24K, left 26K.  Called me desperately and sounded super real that he needed help to raise money. I didn't give him any money as I suspected that he's a scammer. Blocked him off after that. \n",
      "\n",
      "After text pre-processing: my story is similar to those shared in feb and mar. got to know jason claimed to be a freelance architect from okcupid since mar and had chatted with him daily for about months. he mentioned he is from moscow, adopted by russian couple and was there since years old. mum passed away, dad at nursing home. he was very sweet, caring. sent me daily morning message and after known him for about a month, he asked for my email address and also sent me daily emails. the whole encounter felt really real until recently he got a call from cyrus to inform him that the warehouse that he built collapsed and he needed to fly over. he was told client requested compensation of usd k and his lawyer had helped him with k, left k. called me desperately and sounded super real that he needed help to raise money. i did not give him any money as i suspected that he is a scammer. blocked him off after that. \n",
      "\n",
      "After removing stopwords: story similar shared feb mar got know jason claimed freelance architect okcupid since mar chatted daily months mentioned moscow adopted russian couple since years old mum passed away dad nursing home sweet caring sent daily morning message known month asked email address also sent daily emails whole encounter felt really real recently got call cyrus inform warehouse built collapsed needed fly told client requested compensation usd k lawyer helped k left k. called desperately sounded super real needed help raise money give money suspected scammer blocked \n",
      "\n",
      "After lemmatisation: ['story similar share feb mar get know jason claim freelance architect okcupid since mar chat daily month mention moscow adopt russian couple since year old mum pass away dad nursing home sweet caring send daily morning message know month ask email address also send daily email whole encounter feel really real recently get call cyrus inform warehouse build collapse need fly tell client request compensation usd k lawyer help k leave k. call desperately sound super real need help raise money give money suspect scammer block'] \n",
      "\n",
      "After conversion to sequence: [[136, 282, 129, 813, 1485, 8, 31, 1299, 19, 1673, 1674, 795, 162, 1485, 67, 782, 85, 140, 1327, 1328, 1811, 689, 162, 146, 291, 523, 316, 231, 638, 1586, 221, 419, 2578, 9, 782, 470, 27, 31, 85, 2, 23, 59, 70, 9, 782, 23, 478, 952, 217, 292, 213, 410, 8, 1, 302, 3282, 1457, 1478, 35, 465, 7, 534, 62, 986, 152, 124, 936, 82, 124, 209, 124, 1, 3408, 315, 2618, 213, 35, 82, 498, 6, 15, 6, 389, 46, 48]] \n",
      "\n",
      "After padding sequences: [[1328 1811  689  162  146  291  523  316  231  638 1586  221  419 2578\n",
      "     9  782  470   27   31   85    2   23   59   70    9  782   23  478\n",
      "   952  217  292  213  410    8    1  302 3282 1457 1478   35  465    7\n",
      "   534   62  986  152  124  936   82  124  209  124    1 3408  315 2618\n",
      "   213   35   82  498    6   15    6  389   46   48]] \n",
      "\n",
      "Predicted probabilities: [[0.    0.001 0.    0.995 0.002 0.001]] \n",
      "\n",
      "Predicted classification: Internet Love Scam\n"
     ]
    }
   ],
   "source": [
    "predict_label(model=model, text=text, tokenizer=tokenizer, label_to_idx=scam_type_cat_mapping)"
   ]
  },
  {
   "cell_type": "markdown",
   "metadata": {},
   "source": [
    "### Credit-for-Sex Scam"
   ]
  },
  {
   "cell_type": "code",
   "execution_count": 52,
   "metadata": {},
   "outputs": [
    {
     "data": {
      "text/plain": [
       "\"Saw the girl at michat, offered sexual services. Proceed to meet up point. Asked to take a photo of the surroundings. Proceed to ask for contact. Then said her friend would call to ask few security questions. Friend called and requested to buy 100 Google card as payment because it's the first date and the girl don't take cash for first timer. After photo of pin was send to the girl. Friend requested for 1000 for security deposit to ensure no connection with police. After 1000 card pin was sent. Again, asked for another 1000 assurance fee to ensure that I would not hurt the girl during transaction. Then finally asked for hotel management fee. The friend 'ah kun' said all will be refunded which is a lie. After I refused, he became angry and threaten to hunt me down with my phone number. Proceeded to block their number and left\""
      ]
     },
     "execution_count": 52,
     "metadata": {},
     "output_type": "execute_result"
    }
   ],
   "source": [
    "text = \"Saw the girl at michat, offered sexual services. Proceed to meet up point. Asked to take a photo of the surroundings. Proceed to ask for contact. Then said her friend would call to ask few security questions. Friend called and requested to buy 100 Google card as payment because it's the first date and the girl don't take cash for first timer. After photo of pin was send to the girl. Friend requested for 1000 for security deposit to ensure no connection with police. After 1000 card pin was sent. Again, asked for another 1000 assurance fee to ensure that I would not hurt the girl during transaction. Then finally asked for hotel management fee. The friend 'ah kun' said all will be refunded which is a lie. After I refused, he became angry and threaten to hunt me down with my phone number. Proceeded to block their number and left\"\n",
    "text"
   ]
  },
  {
   "cell_type": "code",
   "execution_count": 54,
   "metadata": {},
   "outputs": [
    {
     "name": "stdout",
     "output_type": "stream",
     "text": [
      "Input text: Saw the girl at michat, offered sexual services. Proceed to meet up point. Asked to take a photo of the surroundings. Proceed to ask for contact. Then said her friend would call to ask few security questions. Friend called and requested to buy 100 Google card as payment because it's the first date and the girl don't take cash for first timer. After photo of pin was send to the girl. Friend requested for 1000 for security deposit to ensure no connection with police. After 1000 card pin was sent. Again, asked for another 1000 assurance fee to ensure that I would not hurt the girl during transaction. Then finally asked for hotel management fee. The friend 'ah kun' said all will be refunded which is a lie. After I refused, he became angry and threaten to hunt me down with my phone number. Proceeded to block their number and left \n",
      "\n",
      "After text pre-processing: saw the girl at michat, offered sexual services. proceed to meet up point. asked to take a photo of the surroundings. proceed to ask for contact. then said her friend would call to ask few security questions. friend called and requested to buy google card as payment because it is the first date and the girl do not take cash for first timer. after photo of pin was send to the girl. friend requested for for security deposit to ensure no connection with police. after card pin was sent. again, asked for another assurance fee to ensure that i would not hurt the girl during transaction. then finally asked for hotel management fee. the friend 'ah kun ' said all will be refunded which is a lie. after i refused, he became angry and threaten to hunt me down with my phone number. proceeded to block their number and left \n",
      "\n",
      "After removing stopwords: saw girl michat offered sexual services proceed meet point asked take photo surroundings proceed ask contact said friend would call ask security questions friend called requested buy google card payment first date girl take cash first timer photo pin send girl friend requested security deposit ensure connection police card pin sent asked another assurance fee ensure would hurt girl transaction finally asked hotel management fee friend 'ah kun ' said refunded lie refused became angry threaten hunt phone number proceeded block number left \n",
      "\n",
      "After lemmatisation: [\"see girl michat offer sexual service proceed meet point ask take photo surrounding proceed ask contact say friend would call ask security question friend call request buy google card payment first date girl take cash first timer photo pin send girl friend request security deposit ensure connection police card pin send ask another assurance fee ensure would hurt girl transaction finally ask hotel management fee friend ' ah kun ' say refunded lie refuse become angry threaten hunt phone number proceed block number leave\"] \n",
      "\n",
      "After conversion to sequence: [[65, 21, 2320, 95, 350, 29, 197, 10, 313, 2, 52, 91, 1424, 197, 2, 25, 3, 45, 39, 1, 2, 266, 241, 45, 1, 62, 33, 183, 42, 40, 43, 156, 21, 52, 92, 43, 1375, 91, 807, 9, 21, 45, 62, 266, 36, 407, 710, 28, 42, 807, 9, 2, 61, 1557, 108, 407, 39, 361, 21, 139, 393, 2, 348, 1861, 108, 45, 68, 339, 431, 68, 3, 2033, 511, 155, 479, 512, 76, 898, 32, 4, 197, 48, 4, 209]] \n",
      "\n",
      "After padding sequences: [[  39    1    2  266  241   45    1   62   33  183   42   40   43  156\n",
      "    21   52   92   43 1375   91  807    9   21   45   62  266   36  407\n",
      "   710   28   42  807    9    2   61 1557  108  407   39  361   21  139\n",
      "   393    2  348 1861  108   45   68  339  431   68    3 2033  511  155\n",
      "   479  512   76  898   32    4  197   48    4  209]] \n",
      "\n",
      "Predicted probabilities: [[0.587 0.179 0.025 0.018 0.177 0.013]] \n",
      "\n",
      "Predicted classification: Credit-for-Sex Scam\n"
     ]
    }
   ],
   "source": [
    "predict_label(model=model, text=text, tokenizer=tokenizer, label_to_idx=scam_type_cat_mapping)"
   ]
  },
  {
   "cell_type": "markdown",
   "metadata": {},
   "source": [
    "### Home/Room Rental Scam"
   ]
  },
  {
   "cell_type": "code",
   "execution_count": 55,
   "metadata": {},
   "outputs": [
    {
     "data": {
      "text/plain": [
       "\"Hi I received a whats app from someone called Zu Lan. She wanted my email rather than phone. Sounded odd but I gave it. I received the following message which sounded odd so i looked online and found lots of similar stories. (but people have lost money) Zu Lan's email  ------------------------------------------------------------------------------------------------------------------ Thank you for replying to me. My name is Zhu Lan, 36 years old, a single and non-smoker lady. I am willing to rent the room. I am at sea at the moment as i work on a cruise ship as a Chef offshore of Philippines I will be living and working down there as my contract here is coming to an end that's why I am coming there. But due to the nature of my work of having a busy schedule, phone calls making and visiting websites are restricted, I only squeezed out time to check this advert and send you a message so I won't be able to come for the viewing myself. I will like you to kindly calculate the total cost covering my first six months rent together with a deposit and I will be staying for long as your room is available. Please kindly get back to me with some pictures of the room and your address for me to forward it to my mover agent to calculate the total cost of moving my stuff over there. I have attached my IC with this email for you to have a view of me. Looking forward to read back from you soon. --------------------------------------------------------------------------------------------------------------------\""
      ]
     },
     "execution_count": 55,
     "metadata": {},
     "output_type": "execute_result"
    }
   ],
   "source": [
    "text = \"Hi I received a whats app from someone called Zu Lan. She wanted my email rather than phone. Sounded odd but I gave it. I received the following message which sounded odd so i looked online and found lots of similar stories. (but people have lost money) Zu Lan's email  ------------------------------------------------------------------------------------------------------------------ Thank you for replying to me. My name is Zhu Lan, 36 years old, a single and non-smoker lady. I am willing to rent the room. I am at sea at the moment as i work on a cruise ship as a Chef offshore of Philippines I will be living and working down there as my contract here is coming to an end that's why I am coming there. But due to the nature of my work of having a busy schedule, phone calls making and visiting websites are restricted, I only squeezed out time to check this advert and send you a message so I won't be able to come for the viewing myself. I will like you to kindly calculate the total cost covering my first six months rent together with a deposit and I will be staying for long as your room is available. Please kindly get back to me with some pictures of the room and your address for me to forward it to my mover agent to calculate the total cost of moving my stuff over there. I have attached my IC with this email for you to have a view of me. Looking forward to read back from you soon. --------------------------------------------------------------------------------------------------------------------\"\n",
    "text"
   ]
  },
  {
   "cell_type": "code",
   "execution_count": 56,
   "metadata": {},
   "outputs": [
    {
     "name": "stdout",
     "output_type": "stream",
     "text": [
      "Input text: Hi I received a whats app from someone called Zu Lan. She wanted my email rather than phone. Sounded odd but I gave it. I received the following message which sounded odd so i looked online and found lots of similar stories. (but people have lost money) Zu Lan's email  ------------------------------------------------------------------------------------------------------------------ Thank you for replying to me. My name is Zhu Lan, 36 years old, a single and non-smoker lady. I am willing to rent the room. I am at sea at the moment as i work on a cruise ship as a Chef offshore of Philippines I will be living and working down there as my contract here is coming to an end that's why I am coming there. But due to the nature of my work of having a busy schedule, phone calls making and visiting websites are restricted, I only squeezed out time to check this advert and send you a message so I won't be able to come for the viewing myself. I will like you to kindly calculate the total cost covering my first six months rent together with a deposit and I will be staying for long as your room is available. Please kindly get back to me with some pictures of the room and your address for me to forward it to my mover agent to calculate the total cost of moving my stuff over there. I have attached my IC with this email for you to have a view of me. Looking forward to read back from you soon. -------------------------------------------------------------------------------------------------------------------- \n",
      "\n",
      "After text pre-processing: hi i received a whats app from someone called zu lan. she wanted my email rather than phone. sounded odd but i gave it. i received the following message which sounded odd so i looked online and found lots of similar stories. but people have lost money zu lan is email thank you for replying to me. my name is zhu lan, years old, a single and nonsmoker lady. i am willing to rent the room. i am at sea at the moment as i work on a cruise ship as a chef offshore of philippines i will be living and working down there as my contract here is coming to an end that is why i am coming there. but due to the nature of my work of having a busy schedule, phone calls making and visiting websites are restricted, i only squeezed out time to check this advert and send you a message so i will not be able to come for the viewing myself. i will like you to kindly calculate the total cost covering my first six months rent together with a deposit and i will be staying for long as your room is available. please kindly get back to me with some pictures of the room and your address for me to forward it to my mover agent to calculate the total cost of moving my stuff over there. i have attached my identity number with this email for you to have a view of me. looking forward to read back from you soon. \n",
      "\n",
      "After removing stopwords: hi received whats app someone called zu lan wanted email rather phone sounded odd gave received following message sounded odd looked online found lots similar stories people lost money zu lan email thank replying name zhu lan years old single nonsmoker lady willing rent room sea moment work cruise ship chef offshore philippines living working contract coming end coming due nature work busy schedule phone calls making visiting websites restricted squeezed time check advert send message able come viewing like kindly calculate total cost covering first six months rent together deposit staying long room available please kindly get back pictures room address forward mover agent calculate total cost moving stuff attached identity number email view looking forward read back soon \n",
      "\n",
      "After lemmatisation: ['hi receive what s app someone call zu lan want email rather phone sound odd give receive following message sound odd look online find lot similar story people lose money zu lan email thank reply name zhu lan year old single nonsmoker lady willing rent room sea moment work cruise ship chef offshore philippine live work contract come end come due nature work busy schedule phone call make visit website restrict squeeze time check advert send message able come view like kindly calculate total cost cover first six month rent together deposit stay long room available please kindly get back picture room address forward mover agent calculate total cost move stuff attach identity number email view look forward read back soon'] \n",
      "\n",
      "After conversion to sequence: [[443, 17, 2404, 236, 148, 137, 1, 1873, 20, 23, 1261, 32, 315, 1628, 15, 17, 2440, 27, 315, 1628, 110, 88, 37, 223, 282, 136, 127, 71, 6, 1873, 23, 372, 106, 22, 2329, 1873, 146, 291, 519, 1003, 93, 477, 100, 81, 722, 324, 49, 805, 345, 756, 761, 678, 288, 49, 195, 38, 157, 38, 164, 792, 49, 656, 1480, 32, 1, 12, 405, 74, 1481, 1364, 30, 101, 657, 9, 27, 326, 38, 428, 73, 522, 699, 128, 214, 594, 43, 1735, 85, 100, 824, 36, 193, 284, 81, 566, 75, 522, 8, 41, 104, 81, 59, 685, 402, 150, 699, 128, 214, 208, 417, 595, 51, 4, 23, 428, 110, 685, 307, 41, 202]] \n",
      "\n",
      "After padding sequences: [[  49  195   38  157   38  164  792   49  656 1480   32    1   12  405\n",
      "    74 1481 1364   30  101  657    9   27  326   38  428   73  522  699\n",
      "   128  214  594   43 1735   85  100  824   36  193  284   81  566   75\n",
      "   522    8   41  104   81   59  685  402  150  699  128  214  208  417\n",
      "   595   51    4   23  428  110  685  307   41  202]] \n",
      "\n",
      "Predicted probabilities: [[0.004 0.992 0.    0.002 0.002 0.   ]] \n",
      "\n",
      "Predicted classification: Home/Room Rental Scam\n"
     ]
    }
   ],
   "source": [
    "predict_label(model=model, text=text, tokenizer=tokenizer, label_to_idx=scam_type_cat_mapping)"
   ]
  },
  {
   "cell_type": "markdown",
   "metadata": {},
   "source": [
    "### Investment Scam"
   ]
  },
  {
   "cell_type": "code",
   "execution_count": 57,
   "metadata": {},
   "outputs": [
    {
     "data": {
      "text/plain": [
       "'There was a girl on Wechat added me on around may. We chat a little she sweet talk a bit then we are into the topic of investment. I do a bit of investment and so i was interested about was she was talking.  She bring me into the topic of bit coin and Crypto Currency then i was a bit interested as the stuff she said was legit. Then she say her uncle was in a bank and send me screenshot of picture and official information and then she deleted. So then I was quite interested as she had inside info on the investment. So i went in and follow her steps of investment. Then we added on Whatsapp for more info. At first it was just 800 but then the website showed my coin was showing a very good growth. Due to greed i went to put in another $1000 sgd. The next month(June) another $2000 until on July 7, she started asking me to sell my stocks and invest with her. I felt a bit fishy as she is trying to force me to sell my stock where i do not want to. So in the end i did more research on the website and found out that the coin transferred in could not be taken out. i blocked her immediately on all social media platform and communication All in all, I learnt a lesson but i am just insecure about my info was given to them so I make a police report for a record.'"
      ]
     },
     "execution_count": 57,
     "metadata": {},
     "output_type": "execute_result"
    }
   ],
   "source": [
    "text = \"There was a girl on Wechat added me on around may. We chat a little she sweet talk a bit then we are into the topic of investment. I do a bit of investment and so i was interested about was she was talking.  She bring me into the topic of bit coin and Crypto Currency then i was a bit interested as the stuff she said was legit. Then she say her uncle was in a bank and send me screenshot of picture and official information and then she deleted. So then I was quite interested as she had inside info on the investment. So i went in and follow her steps of investment. Then we added on Whatsapp for more info. At first it was just 800 but then the website showed my coin was showing a very good growth. Due to greed i went to put in another $1000 sgd. The next month(June) another $2000 until on July 7, she started asking me to sell my stocks and invest with her. I felt a bit fishy as she is trying to force me to sell my stock where i do not want to. So in the end i did more research on the website and found out that the coin transferred in could not be taken out. i blocked her immediately on all social media platform and communication All in all, I learnt a lesson but i am just insecure about my info was given to them so I make a police report for a record.\"\n",
    "text"
   ]
  },
  {
   "cell_type": "code",
   "execution_count": 58,
   "metadata": {},
   "outputs": [
    {
     "name": "stdout",
     "output_type": "stream",
     "text": [
      "Input text: There was a girl on Wechat added me on around may. We chat a little she sweet talk a bit then we are into the topic of investment. I do a bit of investment and so i was interested about was she was talking.  She bring me into the topic of bit coin and Crypto Currency then i was a bit interested as the stuff she said was legit. Then she say her uncle was in a bank and send me screenshot of picture and official information and then she deleted. So then I was quite interested as she had inside info on the investment. So i went in and follow her steps of investment. Then we added on Whatsapp for more info. At first it was just 800 but then the website showed my coin was showing a very good growth. Due to greed i went to put in another $1000 sgd. The next month(June) another $2000 until on July 7, she started asking me to sell my stocks and invest with her. I felt a bit fishy as she is trying to force me to sell my stock where i do not want to. So in the end i did more research on the website and found out that the coin transferred in could not be taken out. i blocked her immediately on all social media platform and communication All in all, I learnt a lesson but i am just insecure about my info was given to them so I make a police report for a record. \n",
      "\n",
      "After text pre-processing: there was a girl on wechat added me on around may. we chat a little she sweet talk a bit then we are into the topic of investment. i do a bit of investment and so i was interested about was she was talking. she bring me into the topic of bit coin and crypto currency then i was a bit interested as the stuff she said was legit. then she say her uncle was in a bank and send me screenshot of picture and official information and then she deleted. so then i was quite interested as she had inside info on the investment. so i went in and follow her steps of investment. then we added on whatsapp for more info. at first it was just but then the website showed my coin was showing a very good growth. due to greed i went to put in another sgd. the next monthjune another until on july, she started asking me to sell my stocks and invest with her. i felt a bit fishy as she is trying to force me to sell my stock where i do not want to. so in the end i did more research on the website and found out that the coin transferred in could not be taken out. i blocked her immediately on all social media platform and communication all in all, i learnt a lesson but i am just insecure about my info was given to them so i make a police report for a record. \n",
      "\n",
      "After removing stopwords: girl wechat added around may chat little sweet talk bit topic investment bit investment interested talking bring topic bit coin crypto currency bit interested stuff said legit say uncle bank send screenshot picture official information deleted quite interested inside info investment went follow steps investment added whatsapp info first website showed coin showing good growth due greed went put another sgd next monthjune another july started asking sell stocks invest felt bit fishy trying force sell stock want end research website found coin transferred could taken blocked immediately social media platform communication learnt lesson insecure info given make police report record \n",
      "\n",
      "After lemmatisation: ['girl wechat add around may chat little sweet talk bit topic investment bit investment interested talk bring topic bit coin crypto currency bit interested stuff say legit say uncle bank send screenshot picture official information delete quite interested inside info investment go follow step investment add whatsapp info first website show coin show good growth due greed go put another sgd next monthjune another july start ask sell stock invest feel bit fishy try force sell stock want end research website find coin transfer could take block immediately social medium platform communication learn lesson insecure info give make police report record'] \n",
      "\n",
      "After conversion to sequence: [[21, 63, 114, 248, 189, 67, 891, 419, 130, 916, 4238, 151, 916, 151, 375, 130, 210, 4238, 916, 2170, 2552, 1411, 916, 375, 417, 3, 682, 3, 1472, 24, 9, 706, 104, 739, 134, 403, 754, 375, 610, 247, 151, 16, 159, 1072, 151, 114, 54, 247, 43, 74, 138, 2170, 138, 102, 3514, 164, 16, 279, 61, 97, 153, 61, 553, 66, 2, 245, 1345, 181, 217, 916, 644, 98, 303, 245, 1345, 20, 157, 561, 74, 37, 2170, 11, 79, 52, 48, 160, 276, 577, 509, 1231, 662, 588, 3808, 247, 15, 12, 28, 58, 463]] \n",
      "\n",
      "After padding sequences: [[ 739  134  403  754  375  610  247  151   16  159 1072  151  114   54\n",
      "   247   43   74  138 2170  138  102 3514  164   16  279   61   97  153\n",
      "    61  553   66    2  245 1345  181  217  916  644   98  303  245 1345\n",
      "    20  157  561   74   37 2170   11   79   52   48  160  276  577  509\n",
      "  1231  662  588 3808  247   15   12   28   58  463]] \n",
      "\n",
      "Predicted probabilities: [[0.052 0.01  0.084 0.01  0.833 0.011]] \n",
      "\n",
      "Predicted classification: Investment Scam\n"
     ]
    }
   ],
   "source": [
    "predict_label(model=model, text=text, tokenizer=tokenizer, label_to_idx=scam_type_cat_mapping)"
   ]
  },
  {
   "cell_type": "code",
   "execution_count": 59,
   "metadata": {},
   "outputs": [
    {
     "data": {
      "text/plain": [
       "\"I was approached by a lady from china who goes by the name 'jiang lin' on wechat. She claims to be from a well-to-do family from beijing and has an uncle who is a financial expert. After a couple of text exchanges she introduced me to invest in a cryptocurrency known as obb, trading on a cryptocurrency online platform known as bftbit (www.bftbit.com). Bftbit turns out to be a fake trading platform and obb is a non-existent cryptocurrency. Once monies are deposited into bftbit it goes directly to the scammers, although on bftbit it reflects as deposited into your bftbit account and no matter how you try to withdraw the monies, the withdrawal status would remain as processing. In the beginning i was very skeptical and refused to believe her. But a moment of greed and too smart for my own good led me to foolishly believe in her and lost an unrecoverable sum of s$14,500. The modus operandi: 1) she would first introduce that she had been into this obb investment for 3 years under the guidance of her financial expert uncle who guides her to invest at the relevant time on bftbit which most of the time would be profit-making as the uncle knows the market. 2) she would ask you to invest in a small sum of us$500 first which would make profits after 2 rounds of investment on bftbit. She would also provide step-by-step guidance [i.e. buying of cryptocurrency on huobi (an authentic ans well-known cryptocurrency exchange incorporated in singapore), transferring of currency from huobi to bftbit, making trades in obb on bftbit and withdrawal and transferring of a small sum of currency from bftbit to huobi (this withdrawal is to make one believe that bftbit is an authentic trading platform but in fact the withdrawal is done by the scammers)]. From there, she would entice you to invest in us$10,000 as her uncle predicts that a big market trend is coming, thus earning more profit. 3) she would then suggest to make a joint trade of usd$20,000 which would require us$30,000 as security deposit. In order to gain your trust, she would transfer us$40,000 into your bftbit account. Once you transfer your us$10,000 into the account it is gone forever. 4) at the time when you (and her) are jointly trading on the obb big market trend, the trading system would stop for unknown reason and when you refresh the trading system you would realise that the joint trade suffers an 80% loss. From there, she would claim to be your fault and ask for refund of her us$40,000. 5) a much serious concern is that in setting up your account with bftbit you need to furnish a copy of your nric which is at the scammers' disposal.\""
      ]
     },
     "execution_count": 59,
     "metadata": {},
     "output_type": "execute_result"
    }
   ],
   "source": [
    "text = \"I was approached by a lady from china who goes by the name 'jiang lin' on wechat. She claims to be from a well-to-do family from beijing and has an uncle who is a financial expert. After a couple of text exchanges she introduced me to invest in a cryptocurrency known as obb, trading on a cryptocurrency online platform known as bftbit (www.bftbit.com). Bftbit turns out to be a fake trading platform and obb is a non-existent cryptocurrency. Once monies are deposited into bftbit it goes directly to the scammers, although on bftbit it reflects as deposited into your bftbit account and no matter how you try to withdraw the monies, the withdrawal status would remain as processing. In the beginning i was very skeptical and refused to believe her. But a moment of greed and too smart for my own good led me to foolishly believe in her and lost an unrecoverable sum of s$14,500. The modus operandi: 1) she would first introduce that she had been into this obb investment for 3 years under the guidance of her financial expert uncle who guides her to invest at the relevant time on bftbit which most of the time would be profit-making as the uncle knows the market. 2) she would ask you to invest in a small sum of us$500 first which would make profits after 2 rounds of investment on bftbit. She would also provide step-by-step guidance [i.e. buying of cryptocurrency on huobi (an authentic ans well-known cryptocurrency exchange incorporated in singapore), transferring of currency from huobi to bftbit, making trades in obb on bftbit and withdrawal and transferring of a small sum of currency from bftbit to huobi (this withdrawal is to make one believe that bftbit is an authentic trading platform but in fact the withdrawal is done by the scammers)]. From there, she would entice you to invest in us$10,000 as her uncle predicts that a big market trend is coming, thus earning more profit. 3) she would then suggest to make a joint trade of usd$20,000 which would require us$30,000 as security deposit. In order to gain your trust, she would transfer us$40,000 into your bftbit account. Once you transfer your us$10,000 into the account it is gone forever. 4) at the time when you (and her) are jointly trading on the obb big market trend, the trading system would stop for unknown reason and when you refresh the trading system you would realise that the joint trade suffers an 80% loss. From there, she would claim to be your fault and ask for refund of her us$40,000. 5) a much serious concern is that in setting up your account with bftbit you need to furnish a copy of your nric which is at the scammers' disposal.\"\n",
    "text"
   ]
  },
  {
   "cell_type": "code",
   "execution_count": 60,
   "metadata": {},
   "outputs": [
    {
     "name": "stdout",
     "output_type": "stream",
     "text": [
      "Input text: I was approached by a lady from china who goes by the name 'jiang lin' on wechat. She claims to be from a well-to-do family from beijing and has an uncle who is a financial expert. After a couple of text exchanges she introduced me to invest in a cryptocurrency known as obb, trading on a cryptocurrency online platform known as bftbit (www.bftbit.com). Bftbit turns out to be a fake trading platform and obb is a non-existent cryptocurrency. Once monies are deposited into bftbit it goes directly to the scammers, although on bftbit it reflects as deposited into your bftbit account and no matter how you try to withdraw the monies, the withdrawal status would remain as processing. In the beginning i was very skeptical and refused to believe her. But a moment of greed and too smart for my own good led me to foolishly believe in her and lost an unrecoverable sum of s$14,500. The modus operandi: 1) she would first introduce that she had been into this obb investment for 3 years under the guidance of her financial expert uncle who guides her to invest at the relevant time on bftbit which most of the time would be profit-making as the uncle knows the market. 2) she would ask you to invest in a small sum of us$500 first which would make profits after 2 rounds of investment on bftbit. She would also provide step-by-step guidance [i.e. buying of cryptocurrency on huobi (an authentic ans well-known cryptocurrency exchange incorporated in singapore), transferring of currency from huobi to bftbit, making trades in obb on bftbit and withdrawal and transferring of a small sum of currency from bftbit to huobi (this withdrawal is to make one believe that bftbit is an authentic trading platform but in fact the withdrawal is done by the scammers)]. From there, she would entice you to invest in us$10,000 as her uncle predicts that a big market trend is coming, thus earning more profit. 3) she would then suggest to make a joint trade of usd$20,000 which would require us$30,000 as security deposit. In order to gain your trust, she would transfer us$40,000 into your bftbit account. Once you transfer your us$10,000 into the account it is gone forever. 4) at the time when you (and her) are jointly trading on the obb big market trend, the trading system would stop for unknown reason and when you refresh the trading system you would realise that the joint trade suffers an 80% loss. From there, she would claim to be your fault and ask for refund of her us$40,000. 5) a much serious concern is that in setting up your account with bftbit you need to furnish a copy of your nric which is at the scammers' disposal. \n",
      "\n",
      "After text pre-processing: i was approached by a lady from china who goes by the name 'jiang lin ' on wechat. she claims to be from a welltodo family from beijing and has an uncle who is a financial expert. after a couple of text exchanges she introduced me to invest in a cryptocurrency known as obb, trading on a cryptocurrency online platform known as bftbit url_link. bftbit turns out to be a fake trading platform and obb is a nonexistent cryptocurrency. once monies are deposited into bftbit it goes directly to the scammers, although on bftbit it reflects as deposited into your bftbit account and no matter how you try to withdraw the monies, the withdrawal status would remain as processing. in the beginning i was very skeptical and refused to believe her. but a moment of greed and too smart for my own good led me to foolishly believe in her and lost an unrecoverable sum of s,. the modus operandi she would first introduce that she had been into this obb investment for years under the guidance of her financial expert uncle who guides her to invest at the relevant time on bftbit which most of the time would be profitmaking as the uncle knows the market. she would ask you to invest in a small sum of us first which would make profits after rounds of investment on bftbit. she would also provide stepbystep guidance [ i. e. buying of cryptocurrency on huobi an authentic ans wellknown cryptocurrency exchange incorporated in singapore, transferring of currency from huobi to bftbit, making trades in obb on bftbit and withdrawal and transferring of a small sum of currency from bftbit to huobi this withdrawal is to make one believe that bftbit is an authentic trading platform but in fact the withdrawal is done by the scammers ]. from there, she would entice you to invest in us, as her uncle predicts that a big market trend is coming, thus earning more profit. she would then suggest to make a joint trade of usd, which would require us, as security deposit. in order to gain your trust, she would transfer us, into your bftbit account. once you transfer your us, into the account it is gone forever. at the time when you and her are jointly trading on the obb big market trend, the trading system would stop for unknown reason and when you refresh the trading system you would realise that the joint trade suffers an loss. from there, she would claim to be your fault and ask for refund of her us,. a much serious concern is that in setting up your account with bftbit you need to furnish a copy of your identity number which is at the scammers ' disposal. \n",
      "\n",
      "After removing stopwords: approached lady china goes name 'jiang lin ' wechat claims welltodo family beijing uncle financial expert couple text exchanges introduced invest cryptocurrency known obb trading cryptocurrency online platform known bftbit url_link bftbit turns fake trading platform obb nonexistent cryptocurrency monies deposited bftbit goes directly scammers although bftbit reflects deposited bftbit account matter try withdraw monies withdrawal status would remain processing beginning skeptical refused believe moment greed smart good led foolishly believe lost unrecoverable sum modus operandi would first introduce obb investment years guidance financial expert uncle guides invest relevant time bftbit time would profitmaking uncle knows market would ask invest small sum us first would make profits rounds investment bftbit would also provide stepbystep guidance [ i. e. buying cryptocurrency huobi authentic ans wellknown cryptocurrency exchange incorporated singapore transferring currency huobi bftbit making trades obb bftbit withdrawal transferring small sum currency bftbit huobi withdrawal make one believe bftbit authentic trading platform fact withdrawal done scammers ] would entice invest us uncle predicts big market trend coming thus earning profit would suggest make joint trade usd would require us security deposit order gain trust would transfer us bftbit account transfer us account gone forever time jointly trading obb big market trend trading system would stop unknown reason refresh trading system would realise joint trade suffers loss would claim fault ask refund us much serious concern setting account bftbit need furnish copy identity number scammers ' disposal \n",
      "\n",
      "After lemmatisation: [\"approach lady china go name ' jiang lin ' wechat claim welltodo family beij uncle financial expert couple text exchange introduce invest cryptocurrency know obb trading cryptocurrency online platform know bftbit url_link bftbit turn fake trading platform obb nonexistent cryptocurrency monie deposit bftbit go directly scammer although bftbit reflect deposit bftbit account matter try withdraw monie withdrawal status would remain process begin skeptical refuse believe moment greed smart good lead foolishly believe lose unrecoverable sum modus operandi would first introduce obb investment year guidance financial expert uncle guide invest relevant time bftbit time would profitmak uncle know market would ask invest small sum -PRON- first would make profit round investment bftbit would also provide stepbystep guidance [ i. e. buy cryptocurrency huobi authentic an wellknown cryptocurrency exchange incorporate singapore transfer currency huobi bftbit make trade obb bftbit withdrawal transfer small sum currency bftbit huobi withdrawal make one believe bftbit authentic trading platform fact withdrawal do scammer ] would entice invest -PRON- uncle predict big market trend come thus earn profit would suggest make joint trade usd would require -PRON- security deposit order gain trust would transfer -PRON- bftbit account transfer -PRON- account go forever time jointly trade obb big market trend trading system would stop unknown reason refresh trading system would realise joint trade suffer loss would claim fault ask refund -PRON- much serious concern set account bftbit need furnish copy identity number scammer ' disposal\"] \n",
      "\n",
      "After conversion to sequence: [[507, 93, 132, 16, 22, 68, 3136, 1835, 68, 63, 19, 86, 1442, 1472, 775, 2328, 689, 173, 332, 461, 181, 1298, 31, 501, 1298, 88, 509, 31, 117, 78, 289, 135, 501, 509, 5318, 1298, 1326, 36, 16, 835, 46, 823, 3768, 36, 14, 484, 98, 587, 1326, 764, 826, 39, 1095, 599, 530, 1446, 155, 224, 324, 1259, 102, 767, 1090, 224, 71, 626, 3817, 3818, 39, 43, 461, 151, 146, 2674, 775, 2328, 1472, 1222, 181, 5388, 30, 30, 39, 1472, 31, 987, 39, 2, 181, 558, 626, 55, 43, 39, 12, 618, 1556, 151, 39, 70, 87, 2674, 990, 749, 33, 1298, 3717, 1398, 5527, 1905, 1298, 332, 18, 11, 1411, 3717, 12, 598, 764, 11, 558, 626, 1411, 3717, 764, 12, 56, 224, 1398, 501, 509, 989, 764, 69, 46, 39, 2360, 181, 55, 1472, 310, 987, 2801, 38, 851, 513, 618, 39, 590, 12, 598, 152, 39, 398, 55, 266, 36, 177, 338, 249, 39, 11, 55, 14, 11, 55, 14, 16, 30, 598, 310, 987, 2801, 501, 600, 39, 182, 206, 268, 4015, 501, 600, 39, 200, 598, 1719, 585, 39, 19, 3738, 2, 145, 55, 178, 938, 1295, 546, 14, 35, 2221, 468, 51, 4, 46, 68]] \n",
      "\n",
      "After padding sequences: [[1472  310  987 2801   38  851  513  618   39  590   12  598  152   39\n",
      "   398   55  266   36  177  338  249   39   11   55   14   11   55   14\n",
      "    16   30  598  310  987 2801  501  600   39  182  206  268 4015  501\n",
      "   600   39  200  598 1719  585   39   19 3738    2  145   55  178  938\n",
      "  1295  546   14   35 2221  468   51    4   46   68]] \n",
      "\n",
      "Predicted probabilities: [[0.009 0.011 0.006 0.013 0.956 0.004]] \n",
      "\n",
      "Predicted classification: Investment Scam\n"
     ]
    }
   ],
   "source": [
    "predict_label(model=model, text=text, tokenizer=tokenizer, label_to_idx=scam_type_cat_mapping)"
   ]
  },
  {
   "cell_type": "markdown",
   "metadata": {},
   "source": [
    "### Online Purchase Scam"
   ]
  },
  {
   "cell_type": "code",
   "execution_count": 61,
   "metadata": {},
   "outputs": [
    {
     "data": {
      "text/plain": [
       "'Went online shopping in shopee on 20 june 2020 and found this sg seller. item was offered at $350 with no delivery fee required. I contact seller through whatsapp (83792917) and He counter offer at $300 and told us to make a direct bank transfer. i worried this is a scam so he offer a deposit of $200 instead, he even provide me with an NRIC (both side copy) to make me feel safe. coming to think of it now, the nric must have belong to some other victim as well. anyway, story is, i transfer the $200 to posb-??8032065 and was told to contact his boss for the item. through whatsapp (83022302) with the boss, he told me to make the remaining payment if we want to get the item cos his staff is new and not too sure of the procedure. once again, $100 was transfer, this time to another bank account (posb-??6470451). then we are told that we need to make another payment of $100 as delivery fee. only then, did i realise this is a scam... i confront the boss, as usual it is pointless, then i told him i wanted a refund... of cos there is no refund so my money is gone...I wish to raise awareness and hope it will help to prevent you from falling into similiar case or being cheated by the same scammer. There are 2 person in incident who cheated me of a total of $300.'"
      ]
     },
     "execution_count": 61,
     "metadata": {},
     "output_type": "execute_result"
    }
   ],
   "source": [
    "text = \"Went online shopping in shopee on 20 june 2020 and found this sg seller. item was offered at $350 with no delivery fee required. I contact seller through whatsapp (83792917) and He counter offer at $300 and told us to make a direct bank transfer. i worried this is a scam so he offer a deposit of $200 instead, he even provide me with an NRIC (both side copy) to make me feel safe. coming to think of it now, the nric must have belong to some other victim as well. anyway, story is, i transfer the $200 to posb-??8032065 and was told to contact his boss for the item. through whatsapp (83022302) with the boss, he told me to make the remaining payment if we want to get the item cos his staff is new and not too sure of the procedure. once again, $100 was transfer, this time to another bank account (posb-??6470451). then we are told that we need to make another payment of $100 as delivery fee. only then, did i realise this is a scam... i confront the boss, as usual it is pointless, then i told him i wanted a refund... of cos there is no refund so my money is gone...I wish to raise awareness and hope it will help to prevent you from falling into similiar case or being cheated by the same scammer. There are 2 person in incident who cheated me of a total of $300.\"\n",
    "text"
   ]
  },
  {
   "cell_type": "code",
   "execution_count": 62,
   "metadata": {},
   "outputs": [
    {
     "name": "stdout",
     "output_type": "stream",
     "text": [
      "Input text: Went online shopping in shopee on 20 june 2020 and found this sg seller. item was offered at $350 with no delivery fee required. I contact seller through whatsapp (83792917) and He counter offer at $300 and told us to make a direct bank transfer. i worried this is a scam so he offer a deposit of $200 instead, he even provide me with an NRIC (both side copy) to make me feel safe. coming to think of it now, the nric must have belong to some other victim as well. anyway, story is, i transfer the $200 to posb-??8032065 and was told to contact his boss for the item. through whatsapp (83022302) with the boss, he told me to make the remaining payment if we want to get the item cos his staff is new and not too sure of the procedure. once again, $100 was transfer, this time to another bank account (posb-??6470451). then we are told that we need to make another payment of $100 as delivery fee. only then, did i realise this is a scam... i confront the boss, as usual it is pointless, then i told him i wanted a refund... of cos there is no refund so my money is gone...I wish to raise awareness and hope it will help to prevent you from falling into similiar case or being cheated by the same scammer. There are 2 person in incident who cheated me of a total of $300. \n",
      "\n",
      "After text pre-processing: went online shopping in shopee on june and found this singapore seller. item was offered at with no delivery fee required. i contact seller through whatsapp and he counter offer at and told us to make a direct bank transfer. i worried this is a scam so he offer a deposit of instead, he even provide me with an identity number both side copy to make me feel safe. coming to think of it now, the identity number must have belong to some other victim as well. anyway, story is, i transfer the to posb bank and was told to contact his boss for the item. through whatsapp with the boss, he told me to make the remaining payment if we want to get the item because his staff is new and not too sure of the procedure. once again, was transfer, this time to another bank account posb bank. then we are told that we need to make another payment of as delivery fee. only then, did i realise this is a scam... i confront the boss, as usual it is pointless, then i told him i wanted a refund... of because there is no refund so my money is gone... i wish to raise awareness and hope it will help to prevent you from falling into similiar case or being cheated by the same scammer. there are person in incident who cheated me of a total of. \n",
      "\n",
      "After removing stopwords: went online shopping shopee june found singapore seller item offered delivery fee required contact seller whatsapp counter offer told us make direct bank transfer worried scam offer deposit instead even provide identity number side copy make feel safe coming think identity number must belong victim well anyway story transfer posb bank told contact boss item whatsapp boss told make remaining payment want get item staff new sure procedure transfer time another bank account posb bank told need make another payment delivery fee realise scam.. confront boss usual pointless told wanted refund.. refund money gone.. wish raise awareness hope help prevent falling similiar case cheated scammer person incident cheated total \n",
      "\n",
      "After lemmatisation: ['go online shopping shopee june find singapore seller item offer delivery fee require contact seller whatsapp counter offer tell -PRON- make direct bank transfer worry scam offer deposit instead even provide identity number side copy make feel safe come think identity number must belong victim well anyway story transfer posb bank tell contact boss item whatsapp boss tell make remain payment want get item staff new sure procedure transfer time another bank account posb bank tell ne make another payment delivery fee realise scam .. confront boss usual pointless tell want refund .. refund money go .. wish raise awareness hope help prevent fall similiar case cheat scammer person incident cheat total'] \n",
      "\n",
      "After conversion to sequence: [[16, 88, 708, 1096, 734, 37, 18, 154, 121, 95, 147, 108, 398, 25, 154, 54, 1926, 95, 7, 55, 12, 392, 24, 11, 976, 13, 95, 36, 207, 80, 87, 51, 4, 762, 468, 12, 217, 416, 38, 184, 51, 4, 387, 707, 229, 246, 890, 136, 11, 438, 24, 7, 25, 103, 121, 54, 103, 7, 12, 1095, 40, 20, 8, 121, 504, 235, 191, 1384, 11, 30, 61, 24, 14, 438, 24, 7, 979, 12, 61, 40, 147, 108, 200, 13, 1477, 103, 2123, 7, 20, 145, 145, 6, 16, 695, 498, 920, 360, 82, 715, 194, 2930, 188, 281, 46, 60, 818, 281, 128]] \n",
      "\n",
      "After padding sequences: [[ 387  707  229  246  890  136   11  438   24    7   25  103  121   54\n",
      "   103    7   12 1095   40   20    8  121  504  235  191 1384   11   30\n",
      "    61   24   14  438   24    7  979   12   61   40  147  108  200   13\n",
      "  1477  103 2123    7   20  145  145    6   16  695  498  920  360   82\n",
      "   715  194 2930  188  281   46   60  818  281  128]] \n",
      "\n",
      "Predicted probabilities: [[0.018 0.039 0.011 0.055 0.011 0.866]] \n",
      "\n",
      "Predicted classification: Online Purchase Scam\n"
     ]
    }
   ],
   "source": [
    "predict_label(model=model, text=text, tokenizer=tokenizer, label_to_idx=scam_type_cat_mapping)"
   ]
  },
  {
   "cell_type": "markdown",
   "metadata": {},
   "source": [
    "### Loan Scam"
   ]
  },
  {
   "cell_type": "code",
   "execution_count": 63,
   "metadata": {},
   "outputs": [
    {
     "data": {
      "text/plain": [
       "\"Today, at 2.00pm, i received a call from +65 9749038?, which i clearly knew was a scam call. It was first an automated voice, which said, 'hello, good afternoon. We are a credit loan company that offer personal loan and micro loan. The application process will only take you a couple of minutes. After approval, the funds will transfer to your preferred account within 3 hours. Press 1 for more information. Your call will be diverted to our sales officer. Press 2 to repeat the message.' I press 1 and it was transferred to a lady with a filipino accent. She said the company's name was 'ac? capital' and asked me how much i wished to loan. I said i wanted to loan $2,000. Next, she asked what was my monthly salary and said that they can approve loan amounts within 2 to 2.5 times the monthly income. She said somebody from the sales department will contact me again today regarding my application. She said her name was 'avi'.After that, I called the number back and not surprising that it was an invalid number.\""
      ]
     },
     "execution_count": 63,
     "metadata": {},
     "output_type": "execute_result"
    }
   ],
   "source": [
    "text = \"Today, at 2.00pm, i received a call from +65 9749038?, which i clearly knew was a scam call. It was first an automated voice, which said, 'hello, good afternoon. We are a credit loan company that offer personal loan and micro loan. The application process will only take you a couple of minutes. After approval, the funds will transfer to your preferred account within 3 hours. Press 1 for more information. Your call will be diverted to our sales officer. Press 2 to repeat the message.' I press 1 and it was transferred to a lady with a filipino accent. She said the company's name was 'ac? capital' and asked me how much i wished to loan. I said i wanted to loan $2,000. Next, she asked what was my monthly salary and said that they can approve loan amounts within 2 to 2.5 times the monthly income. She said somebody from the sales department will contact me again today regarding my application. She said her name was 'avi'.After that, I called the number back and not surprising that it was an invalid number.\"\n",
    "text"
   ]
  },
  {
   "cell_type": "code",
   "execution_count": 64,
   "metadata": {},
   "outputs": [
    {
     "name": "stdout",
     "output_type": "stream",
     "text": [
      "Input text: Today, at 2.00pm, i received a call from +65 9749038?, which i clearly knew was a scam call. It was first an automated voice, which said, 'hello, good afternoon. We are a credit loan company that offer personal loan and micro loan. The application process will only take you a couple of minutes. After approval, the funds will transfer to your preferred account within 3 hours. Press 1 for more information. Your call will be diverted to our sales officer. Press 2 to repeat the message.' I press 1 and it was transferred to a lady with a filipino accent. She said the company's name was 'ac? capital' and asked me how much i wished to loan. I said i wanted to loan $2,000. Next, she asked what was my monthly salary and said that they can approve loan amounts within 2 to 2.5 times the monthly income. She said somebody from the sales department will contact me again today regarding my application. She said her name was 'avi'.After that, I called the number back and not surprising that it was an invalid number. \n",
      "\n",
      "After text pre-processing: today, at. private message, i received a call from, which i clearly knew was a scam call. it was first an automated voice, which said, 'hello, good afternoon. we are a credit loan company that offer personal loan and micro loan. the application process will only take you a couple of minutes. after approval, the funds will transfer to your preferred account within hours. press for more information. your call will be diverted to our sales officer. press to repeat the message. ' i press and it was transferred to a lady with a filipino accent. she said the company is name was 'ac capital ' and asked me how much i wished to loan. i said i wanted to loan,. next, she asked what was my monthly salary and said that they can approve loan amounts within to. times the monthly income. she said somebody from the sales department will contact me again today regarding my application. she said her name was 'avi '. after that, i called the number back and not surprising that it was an invalid number. \n",
      "\n",
      "After removing stopwords: today private message received call clearly knew scam call first automated voice said 'hello good afternoon credit loan company offer personal loan micro loan application process take couple minutes approval funds transfer preferred account within hours press information call diverted sales officer press repeat message ' press transferred lady filipino accent said company name 'ac capital ' asked much wished loan said wanted loan next asked monthly salary said approve loan amounts within times monthly income said somebody sales department contact today regarding application said name 'avi ' called number back surprising invalid number \n",
      "\n",
      "After lemmatisation: [\"today private message receive call clearly know scam call first automate voice say ' hello good afternoon credit loan company offer personal loan micro loan application process take couple minute approval fund transfer prefer account within hour press information call divert sale officer press repeat message ' press transfer lady filipino accent say company name ' ac capital ' ask much wish loan say want loan next ask monthly salary say approve loan amount within time monthly income say somebody sale department contact today regard application say name ' avi ' call number back surprising invalid number\"] \n",
      "\n",
      "After conversion to sequence: [[211, 107, 27, 17, 1, 1829, 31, 13, 1, 43, 168, 158, 3, 68, 873, 102, 1140, 57, 327, 47, 95, 240, 327, 327, 774, 599, 52, 689, 560, 3655, 259, 11, 1937, 14, 362, 163, 190, 134, 1, 3139, 552, 333, 190, 809, 27, 68, 190, 11, 93, 1687, 260, 3, 47, 22, 68, 4218, 677, 68, 2, 178, 695, 327, 3, 20, 327, 153, 2, 686, 1520, 3, 1188, 327, 115, 362, 30, 686, 1008, 3, 3680, 552, 769, 25, 211, 371, 774, 3, 22, 68, 68, 1, 4, 41, 1581, 4]] \n",
      "\n",
      "After padding sequences: [[ 560 3655  259   11 1937   14  362  163  190  134    1 3139  552  333\n",
      "   190  809   27   68  190   11   93 1687  260    3   47   22   68 4218\n",
      "   677   68    2  178  695  327    3   20  327  153    2  686 1520    3\n",
      "  1188  327  115  362   30  686 1008    3 3680  552  769   25  211  371\n",
      "   774    3   22   68   68    1    4   41 1581    4]] \n",
      "\n",
      "Predicted probabilities: [[0.004 0.005 0.86  0.011 0.006 0.114]] \n",
      "\n",
      "Predicted classification: Impersonation Scam\n"
     ]
    }
   ],
   "source": [
    "predict_label(model=model, text=text, tokenizer=tokenizer, label_to_idx=scam_type_cat_mapping)"
   ]
  }
 ],
 "metadata": {
  "kernelspec": {
   "display_name": "Python 3",
   "language": "python",
   "name": "python3"
  },
  "language_info": {
   "codemirror_mode": {
    "name": "ipython",
    "version": 3
   },
   "file_extension": ".py",
   "mimetype": "text/x-python",
   "name": "python",
   "nbconvert_exporter": "python",
   "pygments_lexer": "ipython3",
   "version": "3.7.7"
  },
  "toc-autonumbering": true
 },
 "nbformat": 4,
 "nbformat_minor": 4
}
