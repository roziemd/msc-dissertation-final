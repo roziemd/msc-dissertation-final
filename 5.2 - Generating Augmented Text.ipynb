{
 "cells": [
  {
   "cell_type": "markdown",
   "metadata": {},
   "source": [
    "# Generating Augmented Text"
   ]
  },
  {
   "cell_type": "markdown",
   "metadata": {},
   "source": [
    "The objective of this Python notebook is to create synthetic text by applying text augmentation techniques on text in the \"minority\" classes of the dataset, while taking a random sample from the \"majority\" classes. The goal is to create a dataset with balanced classes."
   ]
  },
  {
   "cell_type": "markdown",
   "metadata": {},
   "source": [
    "## Import the necessary libraries"
   ]
  },
  {
   "cell_type": "code",
   "execution_count": 2,
   "metadata": {},
   "outputs": [],
   "source": [
    "import pandas as pd\n",
    "import random\n",
    "from random import shuffle\n",
    "import spacy\n",
    "import nltk\n",
    "from nltk import sent_tokenize\n",
    "from nltk.corpus import wordnet\n",
    "from nltk.corpus import stopwords\n",
    "random.seed(1)"
   ]
  },
  {
   "cell_type": "code",
   "execution_count": 3,
   "metadata": {},
   "outputs": [
    {
     "name": "stdout",
     "output_type": "stream",
     "text": [
      "Pretty printing has been turned OFF\n"
     ]
    }
   ],
   "source": [
    "%pprint"
   ]
  },
  {
   "cell_type": "markdown",
   "metadata": {},
   "source": [
    "## Define functions"
   ]
  },
  {
   "cell_type": "markdown",
   "metadata": {},
   "source": [
    "### Random Swap"
   ]
  },
  {
   "cell_type": "markdown",
   "metadata": {},
   "source": [
    "Randomly swap two words in the sentence n times"
   ]
  },
  {
   "cell_type": "code",
   "execution_count": 4,
   "metadata": {},
   "outputs": [],
   "source": [
    "def swap_word(new_words):\n",
    "\trandom_idx_1 = random.randint(0, len(new_words)-1)\n",
    "\trandom_idx_2 = random_idx_1\n",
    "\tcounter = 0\n",
    "\twhile random_idx_2 == random_idx_1:\n",
    "\t\trandom_idx_2 = random.randint(0, len(new_words)-1)\n",
    "\t\tcounter += 1\n",
    "\t\tif counter > 3:\n",
    "\t\t\treturn new_words\n",
    "\tnew_words[random_idx_1], new_words[random_idx_2] = new_words[random_idx_2], new_words[random_idx_1] \n",
    "\treturn new_words"
   ]
  },
  {
   "cell_type": "code",
   "execution_count": 5,
   "metadata": {},
   "outputs": [],
   "source": [
    "def random_swap(words, n=4):\n",
    "\tnew_words = words.copy()\n",
    "\tfor _ in range(n):\n",
    "\t\tnew_words = swap_word(new_words)\n",
    "\treturn new_words"
   ]
  },
  {
   "cell_type": "markdown",
   "metadata": {},
   "source": [
    "### Random Deletion"
   ]
  },
  {
   "cell_type": "markdown",
   "metadata": {},
   "source": [
    "Randomly delete words from the sentence with probability p"
   ]
  },
  {
   "cell_type": "code",
   "execution_count": 6,
   "metadata": {},
   "outputs": [],
   "source": [
    "def random_deletion(words, p=0.4):\n",
    "\n",
    "\t#obviously, if there's only one word, don't delete it\n",
    "\tif len(words) == 1:\n",
    "\t\treturn words\n",
    "\n",
    "\t#randomly delete words with probability p\n",
    "\tnew_words = []\n",
    "\tfor word in words:\n",
    "\t\tr = random.uniform(0, 1)\n",
    "\t\tif r > p:\n",
    "\t\t\tnew_words.append(word)\n",
    "\n",
    "\t#if you end up deleting all words, just return a random word\n",
    "\tif len(new_words) == 0:\n",
    "\t\trand_int = random.randint(0, len(words)-1)\n",
    "\t\treturn [words[rand_int]]\n",
    "\n",
    "\treturn new_words"
   ]
  },
  {
   "cell_type": "markdown",
   "metadata": {},
   "source": [
    "### Random insertion"
   ]
  },
  {
   "cell_type": "markdown",
   "metadata": {},
   "source": [
    "Randomly insert n words into the sentence"
   ]
  },
  {
   "cell_type": "code",
   "execution_count": 7,
   "metadata": {},
   "outputs": [],
   "source": [
    "def random_insertion(words, n=3):\n",
    "\tnew_words = words.copy()\n",
    "\tfor _ in range(n):\n",
    "\t\tadd_word(new_words)\n",
    "\treturn new_words"
   ]
  },
  {
   "cell_type": "code",
   "execution_count": 8,
   "metadata": {},
   "outputs": [],
   "source": [
    "def add_word(new_words):\n",
    "\tsynonyms = []\n",
    "\tcounter = 0\n",
    "\twhile len(synonyms) < 1:\n",
    "\t\trandom_word = new_words[random.randint(0, len(new_words)-1)]\n",
    "\t\tsynonyms = get_synonyms(random_word)\n",
    "\t\tcounter += 1\n",
    "\t\tif counter >= 10:\n",
    "\t\t\treturn\n",
    "\trandom_synonym = synonyms[0]\n",
    "\trandom_idx = random.randint(0, len(new_words)-1)\n",
    "\tnew_words.insert(random_idx, random_synonym)"
   ]
  },
  {
   "cell_type": "code",
   "execution_count": 9,
   "metadata": {},
   "outputs": [],
   "source": [
    "def get_synonyms(word):\n",
    "\tsynonyms = set()\n",
    "\tfor syn in wordnet.synsets(word): \n",
    "\t\tfor l in syn.lemmas(): \n",
    "\t\t\tsynonym = l.name().replace(\"_\", \" \").replace(\"-\", \" \").lower()\n",
    "\t\t\tsynonym = \"\".join([char for char in synonym if char in ' qwertyuiopasdfghjklzxcvbnm'])\n",
    "\t\t\tsynonyms.add(synonym) \n",
    "\tif word in synonyms:\n",
    "\t\tsynonyms.remove(word)\n",
    "\treturn list(synonyms)"
   ]
  },
  {
   "cell_type": "markdown",
   "metadata": {},
   "source": [
    "### Other functions"
   ]
  },
  {
   "cell_type": "code",
   "execution_count": 10,
   "metadata": {},
   "outputs": [],
   "source": [
    "def read_csv(path):\n",
    "    \n",
    "    \"\"\"This function reads a CSV file from a specified filepath, while preserving the data types of each variable.\n",
    "    Source: https://stackoverflow.com/questions/50047237/how-to-preserve-dtypes-of-dataframes-when-using-to-csv/50051542#50051542\"\"\"\n",
    "    \n",
    "    # Read types first line of csv\n",
    "    dtypes = {key:value for (key,value) in pd.read_csv(path, nrows=1).iloc[0].to_dict().items() if 'date' not in value}\n",
    "\n",
    "    parse_dates = [key for (key,value) in pd.read_csv(path, \n",
    "                   nrows=1).iloc[0].to_dict().items() if 'date' in value]\n",
    "    \n",
    "    # Read the rest of the lines with the types from above\n",
    "    return pd.read_csv(path, dtype=dtypes, parse_dates=parse_dates, skiprows=[1])"
   ]
  },
  {
   "cell_type": "code",
   "execution_count": 11,
   "metadata": {},
   "outputs": [],
   "source": [
    "def augment(data, n, scam_type):\n",
    "    \n",
    "    \"\"\"This function creates n synthetic reports using three main methods and returns a dataframe:\n",
    "    1. Random swap\n",
    "    2. Random deletion\n",
    "    3. Random insertion \"\"\"\n",
    "    \n",
    "    report_list = list(data[data['scam_type'] == scam_type]['preprocessed_text'])\n",
    "    func_list = [random_swap, random_deletion, random_insertion]\n",
    "    \n",
    "    augmented_reports = []\n",
    "    \n",
    "    for i in range(n): \n",
    "\n",
    "        augmented_report = []\n",
    "        # Randomly select one report from the list of reports\n",
    "        one_random_report = random.choice(report_list) \n",
    "        for sent in sent_tokenize(one_random_report):\n",
    "\n",
    "            # For each sentence of the random report, apply a random function\n",
    "            random_func = random.choice(func_list)\n",
    "            if random_func == random_swap:\n",
    "                sent = ' '.join(random_swap(sent.split(), n=4))\n",
    "            elif random_func == random_deletion:\n",
    "                sent = ' '.join(random_deletion(sent.split(), p=0.30))\n",
    "            elif random_func == random_insertion:\n",
    "                sent = ' '.join(random_insertion(sent.split(), n=2))\n",
    "\n",
    "            # Append the augmented sentence \n",
    "            augmented_report.append(sent)\n",
    "\n",
    "        augmented_reports.append(' '.join(augmented_report))\n",
    "    \n",
    "    return pd.DataFrame({\"preprocessed_text\": augmented_reports, \"scam_type\": scam_type})"
   ]
  },
  {
   "cell_type": "code",
   "execution_count": 12,
   "metadata": {},
   "outputs": [],
   "source": [
    "def remove_stopwords(text_string):\n",
    "\n",
    "    \"\"\"This function takes a text string as input, tokenises it and returns a list of tokens without stopwords.\"\"\"\n",
    "    \n",
    "    word_list = [word for word in nltk.word_tokenize(text_string) if not word in set(stopwords.words('english'))]\n",
    "    text = ' '.join(word_list).replace(' .', '').replace(' ,', '').replace('< ', '<').replace(' >', '>')\n",
    "\n",
    "    return text"
   ]
  },
  {
   "cell_type": "code",
   "execution_count": 13,
   "metadata": {},
   "outputs": [],
   "source": [
    "def lemmatise(text_string):\n",
    "\n",
    "    \"\"\"This function takes a tokenised text string as input and returns another tokenised text string after lemmatisation.\"\"\"\n",
    "\n",
    "    list_of_tokens = [token.lemma_ for token in nlp(text_string)]\n",
    "    text = ' '.join(list_of_tokens).replace('< ', '<').replace(' >', '>')\n",
    "    \n",
    "    return text"
   ]
  },
  {
   "cell_type": "code",
   "execution_count": 14,
   "metadata": {},
   "outputs": [],
   "source": [
    "def data_top_n(data, n):\n",
    "    \n",
    "    \"\"\"This function takes a scam dataframe and returns records corresponding to the top n categories.\"\"\"\n",
    "    \n",
    "    count_df = data[['scam_type','preprocessed_text']].groupby('scam_type').aggregate({'preprocessed_text':'count'}).reset_index().sort_values('preprocessed_text',ascending=False)\n",
    "    top_n_scam_types = list(count_df.nlargest(n, 'preprocessed_text').scam_type)\n",
    "    \n",
    "    return data[data['scam_type'].isin(top_n_scam_types)]"
   ]
  },
  {
   "cell_type": "code",
   "execution_count": 15,
   "metadata": {},
   "outputs": [],
   "source": [
    "def augment_dataset(data, threshold=300):\n",
    "    \n",
    "    \"\"\"This function takes a scam dataframe as input and does the following:\n",
    "    1. For records corresponding to scam types equal to or above the threshold, take a random sample of the threshold size;\n",
    "    2. For records corresponding to scam types below the threshold, perform text augmentation to make up the numbers.\"\"\"\n",
    "    \n",
    "    count = dict(data.scam_type.value_counts())\n",
    "    \n",
    "    # Initialise an empty dataframe\n",
    "    df = pd.DataFrame({\"preprocessed_text\": [], \"scam_type\": []})\n",
    "\n",
    "    for scam_type, count in count.items():\n",
    "\n",
    "        if count >= threshold:\n",
    "            df = pd.concat([df, data[data.scam_type == scam_type].sample(threshold)])\n",
    "\n",
    "        else:\n",
    "            augment_num = threshold - count\n",
    "            df = pd.concat([df, data[data.scam_type == scam_type], augment(data=data, n=augment_num, scam_type=scam_type)])\n",
    "\n",
    "    return df"
   ]
  },
  {
   "cell_type": "markdown",
   "metadata": {},
   "source": [
    "## Test on Dummy Text"
   ]
  },
  {
   "cell_type": "code",
   "execution_count": 16,
   "metadata": {},
   "outputs": [],
   "source": [
    "test = \"I received a call with an automated voice claiming to be from the Singapore Police Force.\""
   ]
  },
  {
   "cell_type": "markdown",
   "metadata": {},
   "source": [
    "### Random Swap"
   ]
  },
  {
   "cell_type": "code",
   "execution_count": 17,
   "metadata": {},
   "outputs": [
    {
     "data": {
      "text/plain": [
       "'I received with claiming a an automated voice call to be from Police Singapore Force. the'"
      ]
     },
     "execution_count": 17,
     "metadata": {},
     "output_type": "execute_result"
    }
   ],
   "source": [
    "' '.join(random_swap(test.split()))"
   ]
  },
  {
   "cell_type": "markdown",
   "metadata": {},
   "source": [
    "### Random deletion"
   ]
  },
  {
   "cell_type": "code",
   "execution_count": 18,
   "metadata": {},
   "outputs": [
    {
     "data": {
      "text/plain": [
       "'I call with an voice claiming be from Police Force.'"
      ]
     },
     "execution_count": 18,
     "metadata": {},
     "output_type": "execute_result"
    }
   ],
   "source": [
    "' '.join(random_deletion(test.split()))"
   ]
  },
  {
   "cell_type": "markdown",
   "metadata": {},
   "source": [
    "### Random Insertion"
   ]
  },
  {
   "cell_type": "code",
   "execution_count": 19,
   "metadata": {},
   "outputs": [
    {
     "data": {
      "text/plain": [
       "'I received a call with an automated voice claiming to be from the machine controlled vocalization Singapore Police  Force.'"
      ]
     },
     "execution_count": 19,
     "metadata": {},
     "output_type": "execute_result"
    }
   ],
   "source": [
    "' '.join(random_insertion(test.split()))"
   ]
  },
  {
   "cell_type": "markdown",
   "metadata": {},
   "source": [
    "## Import dataset"
   ]
  },
  {
   "cell_type": "code",
   "execution_count": 20,
   "metadata": {},
   "outputs": [
    {
     "data": {
      "text/html": [
       "<div>\n",
       "<style scoped>\n",
       "    .dataframe tbody tr th:only-of-type {\n",
       "        vertical-align: middle;\n",
       "    }\n",
       "\n",
       "    .dataframe tbody tr th {\n",
       "        vertical-align: top;\n",
       "    }\n",
       "\n",
       "    .dataframe thead th {\n",
       "        text-align: right;\n",
       "    }\n",
       "</style>\n",
       "<table border=\"1\" class=\"dataframe\">\n",
       "  <thead>\n",
       "    <tr style=\"text-align: right;\">\n",
       "      <th></th>\n",
       "      <th>preprocessed_text</th>\n",
       "      <th>scam_type</th>\n",
       "    </tr>\n",
       "  </thead>\n",
       "  <tbody>\n",
       "    <tr>\n",
       "      <th>0</th>\n",
       "      <td>they call me by whatsapp it was strange for th...</td>\n",
       "      <td>Impersonation Scam</td>\n",
       "    </tr>\n",
       "    <tr>\n",
       "      <th>1</th>\n",
       "      <td>it happened this morning hrs i received a phon...</td>\n",
       "      <td>Phishing Scam</td>\n",
       "    </tr>\n",
       "    <tr>\n",
       "      <th>2</th>\n",
       "      <td>i rceived a call from a lady claiming to be ca...</td>\n",
       "      <td>Phishing Scam</td>\n",
       "    </tr>\n",
       "    <tr>\n",
       "      <th>3</th>\n",
       "      <td>details i received a call from what seemed lik...</td>\n",
       "      <td>Impersonation Scam</td>\n",
       "    </tr>\n",
       "    <tr>\n",
       "      <th>4</th>\n",
       "      <td>an impersonated junior technical staff called ...</td>\n",
       "      <td>Phishing Scam</td>\n",
       "    </tr>\n",
       "  </tbody>\n",
       "</table>\n",
       "</div>"
      ],
      "text/plain": [
       "                                   preprocessed_text           scam_type\n",
       "0  they call me by whatsapp it was strange for th...  Impersonation Scam\n",
       "1  it happened this morning hrs i received a phon...       Phishing Scam\n",
       "2  i rceived a call from a lady claiming to be ca...       Phishing Scam\n",
       "3  details i received a call from what seemed lik...  Impersonation Scam\n",
       "4  an impersonated junior technical staff called ...       Phishing Scam"
      ]
     },
     "execution_count": 20,
     "metadata": {},
     "output_type": "execute_result"
    }
   ],
   "source": [
    "data = read_csv(\"Data/scam_data_4.csv\")[['preprocessed_text', 'scam_type']]\n",
    "data.head()"
   ]
  },
  {
   "cell_type": "code",
   "execution_count": 16,
   "metadata": {},
   "outputs": [
    {
     "data": {
      "text/html": [
       "<div>\n",
       "<style scoped>\n",
       "    .dataframe tbody tr th:only-of-type {\n",
       "        vertical-align: middle;\n",
       "    }\n",
       "\n",
       "    .dataframe tbody tr th {\n",
       "        vertical-align: top;\n",
       "    }\n",
       "\n",
       "    .dataframe thead th {\n",
       "        text-align: right;\n",
       "    }\n",
       "</style>\n",
       "<table border=\"1\" class=\"dataframe\">\n",
       "  <thead>\n",
       "    <tr style=\"text-align: right;\">\n",
       "      <th></th>\n",
       "      <th>preprocessed_text</th>\n",
       "      <th>scam_type</th>\n",
       "    </tr>\n",
       "  </thead>\n",
       "  <tbody>\n",
       "    <tr>\n",
       "      <th>0</th>\n",
       "      <td>they call me by whatsapp it was strange for th...</td>\n",
       "      <td>Impersonation Scam</td>\n",
       "    </tr>\n",
       "    <tr>\n",
       "      <th>1</th>\n",
       "      <td>it happened this morning hrs i received a phon...</td>\n",
       "      <td>Phishing Scam</td>\n",
       "    </tr>\n",
       "    <tr>\n",
       "      <th>2</th>\n",
       "      <td>i rceived a call from a lady claiming to be ca...</td>\n",
       "      <td>Phishing Scam</td>\n",
       "    </tr>\n",
       "    <tr>\n",
       "      <th>3</th>\n",
       "      <td>details i received a call from what seemed lik...</td>\n",
       "      <td>Impersonation Scam</td>\n",
       "    </tr>\n",
       "    <tr>\n",
       "      <th>4</th>\n",
       "      <td>an impersonated junior technical staff called ...</td>\n",
       "      <td>Phishing Scam</td>\n",
       "    </tr>\n",
       "  </tbody>\n",
       "</table>\n",
       "</div>"
      ],
      "text/plain": [
       "                                   preprocessed_text           scam_type\n",
       "0  they call me by whatsapp it was strange for th...  Impersonation Scam\n",
       "1  it happened this morning hrs i received a phon...       Phishing Scam\n",
       "2  i rceived a call from a lady claiming to be ca...       Phishing Scam\n",
       "3  details i received a call from what seemed lik...  Impersonation Scam\n",
       "4  an impersonated junior technical staff called ...       Phishing Scam"
      ]
     },
     "execution_count": 16,
     "metadata": {},
     "output_type": "execute_result"
    }
   ],
   "source": [
    "data = read_csv(\"Data/scam_data_4_v1.csv\")[['preprocessed_text', 'scam_type']]\n",
    "data.head()"
   ]
  },
  {
   "cell_type": "code",
   "execution_count": 21,
   "metadata": {},
   "outputs": [
    {
     "name": "stdout",
     "output_type": "stream",
     "text": [
      "<class 'pandas.core.frame.DataFrame'>\n",
      "Int64Index: 3818 entries, 0 to 4553\n",
      "Data columns (total 2 columns):\n",
      " #   Column             Non-Null Count  Dtype \n",
      "---  ------             --------------  ----- \n",
      " 0   preprocessed_text  3818 non-null   object\n",
      " 1   scam_type          3818 non-null   object\n",
      "dtypes: object(2)\n",
      "memory usage: 89.5+ KB\n"
     ]
    }
   ],
   "source": [
    "# Convert scam type from categorical to string data type \n",
    "data.scam_type = data.scam_type.astype('str')\n",
    "\n",
    "# Extract records corresponding to top 6 scam types\n",
    "data = data_top_n(data=data, n=6)\n",
    "\n",
    "# Sanity check\n",
    "data.info()"
   ]
  },
  {
   "cell_type": "code",
   "execution_count": 22,
   "metadata": {},
   "outputs": [
    {
     "data": {
      "text/plain": [
       "{'Impersonation Scam': 1611, 'Online Purchase Scam': 812, 'Internet Love Scam': 707, 'Investment Scam': 264, 'Home/Room Rental Scam': 227, 'Credit-for-Sex Scam': 197}"
      ]
     },
     "execution_count": 22,
     "metadata": {},
     "output_type": "execute_result"
    }
   ],
   "source": [
    "count = dict(data.scam_type.value_counts())\n",
    "count"
   ]
  },
  {
   "cell_type": "markdown",
   "metadata": {},
   "source": [
    "## Perform text augmentation"
   ]
  },
  {
   "cell_type": "markdown",
   "metadata": {},
   "source": [
    "Set a threshold (e.g. threshold = 400)\n",
    "- For scam types with counts equal to or above the threshold, take a random sample of the threshold size\n",
    "- For scam types with counts below the threshold, perform text augmentation to make up the numbers."
   ]
  },
  {
   "cell_type": "code",
   "execution_count": 19,
   "metadata": {},
   "outputs": [
    {
     "data": {
      "text/plain": [
       "Investment Scam          400\n",
       "Home/Room Rental Scam    400\n",
       "Credit-for-Sex Scam      400\n",
       "Online Purchase Scam     400\n",
       "Impersonation Scam       400\n",
       "Internet Love Scam       400\n",
       "Name: scam_type, dtype: int64"
      ]
     },
     "execution_count": 19,
     "metadata": {},
     "output_type": "execute_result"
    }
   ],
   "source": [
    "# Set a threshold\n",
    "count_threshold = 400\n",
    "\n",
    "# Perform text augmentation\n",
    "augmented_data = augment_dataset(data=data, threshold=count_threshold)\n",
    "\n",
    "# Check value counts of scam types\n",
    "augmented_data.scam_type.value_counts()"
   ]
  },
  {
   "cell_type": "code",
   "execution_count": 20,
   "metadata": {},
   "outputs": [
    {
     "data": {
      "text/html": [
       "<div>\n",
       "<style scoped>\n",
       "    .dataframe tbody tr th:only-of-type {\n",
       "        vertical-align: middle;\n",
       "    }\n",
       "\n",
       "    .dataframe tbody tr th {\n",
       "        vertical-align: top;\n",
       "    }\n",
       "\n",
       "    .dataframe thead th {\n",
       "        text-align: right;\n",
       "    }\n",
       "</style>\n",
       "<table border=\"1\" class=\"dataframe\">\n",
       "  <thead>\n",
       "    <tr style=\"text-align: right;\">\n",
       "      <th></th>\n",
       "      <th>preprocessed_text</th>\n",
       "      <th>scam_type</th>\n",
       "    </tr>\n",
       "  </thead>\n",
       "  <tbody>\n",
       "    <tr>\n",
       "      <th>330</th>\n",
       "      <td>i received a call from the guy called me sayin...</td>\n",
       "      <td>Impersonation Scam</td>\n",
       "    </tr>\n",
       "    <tr>\n",
       "      <th>375</th>\n",
       "      <td>i received an unsolicited call in regard to my...</td>\n",
       "      <td>Impersonation Scam</td>\n",
       "    </tr>\n",
       "    <tr>\n",
       "      <th>984</th>\n",
       "      <td>just received a phone call. the voice is machi...</td>\n",
       "      <td>Impersonation Scam</td>\n",
       "    </tr>\n",
       "    <tr>\n",
       "      <th>1457</th>\n",
       "      <td>got an automated call from dhl singapore and p...</td>\n",
       "      <td>Impersonation Scam</td>\n",
       "    </tr>\n",
       "    <tr>\n",
       "      <th>3754</th>\n",
       "      <td>received a voice call in an automated voice in...</td>\n",
       "      <td>Impersonation Scam</td>\n",
       "    </tr>\n",
       "    <tr>\n",
       "      <th>...</th>\n",
       "      <td>...</td>\n",
       "      <td>...</td>\n",
       "    </tr>\n",
       "    <tr>\n",
       "      <th>198</th>\n",
       "      <td>girl original was from which me given rekka. w...</td>\n",
       "      <td>Credit-for-Sex Scam</td>\n",
       "    </tr>\n",
       "    <tr>\n",
       "      <th>199</th>\n",
       "      <td>i got this email times already.. and keep sayi...</td>\n",
       "      <td>Credit-for-Sex Scam</td>\n",
       "    </tr>\n",
       "    <tr>\n",
       "      <th>200</th>\n",
       "      <td>basically cute saw i girl on facebook and so t...</td>\n",
       "      <td>Credit-for-Sex Scam</td>\n",
       "    </tr>\n",
       "    <tr>\n",
       "      <th>201</th>\n",
       "      <td>counter collect kidney care price then assigne...</td>\n",
       "      <td>Credit-for-Sex Scam</td>\n",
       "    </tr>\n",
       "    <tr>\n",
       "      <th>202</th>\n",
       "      <td>she said have to pay only coating action for a...</td>\n",
       "      <td>Credit-for-Sex Scam</td>\n",
       "    </tr>\n",
       "  </tbody>\n",
       "</table>\n",
       "<p>2400 rows × 2 columns</p>\n",
       "</div>"
      ],
      "text/plain": [
       "                                      preprocessed_text            scam_type\n",
       "330   i received a call from the guy called me sayin...   Impersonation Scam\n",
       "375   i received an unsolicited call in regard to my...   Impersonation Scam\n",
       "984   just received a phone call. the voice is machi...   Impersonation Scam\n",
       "1457  got an automated call from dhl singapore and p...   Impersonation Scam\n",
       "3754  received a voice call in an automated voice in...   Impersonation Scam\n",
       "...                                                 ...                  ...\n",
       "198   girl original was from which me given rekka. w...  Credit-for-Sex Scam\n",
       "199   i got this email times already.. and keep sayi...  Credit-for-Sex Scam\n",
       "200   basically cute saw i girl on facebook and so t...  Credit-for-Sex Scam\n",
       "201   counter collect kidney care price then assigne...  Credit-for-Sex Scam\n",
       "202   she said have to pay only coating action for a...  Credit-for-Sex Scam\n",
       "\n",
       "[2400 rows x 2 columns]"
      ]
     },
     "execution_count": 20,
     "metadata": {},
     "output_type": "execute_result"
    }
   ],
   "source": [
    "augmented_data"
   ]
  },
  {
   "cell_type": "markdown",
   "metadata": {},
   "source": [
    "## Remove stopwords and lemmatise text"
   ]
  },
  {
   "cell_type": "code",
   "execution_count": 21,
   "metadata": {},
   "outputs": [],
   "source": [
    "nlp = spacy.load('en_core_web_sm')"
   ]
  },
  {
   "cell_type": "code",
   "execution_count": 22,
   "metadata": {},
   "outputs": [
    {
     "data": {
      "text/html": [
       "<div>\n",
       "<style scoped>\n",
       "    .dataframe tbody tr th:only-of-type {\n",
       "        vertical-align: middle;\n",
       "    }\n",
       "\n",
       "    .dataframe tbody tr th {\n",
       "        vertical-align: top;\n",
       "    }\n",
       "\n",
       "    .dataframe thead th {\n",
       "        text-align: right;\n",
       "    }\n",
       "</style>\n",
       "<table border=\"1\" class=\"dataframe\">\n",
       "  <thead>\n",
       "    <tr style=\"text-align: right;\">\n",
       "      <th></th>\n",
       "      <th>preprocessed_text</th>\n",
       "      <th>scam_type</th>\n",
       "      <th>stopwords_removed</th>\n",
       "      <th>lemmatised</th>\n",
       "    </tr>\n",
       "  </thead>\n",
       "  <tbody>\n",
       "    <tr>\n",
       "      <th>330</th>\n",
       "      <td>i received a call from the guy called me sayin...</td>\n",
       "      <td>Impersonation Scam</td>\n",
       "      <td>received call guy called saying dbs bank accou...</td>\n",
       "      <td>receive call guy call say dbs bank account blo...</td>\n",
       "    </tr>\n",
       "    <tr>\n",
       "      <th>375</th>\n",
       "      <td>i received an unsolicited call in regard to my...</td>\n",
       "      <td>Impersonation Scam</td>\n",
       "      <td>received unsolicited call regard mycredit card...</td>\n",
       "      <td>receive unsolicited call regard mycredit card ...</td>\n",
       "    </tr>\n",
       "    <tr>\n",
       "      <th>984</th>\n",
       "      <td>just received a phone call. the voice is machi...</td>\n",
       "      <td>Impersonation Scam</td>\n",
       "      <td>received phone call voice machinegenerated cla...</td>\n",
       "      <td>receive phone call voice machinegenerat claim ...</td>\n",
       "    </tr>\n",
       "    <tr>\n",
       "      <th>1457</th>\n",
       "      <td>got an automated call from dhl singapore and p...</td>\n",
       "      <td>Impersonation Scam</td>\n",
       "      <td>got automated call dhl singapore press talk so...</td>\n",
       "      <td>get automate call dhl singapore press talk som...</td>\n",
       "    </tr>\n",
       "    <tr>\n",
       "      <th>3754</th>\n",
       "      <td>received a voice call in an automated voice in...</td>\n",
       "      <td>Impersonation Scam</td>\n",
       "      <td>received voice call automated voice mandarin m...</td>\n",
       "      <td>receive voice call automate voice mandarin may...</td>\n",
       "    </tr>\n",
       "    <tr>\n",
       "      <th>72</th>\n",
       "      <td>a call came at. private message on jun from im...</td>\n",
       "      <td>Impersonation Scam</td>\n",
       "      <td>met attractive lady ask chat sex offered hrs r...</td>\n",
       "      <td>meet attractive lady ask chat sex offer hrs ra...</td>\n",
       "    </tr>\n",
       "    <tr>\n",
       "      <th>1237</th>\n",
       "      <td>received an automated voice call, in a heavy c...</td>\n",
       "      <td>Impersonation Scam</td>\n",
       "      <td>received automated voice call heavy chinese pe...</td>\n",
       "      <td>receive automate voice call heavy chinese peop...</td>\n",
       "    </tr>\n",
       "    <tr>\n",
       "      <th>2377</th>\n",
       "      <td>avoid picking up this number. an automated voi...</td>\n",
       "      <td>Impersonation Scam</td>\n",
       "      <td>avoid picking number automated voice message c...</td>\n",
       "      <td>avoid pick number automate voice message chine...</td>\n",
       "    </tr>\n",
       "    <tr>\n",
       "      <th>2438</th>\n",
       "      <td>received a call from at. private message telli...</td>\n",
       "      <td>Impersonation Scam</td>\n",
       "      <td>received call private message telling recorded...</td>\n",
       "      <td>receive call private message tell recorded voi...</td>\n",
       "    </tr>\n",
       "    <tr>\n",
       "      <th>908</th>\n",
       "      <td>a woman with strong indian accent self declare...</td>\n",
       "      <td>Impersonation Scam</td>\n",
       "      <td>woman strong indian accent self declared singt...</td>\n",
       "      <td>woman strong indian accent self declare singte...</td>\n",
       "    </tr>\n",
       "  </tbody>\n",
       "</table>\n",
       "</div>"
      ],
      "text/plain": [
       "                                      preprocessed_text           scam_type  \\\n",
       "330   i received a call from the guy called me sayin...  Impersonation Scam   \n",
       "375   i received an unsolicited call in regard to my...  Impersonation Scam   \n",
       "984   just received a phone call. the voice is machi...  Impersonation Scam   \n",
       "1457  got an automated call from dhl singapore and p...  Impersonation Scam   \n",
       "3754  received a voice call in an automated voice in...  Impersonation Scam   \n",
       "72    a call came at. private message on jun from im...  Impersonation Scam   \n",
       "1237  received an automated voice call, in a heavy c...  Impersonation Scam   \n",
       "2377  avoid picking up this number. an automated voi...  Impersonation Scam   \n",
       "2438  received a call from at. private message telli...  Impersonation Scam   \n",
       "908   a woman with strong indian accent self declare...  Impersonation Scam   \n",
       "\n",
       "                                      stopwords_removed  \\\n",
       "330   received call guy called saying dbs bank accou...   \n",
       "375   received unsolicited call regard mycredit card...   \n",
       "984   received phone call voice machinegenerated cla...   \n",
       "1457  got automated call dhl singapore press talk so...   \n",
       "3754  received voice call automated voice mandarin m...   \n",
       "72    met attractive lady ask chat sex offered hrs r...   \n",
       "1237  received automated voice call heavy chinese pe...   \n",
       "2377  avoid picking number automated voice message c...   \n",
       "2438  received call private message telling recorded...   \n",
       "908   woman strong indian accent self declared singt...   \n",
       "\n",
       "                                             lemmatised  \n",
       "330   receive call guy call say dbs bank account blo...  \n",
       "375   receive unsolicited call regard mycredit card ...  \n",
       "984   receive phone call voice machinegenerat claim ...  \n",
       "1457  get automate call dhl singapore press talk som...  \n",
       "3754  receive voice call automate voice mandarin may...  \n",
       "72    meet attractive lady ask chat sex offer hrs ra...  \n",
       "1237  receive automate voice call heavy chinese peop...  \n",
       "2377  avoid pick number automate voice message chine...  \n",
       "2438  receive call private message tell recorded voi...  \n",
       "908   woman strong indian accent self declare singte...  "
      ]
     },
     "execution_count": 22,
     "metadata": {},
     "output_type": "execute_result"
    }
   ],
   "source": [
    "for index, text in augmented_data.iterrows():\n",
    "\n",
    "    stopwords_removed = remove_stopwords(text['preprocessed_text'])\n",
    "    augmented_data.loc[index, 'stopwords_removed'] = stopwords_removed\n",
    "\n",
    "    lemmatised = lemmatise(stopwords_removed)\n",
    "    augmented_data.loc[index, 'lemmatised'] = lemmatised\n",
    "\n",
    "augmented_data.head(10)"
   ]
  },
  {
   "cell_type": "markdown",
   "metadata": {},
   "source": [
    "## Compute lengths of preprocessed and lemmatised text"
   ]
  },
  {
   "cell_type": "code",
   "execution_count": 23,
   "metadata": {},
   "outputs": [],
   "source": [
    "augmented_data['len_preprocessed_text'] = augmented_data.apply(lambda x: len(x['preprocessed_text'].split()), axis=1)\n",
    "augmented_data['len_lemmatised'] = augmented_data.apply(lambda x: len(x['lemmatised'].split()), axis=1)"
   ]
  },
  {
   "cell_type": "code",
   "execution_count": 24,
   "metadata": {},
   "outputs": [
    {
     "data": {
      "text/html": [
       "<div>\n",
       "<style scoped>\n",
       "    .dataframe tbody tr th:only-of-type {\n",
       "        vertical-align: middle;\n",
       "    }\n",
       "\n",
       "    .dataframe tbody tr th {\n",
       "        vertical-align: top;\n",
       "    }\n",
       "\n",
       "    .dataframe thead th {\n",
       "        text-align: right;\n",
       "    }\n",
       "</style>\n",
       "<table border=\"1\" class=\"dataframe\">\n",
       "  <thead>\n",
       "    <tr style=\"text-align: right;\">\n",
       "      <th></th>\n",
       "      <th>preprocessed_text</th>\n",
       "      <th>scam_type</th>\n",
       "      <th>stopwords_removed</th>\n",
       "      <th>lemmatised</th>\n",
       "      <th>len_preprocessed_text</th>\n",
       "      <th>len_lemmatised</th>\n",
       "    </tr>\n",
       "  </thead>\n",
       "  <tbody>\n",
       "    <tr>\n",
       "      <th>330</th>\n",
       "      <td>i received a call from the guy called me sayin...</td>\n",
       "      <td>Impersonation Scam</td>\n",
       "      <td>received call guy called saying dbs bank accou...</td>\n",
       "      <td>receive call guy call say dbs bank account blo...</td>\n",
       "      <td>99</td>\n",
       "      <td>44</td>\n",
       "    </tr>\n",
       "    <tr>\n",
       "      <th>375</th>\n",
       "      <td>i received an unsolicited call in regard to my...</td>\n",
       "      <td>Impersonation Scam</td>\n",
       "      <td>received unsolicited call regard mycredit card...</td>\n",
       "      <td>receive unsolicited call regard mycredit card ...</td>\n",
       "      <td>107</td>\n",
       "      <td>55</td>\n",
       "    </tr>\n",
       "    <tr>\n",
       "      <th>984</th>\n",
       "      <td>just received a phone call. the voice is machi...</td>\n",
       "      <td>Impersonation Scam</td>\n",
       "      <td>received phone call voice machinegenerated cla...</td>\n",
       "      <td>receive phone call voice machinegenerat claim ...</td>\n",
       "      <td>64</td>\n",
       "      <td>30</td>\n",
       "    </tr>\n",
       "    <tr>\n",
       "      <th>1457</th>\n",
       "      <td>got an automated call from dhl singapore and p...</td>\n",
       "      <td>Impersonation Scam</td>\n",
       "      <td>got automated call dhl singapore press talk so...</td>\n",
       "      <td>get automate call dhl singapore press talk som...</td>\n",
       "      <td>340</td>\n",
       "      <td>155</td>\n",
       "    </tr>\n",
       "    <tr>\n",
       "      <th>3754</th>\n",
       "      <td>received a voice call in an automated voice in...</td>\n",
       "      <td>Impersonation Scam</td>\n",
       "      <td>received voice call automated voice mandarin m...</td>\n",
       "      <td>receive voice call automate voice mandarin may...</td>\n",
       "      <td>38</td>\n",
       "      <td>19</td>\n",
       "    </tr>\n",
       "    <tr>\n",
       "      <th>...</th>\n",
       "      <td>...</td>\n",
       "      <td>...</td>\n",
       "      <td>...</td>\n",
       "      <td>...</td>\n",
       "      <td>...</td>\n",
       "      <td>...</td>\n",
       "    </tr>\n",
       "    <tr>\n",
       "      <th>198</th>\n",
       "      <td>girl original was from which me given rekka. w...</td>\n",
       "      <td>Credit-for-Sex Scam</td>\n",
       "      <td>girl original given rekka whatsapp advertised ...</td>\n",
       "      <td>girl original give rekka whatsapp advertise na...</td>\n",
       "      <td>97</td>\n",
       "      <td>49</td>\n",
       "    </tr>\n",
       "    <tr>\n",
       "      <th>199</th>\n",
       "      <td>i got this email times already.. and keep sayi...</td>\n",
       "      <td>Credit-for-Sex Scam</td>\n",
       "      <td>got email times already. keep saying boss.</td>\n",
       "      <td>get email time already . keep say boss .</td>\n",
       "      <td>16</td>\n",
       "      <td>9</td>\n",
       "    </tr>\n",
       "    <tr>\n",
       "      <th>200</th>\n",
       "      <td>basically cute saw i girl on facebook and so t...</td>\n",
       "      <td>Credit-for-Sex Scam</td>\n",
       "      <td>basically cute saw girl facebook seems added s...</td>\n",
       "      <td>basically cute see girl facebook seem add star...</td>\n",
       "      <td>119</td>\n",
       "      <td>51</td>\n",
       "    </tr>\n",
       "    <tr>\n",
       "      <th>201</th>\n",
       "      <td>counter collect kidney care price then assigne...</td>\n",
       "      <td>Credit-for-Sex Scam</td>\n",
       "      <td>counter collect kidney care price assigned the...</td>\n",
       "      <td>counter collect kidney care price assign thera...</td>\n",
       "      <td>56</td>\n",
       "      <td>31</td>\n",
       "    </tr>\n",
       "    <tr>\n",
       "      <th>202</th>\n",
       "      <td>she said have to pay only coating action for a...</td>\n",
       "      <td>Credit-for-Sex Scam</td>\n",
       "      <td>said pay coating action application processing...</td>\n",
       "      <td>say pay coat action application processing fee...</td>\n",
       "      <td>67</td>\n",
       "      <td>33</td>\n",
       "    </tr>\n",
       "  </tbody>\n",
       "</table>\n",
       "<p>2400 rows × 6 columns</p>\n",
       "</div>"
      ],
      "text/plain": [
       "                                      preprocessed_text            scam_type  \\\n",
       "330   i received a call from the guy called me sayin...   Impersonation Scam   \n",
       "375   i received an unsolicited call in regard to my...   Impersonation Scam   \n",
       "984   just received a phone call. the voice is machi...   Impersonation Scam   \n",
       "1457  got an automated call from dhl singapore and p...   Impersonation Scam   \n",
       "3754  received a voice call in an automated voice in...   Impersonation Scam   \n",
       "...                                                 ...                  ...   \n",
       "198   girl original was from which me given rekka. w...  Credit-for-Sex Scam   \n",
       "199   i got this email times already.. and keep sayi...  Credit-for-Sex Scam   \n",
       "200   basically cute saw i girl on facebook and so t...  Credit-for-Sex Scam   \n",
       "201   counter collect kidney care price then assigne...  Credit-for-Sex Scam   \n",
       "202   she said have to pay only coating action for a...  Credit-for-Sex Scam   \n",
       "\n",
       "                                      stopwords_removed  \\\n",
       "330   received call guy called saying dbs bank accou...   \n",
       "375   received unsolicited call regard mycredit card...   \n",
       "984   received phone call voice machinegenerated cla...   \n",
       "1457  got automated call dhl singapore press talk so...   \n",
       "3754  received voice call automated voice mandarin m...   \n",
       "...                                                 ...   \n",
       "198   girl original given rekka whatsapp advertised ...   \n",
       "199          got email times already. keep saying boss.   \n",
       "200   basically cute saw girl facebook seems added s...   \n",
       "201   counter collect kidney care price assigned the...   \n",
       "202   said pay coating action application processing...   \n",
       "\n",
       "                                             lemmatised  \\\n",
       "330   receive call guy call say dbs bank account blo...   \n",
       "375   receive unsolicited call regard mycredit card ...   \n",
       "984   receive phone call voice machinegenerat claim ...   \n",
       "1457  get automate call dhl singapore press talk som...   \n",
       "3754  receive voice call automate voice mandarin may...   \n",
       "...                                                 ...   \n",
       "198   girl original give rekka whatsapp advertise na...   \n",
       "199            get email time already . keep say boss .   \n",
       "200   basically cute see girl facebook seem add star...   \n",
       "201   counter collect kidney care price assign thera...   \n",
       "202   say pay coat action application processing fee...   \n",
       "\n",
       "      len_preprocessed_text  len_lemmatised  \n",
       "330                      99              44  \n",
       "375                     107              55  \n",
       "984                      64              30  \n",
       "1457                    340             155  \n",
       "3754                     38              19  \n",
       "...                     ...             ...  \n",
       "198                      97              49  \n",
       "199                      16               9  \n",
       "200                     119              51  \n",
       "201                      56              31  \n",
       "202                      67              33  \n",
       "\n",
       "[2400 rows x 6 columns]"
      ]
     },
     "execution_count": 24,
     "metadata": {},
     "output_type": "execute_result"
    }
   ],
   "source": [
    "augmented_data"
   ]
  },
  {
   "cell_type": "markdown",
   "metadata": {},
   "source": [
    "## Save as a CSV file"
   ]
  },
  {
   "cell_type": "code",
   "execution_count": 25,
   "metadata": {},
   "outputs": [],
   "source": [
    "filename = \"Data/scam_data_4_augmented_top_\" + str(len(count)) + \"_\" + str(count_threshold) + \".csv\"\n",
    "augmented_data.to_csv(filename)"
   ]
  }
 ],
 "metadata": {
  "kernelspec": {
   "display_name": "Python 3",
   "language": "python",
   "name": "python3"
  },
  "language_info": {
   "codemirror_mode": {
    "name": "ipython",
    "version": 3
   },
   "file_extension": ".py",
   "mimetype": "text/x-python",
   "name": "python",
   "nbconvert_exporter": "python",
   "pygments_lexer": "ipython3",
   "version": "3.7.7"
  },
  "toc-autonumbering": true,
  "toc-showcode": false,
  "toc-showmarkdowntxt": false,
  "toc-showtags": false
 },
 "nbformat": 4,
 "nbformat_minor": 4
}
